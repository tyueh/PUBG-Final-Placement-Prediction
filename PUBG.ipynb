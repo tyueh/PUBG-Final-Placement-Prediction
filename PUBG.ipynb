{
 "cells": [
  {
   "cell_type": "markdown",
   "metadata": {},
   "source": [
    "# PUBG Finish Placement Prediction"
   ]
  },
  {
   "cell_type": "markdown",
   "metadata": {},
   "source": [
    "## Objective of project\n",
    "\n",
    "Battle Royale-style video games have taken the world by storm. 100 players are dropped onto an island empty-handed and must explore, scavenge, and eliminate other players until only one is left standing, all while the play zone continues to shrink. Player Unknown's Battle Grounds (PUBG) has enjoyed massive popularity. With over 50 million copies sold, it's the fifth best selling game of all time, and has millions of active monthly players. The Objective of this project is to predict, in solo mode, the final placement and understand best strategy in this game based on the data collected from PUBG via PUBG Developer API. \n",
    " "
   ]
  },
  {
   "cell_type": "markdown",
   "metadata": {},
   "source": [
    "## Approach:\n",
    "-  Perform EDA to have a better understanding of the data\n",
    "-  Preprocess the data using normalization, removing the unnecessary data points (e.g. group-mode or robots) or columns (e.g. id )\n",
    "-  Imply feature selection techniques to extract the most useful attributes for modelling\n",
    "-  Build regression of models in multiple regression (ridge/lasso), random forest, neural network, support vector machine, ensemble and boosting methods to predict the final placement\n",
    "-  Evaluate the models using the RMSE and explained variance metrics "
   ]
  },
  {
   "cell_type": "markdown",
   "metadata": {},
   "source": [
    "***\n",
    "## Exploratory Data Analysis"
   ]
  },
  {
   "cell_type": "code",
   "execution_count": 1,
   "metadata": {},
   "outputs": [],
   "source": [
    "import pandas as pd \n",
    "import numpy as np\n",
    "rand_st = 920"
   ]
  },
  {
   "cell_type": "code",
   "execution_count": 32,
   "metadata": {},
   "outputs": [],
   "source": [
    "df = pd.read_csv('PUBG.csv', na_values=['?'])"
   ]
  },
  {
   "cell_type": "code",
   "execution_count": 33,
   "metadata": {},
   "outputs": [
    {
     "name": "stdout",
     "output_type": "stream",
     "text": [
      "<class 'pandas.core.frame.DataFrame'>\n",
      "RangeIndex: 4446966 entries, 0 to 4446965\n",
      "Data columns (total 29 columns):\n",
      "Id                 object\n",
      "groupId            object\n",
      "matchId            object\n",
      "assists            int64\n",
      "boosts             int64\n",
      "damageDealt        float64\n",
      "DBNOs              int64\n",
      "headshotKills      int64\n",
      "heals              int64\n",
      "killPlace          int64\n",
      "killPoints         int64\n",
      "kills              int64\n",
      "killStreaks        int64\n",
      "longestKill        float64\n",
      "matchDuration      int64\n",
      "matchType          object\n",
      "maxPlace           int64\n",
      "numGroups          int64\n",
      "rankPoints         int64\n",
      "revives            int64\n",
      "rideDistance       float64\n",
      "roadKills          int64\n",
      "swimDistance       float64\n",
      "teamKills          int64\n",
      "vehicleDestroys    int64\n",
      "walkDistance       float64\n",
      "weaponsAcquired    int64\n",
      "winPoints          int64\n",
      "winPlacePerc       float64\n",
      "dtypes: float64(6), int64(19), object(4)\n",
      "memory usage: 983.9+ MB\n"
     ]
    }
   ],
   "source": [
    "df.info()"
   ]
  },
  {
   "cell_type": "markdown",
   "metadata": {},
   "source": [
    "#### Checking missing values"
   ]
  },
  {
   "cell_type": "code",
   "execution_count": 34,
   "metadata": {},
   "outputs": [
    {
     "name": "stdout",
     "output_type": "stream",
     "text": [
      "(4446966, 29)\n"
     ]
    },
    {
     "data": {
      "text/plain": [
       "Id                 0\n",
       "groupId            0\n",
       "matchId            0\n",
       "assists            0\n",
       "boosts             0\n",
       "damageDealt        0\n",
       "DBNOs              0\n",
       "headshotKills      0\n",
       "heals              0\n",
       "killPlace          0\n",
       "killPoints         0\n",
       "kills              0\n",
       "killStreaks        0\n",
       "longestKill        0\n",
       "matchDuration      0\n",
       "matchType          0\n",
       "maxPlace           0\n",
       "numGroups          0\n",
       "rankPoints         0\n",
       "revives            0\n",
       "rideDistance       0\n",
       "roadKills          0\n",
       "swimDistance       0\n",
       "teamKills          0\n",
       "vehicleDestroys    0\n",
       "walkDistance       0\n",
       "weaponsAcquired    0\n",
       "winPoints          0\n",
       "winPlacePerc       1\n",
       "dtype: int64"
      ]
     },
     "execution_count": 34,
     "metadata": {},
     "output_type": "execute_result"
    }
   ],
   "source": [
    "print(df.shape)\n",
    "df.isnull().sum()"
   ]
  },
  {
   "cell_type": "markdown",
   "metadata": {},
   "source": [
    "only oen row missing target value (winPlacePerc)"
   ]
  },
  {
   "cell_type": "markdown",
   "metadata": {},
   "source": [
    "#### Drop the missing values"
   ]
  },
  {
   "cell_type": "code",
   "execution_count": 35,
   "metadata": {},
   "outputs": [],
   "source": [
    "df.dropna(inplace=True)"
   ]
  },
  {
   "cell_type": "markdown",
   "metadata": {},
   "source": [
    "#### Get rid of IDs' columns"
   ]
  },
  {
   "cell_type": "code",
   "execution_count": 36,
   "metadata": {},
   "outputs": [],
   "source": [
    "df = df.drop(axis=1, columns=['Id', 'groupId', 'matchId'])"
   ]
  },
  {
   "cell_type": "markdown",
   "metadata": {},
   "source": [
    "#### Select only solo-mode data points\n",
    "This project only discuss solo mode in PUBG game."
   ]
  },
  {
   "cell_type": "code",
   "execution_count": 37,
   "metadata": {},
   "outputs": [],
   "source": [
    "df = df[df['matchType']=='solo-fpp']\n",
    "df = df.drop(axis=1, columns=['matchType'])"
   ]
  },
  {
   "cell_type": "code",
   "execution_count": 38,
   "metadata": {},
   "outputs": [
    {
     "data": {
      "text/plain": [
       "(536761, 25)"
      ]
     },
     "execution_count": 38,
     "metadata": {},
     "output_type": "execute_result"
    }
   ],
   "source": [
    "df.shape"
   ]
  },
  {
   "cell_type": "markdown",
   "metadata": {},
   "source": [
    "#### Take a look into the data set"
   ]
  },
  {
   "cell_type": "code",
   "execution_count": 39,
   "metadata": {},
   "outputs": [
    {
     "data": {
      "text/html": [
       "<div>\n",
       "<style scoped>\n",
       "    .dataframe tbody tr th:only-of-type {\n",
       "        vertical-align: middle;\n",
       "    }\n",
       "\n",
       "    .dataframe tbody tr th {\n",
       "        vertical-align: top;\n",
       "    }\n",
       "\n",
       "    .dataframe thead th {\n",
       "        text-align: right;\n",
       "    }\n",
       "</style>\n",
       "<table border=\"1\" class=\"dataframe\">\n",
       "  <thead>\n",
       "    <tr style=\"text-align: right;\">\n",
       "      <th></th>\n",
       "      <th>assists</th>\n",
       "      <th>boosts</th>\n",
       "      <th>damageDealt</th>\n",
       "      <th>DBNOs</th>\n",
       "      <th>headshotKills</th>\n",
       "      <th>heals</th>\n",
       "      <th>killPlace</th>\n",
       "      <th>killPoints</th>\n",
       "      <th>kills</th>\n",
       "      <th>killStreaks</th>\n",
       "      <th>...</th>\n",
       "      <th>revives</th>\n",
       "      <th>rideDistance</th>\n",
       "      <th>roadKills</th>\n",
       "      <th>swimDistance</th>\n",
       "      <th>teamKills</th>\n",
       "      <th>vehicleDestroys</th>\n",
       "      <th>walkDistance</th>\n",
       "      <th>weaponsAcquired</th>\n",
       "      <th>winPoints</th>\n",
       "      <th>winPlacePerc</th>\n",
       "    </tr>\n",
       "  </thead>\n",
       "  <tbody>\n",
       "    <tr>\n",
       "      <th>4</th>\n",
       "      <td>0</td>\n",
       "      <td>0</td>\n",
       "      <td>100.000</td>\n",
       "      <td>0</td>\n",
       "      <td>0</td>\n",
       "      <td>0</td>\n",
       "      <td>45</td>\n",
       "      <td>0</td>\n",
       "      <td>1</td>\n",
       "      <td>1</td>\n",
       "      <td>...</td>\n",
       "      <td>0</td>\n",
       "      <td>0.0</td>\n",
       "      <td>0</td>\n",
       "      <td>0.00</td>\n",
       "      <td>0</td>\n",
       "      <td>0</td>\n",
       "      <td>49.75</td>\n",
       "      <td>2</td>\n",
       "      <td>0</td>\n",
       "      <td>0.1875</td>\n",
       "    </tr>\n",
       "    <tr>\n",
       "      <th>7</th>\n",
       "      <td>0</td>\n",
       "      <td>0</td>\n",
       "      <td>8.538</td>\n",
       "      <td>0</td>\n",
       "      <td>0</td>\n",
       "      <td>0</td>\n",
       "      <td>48</td>\n",
       "      <td>1000</td>\n",
       "      <td>0</td>\n",
       "      <td>0</td>\n",
       "      <td>...</td>\n",
       "      <td>0</td>\n",
       "      <td>2004.0</td>\n",
       "      <td>0</td>\n",
       "      <td>0.00</td>\n",
       "      <td>0</td>\n",
       "      <td>0</td>\n",
       "      <td>1089.00</td>\n",
       "      <td>6</td>\n",
       "      <td>1500</td>\n",
       "      <td>0.7368</td>\n",
       "    </tr>\n",
       "    <tr>\n",
       "      <th>13</th>\n",
       "      <td>0</td>\n",
       "      <td>1</td>\n",
       "      <td>324.200</td>\n",
       "      <td>0</td>\n",
       "      <td>1</td>\n",
       "      <td>5</td>\n",
       "      <td>5</td>\n",
       "      <td>986</td>\n",
       "      <td>4</td>\n",
       "      <td>1</td>\n",
       "      <td>...</td>\n",
       "      <td>0</td>\n",
       "      <td>1228.0</td>\n",
       "      <td>0</td>\n",
       "      <td>76.84</td>\n",
       "      <td>0</td>\n",
       "      <td>0</td>\n",
       "      <td>2050.00</td>\n",
       "      <td>6</td>\n",
       "      <td>1462</td>\n",
       "      <td>0.8750</td>\n",
       "    </tr>\n",
       "    <tr>\n",
       "      <th>17</th>\n",
       "      <td>0</td>\n",
       "      <td>3</td>\n",
       "      <td>254.300</td>\n",
       "      <td>0</td>\n",
       "      <td>0</td>\n",
       "      <td>12</td>\n",
       "      <td>13</td>\n",
       "      <td>0</td>\n",
       "      <td>2</td>\n",
       "      <td>1</td>\n",
       "      <td>...</td>\n",
       "      <td>0</td>\n",
       "      <td>2367.0</td>\n",
       "      <td>0</td>\n",
       "      <td>15.29</td>\n",
       "      <td>0</td>\n",
       "      <td>0</td>\n",
       "      <td>1787.00</td>\n",
       "      <td>3</td>\n",
       "      <td>0</td>\n",
       "      <td>0.8211</td>\n",
       "    </tr>\n",
       "    <tr>\n",
       "      <th>35</th>\n",
       "      <td>0</td>\n",
       "      <td>0</td>\n",
       "      <td>136.900</td>\n",
       "      <td>0</td>\n",
       "      <td>0</td>\n",
       "      <td>0</td>\n",
       "      <td>37</td>\n",
       "      <td>0</td>\n",
       "      <td>1</td>\n",
       "      <td>1</td>\n",
       "      <td>...</td>\n",
       "      <td>0</td>\n",
       "      <td>0.0</td>\n",
       "      <td>0</td>\n",
       "      <td>0.00</td>\n",
       "      <td>0</td>\n",
       "      <td>0</td>\n",
       "      <td>270.70</td>\n",
       "      <td>1</td>\n",
       "      <td>0</td>\n",
       "      <td>0.3474</td>\n",
       "    </tr>\n",
       "  </tbody>\n",
       "</table>\n",
       "<p>5 rows × 25 columns</p>\n",
       "</div>"
      ],
      "text/plain": [
       "    assists  boosts  damageDealt  DBNOs  headshotKills  heals  killPlace  \\\n",
       "4         0       0      100.000      0              0      0         45   \n",
       "7         0       0        8.538      0              0      0         48   \n",
       "13        0       1      324.200      0              1      5          5   \n",
       "17        0       3      254.300      0              0     12         13   \n",
       "35        0       0      136.900      0              0      0         37   \n",
       "\n",
       "    killPoints  kills  killStreaks      ...       revives  rideDistance  \\\n",
       "4            0      1            1      ...             0           0.0   \n",
       "7         1000      0            0      ...             0        2004.0   \n",
       "13         986      4            1      ...             0        1228.0   \n",
       "17           0      2            1      ...             0        2367.0   \n",
       "35           0      1            1      ...             0           0.0   \n",
       "\n",
       "    roadKills  swimDistance  teamKills  vehicleDestroys  walkDistance  \\\n",
       "4           0          0.00          0                0         49.75   \n",
       "7           0          0.00          0                0       1089.00   \n",
       "13          0         76.84          0                0       2050.00   \n",
       "17          0         15.29          0                0       1787.00   \n",
       "35          0          0.00          0                0        270.70   \n",
       "\n",
       "    weaponsAcquired  winPoints  winPlacePerc  \n",
       "4                 2          0        0.1875  \n",
       "7                 6       1500        0.7368  \n",
       "13                6       1462        0.8750  \n",
       "17                3          0        0.8211  \n",
       "35                1          0        0.3474  \n",
       "\n",
       "[5 rows x 25 columns]"
      ]
     },
     "execution_count": 39,
     "metadata": {},
     "output_type": "execute_result"
    }
   ],
   "source": [
    "df.head()"
   ]
  },
  {
   "cell_type": "markdown",
   "metadata": {},
   "source": [
    "## save the solo mode data to csv"
   ]
  },
  {
   "cell_type": "code",
   "execution_count": 40,
   "metadata": {},
   "outputs": [],
   "source": [
    "df.to_csv('solo.csv',index=False)"
   ]
  },
  {
   "cell_type": "markdown",
   "metadata": {},
   "source": [
    "## Statistical Description"
   ]
  },
  {
   "cell_type": "code",
   "execution_count": 11,
   "metadata": {},
   "outputs": [
    {
     "data": {
      "text/html": [
       "<div>\n",
       "<style scoped>\n",
       "    .dataframe tbody tr th:only-of-type {\n",
       "        vertical-align: middle;\n",
       "    }\n",
       "\n",
       "    .dataframe tbody tr th {\n",
       "        vertical-align: top;\n",
       "    }\n",
       "\n",
       "    .dataframe thead th {\n",
       "        text-align: right;\n",
       "    }\n",
       "</style>\n",
       "<table border=\"1\" class=\"dataframe\">\n",
       "  <thead>\n",
       "    <tr style=\"text-align: right;\">\n",
       "      <th></th>\n",
       "      <th>count</th>\n",
       "      <th>mean</th>\n",
       "      <th>std</th>\n",
       "      <th>min</th>\n",
       "      <th>25%</th>\n",
       "      <th>50%</th>\n",
       "      <th>75%</th>\n",
       "      <th>max</th>\n",
       "    </tr>\n",
       "  </thead>\n",
       "  <tbody>\n",
       "    <tr>\n",
       "      <th>assists</th>\n",
       "      <td>536761.0</td>\n",
       "      <td>0.057640</td>\n",
       "      <td>0.245489</td>\n",
       "      <td>0.0</td>\n",
       "      <td>0.0000</td>\n",
       "      <td>0.0000</td>\n",
       "      <td>0.0000</td>\n",
       "      <td>5.0</td>\n",
       "    </tr>\n",
       "    <tr>\n",
       "      <th>boosts</th>\n",
       "      <td>536761.0</td>\n",
       "      <td>1.058980</td>\n",
       "      <td>1.791553</td>\n",
       "      <td>0.0</td>\n",
       "      <td>0.0000</td>\n",
       "      <td>0.0000</td>\n",
       "      <td>2.0000</td>\n",
       "      <td>28.0</td>\n",
       "    </tr>\n",
       "    <tr>\n",
       "      <th>damageDealt</th>\n",
       "      <td>536761.0</td>\n",
       "      <td>118.918804</td>\n",
       "      <td>158.345782</td>\n",
       "      <td>0.0</td>\n",
       "      <td>0.0000</td>\n",
       "      <td>75.7900</td>\n",
       "      <td>171.0000</td>\n",
       "      <td>2305.0</td>\n",
       "    </tr>\n",
       "    <tr>\n",
       "      <th>DBNOs</th>\n",
       "      <td>536761.0</td>\n",
       "      <td>0.000000</td>\n",
       "      <td>0.000000</td>\n",
       "      <td>0.0</td>\n",
       "      <td>0.0000</td>\n",
       "      <td>0.0000</td>\n",
       "      <td>0.0000</td>\n",
       "      <td>0.0</td>\n",
       "    </tr>\n",
       "    <tr>\n",
       "      <th>headshotKills</th>\n",
       "      <td>536761.0</td>\n",
       "      <td>0.251553</td>\n",
       "      <td>0.633480</td>\n",
       "      <td>0.0</td>\n",
       "      <td>0.0000</td>\n",
       "      <td>0.0000</td>\n",
       "      <td>0.0000</td>\n",
       "      <td>16.0</td>\n",
       "    </tr>\n",
       "    <tr>\n",
       "      <th>heals</th>\n",
       "      <td>536761.0</td>\n",
       "      <td>1.009678</td>\n",
       "      <td>2.383454</td>\n",
       "      <td>0.0</td>\n",
       "      <td>0.0000</td>\n",
       "      <td>0.0000</td>\n",
       "      <td>1.0000</td>\n",
       "      <td>63.0</td>\n",
       "    </tr>\n",
       "    <tr>\n",
       "      <th>killPlace</th>\n",
       "      <td>536761.0</td>\n",
       "      <td>48.025596</td>\n",
       "      <td>27.579939</td>\n",
       "      <td>1.0</td>\n",
       "      <td>24.0000</td>\n",
       "      <td>48.0000</td>\n",
       "      <td>72.0000</td>\n",
       "      <td>100.0</td>\n",
       "    </tr>\n",
       "    <tr>\n",
       "      <th>killPoints</th>\n",
       "      <td>536761.0</td>\n",
       "      <td>460.651884</td>\n",
       "      <td>606.861920</td>\n",
       "      <td>0.0</td>\n",
       "      <td>0.0000</td>\n",
       "      <td>0.0000</td>\n",
       "      <td>1120.0000</td>\n",
       "      <td>1970.0</td>\n",
       "    </tr>\n",
       "    <tr>\n",
       "      <th>kills</th>\n",
       "      <td>536761.0</td>\n",
       "      <td>0.934731</td>\n",
       "      <td>1.495987</td>\n",
       "      <td>0.0</td>\n",
       "      <td>0.0000</td>\n",
       "      <td>0.0000</td>\n",
       "      <td>1.0000</td>\n",
       "      <td>23.0</td>\n",
       "    </tr>\n",
       "    <tr>\n",
       "      <th>killStreaks</th>\n",
       "      <td>536761.0</td>\n",
       "      <td>0.482457</td>\n",
       "      <td>0.556407</td>\n",
       "      <td>0.0</td>\n",
       "      <td>0.0000</td>\n",
       "      <td>0.0000</td>\n",
       "      <td>1.0000</td>\n",
       "      <td>5.0</td>\n",
       "    </tr>\n",
       "    <tr>\n",
       "      <th>longestKill</th>\n",
       "      <td>536761.0</td>\n",
       "      <td>21.701100</td>\n",
       "      <td>45.716959</td>\n",
       "      <td>0.0</td>\n",
       "      <td>0.0000</td>\n",
       "      <td>0.0000</td>\n",
       "      <td>22.0600</td>\n",
       "      <td>940.1</td>\n",
       "    </tr>\n",
       "    <tr>\n",
       "      <th>matchDuration</th>\n",
       "      <td>536761.0</td>\n",
       "      <td>1577.081990</td>\n",
       "      <td>249.372334</td>\n",
       "      <td>1044.0</td>\n",
       "      <td>1377.0000</td>\n",
       "      <td>1439.0000</td>\n",
       "      <td>1854.0000</td>\n",
       "      <td>2199.0</td>\n",
       "    </tr>\n",
       "    <tr>\n",
       "      <th>maxPlace</th>\n",
       "      <td>536761.0</td>\n",
       "      <td>95.051192</td>\n",
       "      <td>4.850009</td>\n",
       "      <td>8.0</td>\n",
       "      <td>94.0000</td>\n",
       "      <td>96.0000</td>\n",
       "      <td>97.0000</td>\n",
       "      <td>100.0</td>\n",
       "    </tr>\n",
       "    <tr>\n",
       "      <th>numGroups</th>\n",
       "      <td>536761.0</td>\n",
       "      <td>92.696308</td>\n",
       "      <td>5.077241</td>\n",
       "      <td>8.0</td>\n",
       "      <td>91.0000</td>\n",
       "      <td>93.0000</td>\n",
       "      <td>95.0000</td>\n",
       "      <td>100.0</td>\n",
       "    </tr>\n",
       "    <tr>\n",
       "      <th>rankPoints</th>\n",
       "      <td>536761.0</td>\n",
       "      <td>963.338642</td>\n",
       "      <td>747.432486</td>\n",
       "      <td>-1.0</td>\n",
       "      <td>-1.0000</td>\n",
       "      <td>1496.0000</td>\n",
       "      <td>1520.0000</td>\n",
       "      <td>2853.0</td>\n",
       "    </tr>\n",
       "    <tr>\n",
       "      <th>revives</th>\n",
       "      <td>536761.0</td>\n",
       "      <td>0.000000</td>\n",
       "      <td>0.000000</td>\n",
       "      <td>0.0</td>\n",
       "      <td>0.0000</td>\n",
       "      <td>0.0000</td>\n",
       "      <td>0.0000</td>\n",
       "      <td>0.0</td>\n",
       "    </tr>\n",
       "    <tr>\n",
       "      <th>rideDistance</th>\n",
       "      <td>536761.0</td>\n",
       "      <td>403.209692</td>\n",
       "      <td>1270.646059</td>\n",
       "      <td>0.0</td>\n",
       "      <td>0.0000</td>\n",
       "      <td>0.0000</td>\n",
       "      <td>0.0000</td>\n",
       "      <td>40710.0</td>\n",
       "    </tr>\n",
       "    <tr>\n",
       "      <th>roadKills</th>\n",
       "      <td>536761.0</td>\n",
       "      <td>0.003488</td>\n",
       "      <td>0.061611</td>\n",
       "      <td>0.0</td>\n",
       "      <td>0.0000</td>\n",
       "      <td>0.0000</td>\n",
       "      <td>0.0000</td>\n",
       "      <td>4.0</td>\n",
       "    </tr>\n",
       "    <tr>\n",
       "      <th>swimDistance</th>\n",
       "      <td>536761.0</td>\n",
       "      <td>4.824648</td>\n",
       "      <td>32.658268</td>\n",
       "      <td>0.0</td>\n",
       "      <td>0.0000</td>\n",
       "      <td>0.0000</td>\n",
       "      <td>0.0000</td>\n",
       "      <td>1974.0</td>\n",
       "    </tr>\n",
       "    <tr>\n",
       "      <th>teamKills</th>\n",
       "      <td>536761.0</td>\n",
       "      <td>0.010183</td>\n",
       "      <td>0.100397</td>\n",
       "      <td>0.0</td>\n",
       "      <td>0.0000</td>\n",
       "      <td>0.0000</td>\n",
       "      <td>0.0000</td>\n",
       "      <td>1.0</td>\n",
       "    </tr>\n",
       "    <tr>\n",
       "      <th>vehicleDestroys</th>\n",
       "      <td>536761.0</td>\n",
       "      <td>0.003499</td>\n",
       "      <td>0.061398</td>\n",
       "      <td>0.0</td>\n",
       "      <td>0.0000</td>\n",
       "      <td>0.0000</td>\n",
       "      <td>0.0000</td>\n",
       "      <td>5.0</td>\n",
       "    </tr>\n",
       "    <tr>\n",
       "      <th>walkDistance</th>\n",
       "      <td>536761.0</td>\n",
       "      <td>945.309091</td>\n",
       "      <td>1075.042738</td>\n",
       "      <td>0.0</td>\n",
       "      <td>97.0900</td>\n",
       "      <td>467.7000</td>\n",
       "      <td>1577.0000</td>\n",
       "      <td>25780.0</td>\n",
       "    </tr>\n",
       "    <tr>\n",
       "      <th>weaponsAcquired</th>\n",
       "      <td>536761.0</td>\n",
       "      <td>3.486528</td>\n",
       "      <td>2.327555</td>\n",
       "      <td>0.0</td>\n",
       "      <td>2.0000</td>\n",
       "      <td>3.0000</td>\n",
       "      <td>5.0000</td>\n",
       "      <td>153.0</td>\n",
       "    </tr>\n",
       "    <tr>\n",
       "      <th>winPoints</th>\n",
       "      <td>536761.0</td>\n",
       "      <td>563.691406</td>\n",
       "      <td>730.821547</td>\n",
       "      <td>0.0</td>\n",
       "      <td>0.0000</td>\n",
       "      <td>0.0000</td>\n",
       "      <td>1491.0000</td>\n",
       "      <td>1922.0</td>\n",
       "    </tr>\n",
       "    <tr>\n",
       "      <th>winPlacePerc</th>\n",
       "      <td>536761.0</td>\n",
       "      <td>0.491835</td>\n",
       "      <td>0.295021</td>\n",
       "      <td>0.0</td>\n",
       "      <td>0.2366</td>\n",
       "      <td>0.4891</td>\n",
       "      <td>0.7474</td>\n",
       "      <td>1.0</td>\n",
       "    </tr>\n",
       "  </tbody>\n",
       "</table>\n",
       "</div>"
      ],
      "text/plain": [
       "                    count         mean          std     min        25%  \\\n",
       "assists          536761.0     0.057640     0.245489     0.0     0.0000   \n",
       "boosts           536761.0     1.058980     1.791553     0.0     0.0000   \n",
       "damageDealt      536761.0   118.918804   158.345782     0.0     0.0000   \n",
       "DBNOs            536761.0     0.000000     0.000000     0.0     0.0000   \n",
       "headshotKills    536761.0     0.251553     0.633480     0.0     0.0000   \n",
       "heals            536761.0     1.009678     2.383454     0.0     0.0000   \n",
       "killPlace        536761.0    48.025596    27.579939     1.0    24.0000   \n",
       "killPoints       536761.0   460.651884   606.861920     0.0     0.0000   \n",
       "kills            536761.0     0.934731     1.495987     0.0     0.0000   \n",
       "killStreaks      536761.0     0.482457     0.556407     0.0     0.0000   \n",
       "longestKill      536761.0    21.701100    45.716959     0.0     0.0000   \n",
       "matchDuration    536761.0  1577.081990   249.372334  1044.0  1377.0000   \n",
       "maxPlace         536761.0    95.051192     4.850009     8.0    94.0000   \n",
       "numGroups        536761.0    92.696308     5.077241     8.0    91.0000   \n",
       "rankPoints       536761.0   963.338642   747.432486    -1.0    -1.0000   \n",
       "revives          536761.0     0.000000     0.000000     0.0     0.0000   \n",
       "rideDistance     536761.0   403.209692  1270.646059     0.0     0.0000   \n",
       "roadKills        536761.0     0.003488     0.061611     0.0     0.0000   \n",
       "swimDistance     536761.0     4.824648    32.658268     0.0     0.0000   \n",
       "teamKills        536761.0     0.010183     0.100397     0.0     0.0000   \n",
       "vehicleDestroys  536761.0     0.003499     0.061398     0.0     0.0000   \n",
       "walkDistance     536761.0   945.309091  1075.042738     0.0    97.0900   \n",
       "weaponsAcquired  536761.0     3.486528     2.327555     0.0     2.0000   \n",
       "winPoints        536761.0   563.691406   730.821547     0.0     0.0000   \n",
       "winPlacePerc     536761.0     0.491835     0.295021     0.0     0.2366   \n",
       "\n",
       "                       50%        75%      max  \n",
       "assists             0.0000     0.0000      5.0  \n",
       "boosts              0.0000     2.0000     28.0  \n",
       "damageDealt        75.7900   171.0000   2305.0  \n",
       "DBNOs               0.0000     0.0000      0.0  \n",
       "headshotKills       0.0000     0.0000     16.0  \n",
       "heals               0.0000     1.0000     63.0  \n",
       "killPlace          48.0000    72.0000    100.0  \n",
       "killPoints          0.0000  1120.0000   1970.0  \n",
       "kills               0.0000     1.0000     23.0  \n",
       "killStreaks         0.0000     1.0000      5.0  \n",
       "longestKill         0.0000    22.0600    940.1  \n",
       "matchDuration    1439.0000  1854.0000   2199.0  \n",
       "maxPlace           96.0000    97.0000    100.0  \n",
       "numGroups          93.0000    95.0000    100.0  \n",
       "rankPoints       1496.0000  1520.0000   2853.0  \n",
       "revives             0.0000     0.0000      0.0  \n",
       "rideDistance        0.0000     0.0000  40710.0  \n",
       "roadKills           0.0000     0.0000      4.0  \n",
       "swimDistance        0.0000     0.0000   1974.0  \n",
       "teamKills           0.0000     0.0000      1.0  \n",
       "vehicleDestroys     0.0000     0.0000      5.0  \n",
       "walkDistance      467.7000  1577.0000  25780.0  \n",
       "weaponsAcquired     3.0000     5.0000    153.0  \n",
       "winPoints           0.0000  1491.0000   1922.0  \n",
       "winPlacePerc        0.4891     0.7474      1.0  "
      ]
     },
     "execution_count": 11,
     "metadata": {},
     "output_type": "execute_result"
    }
   ],
   "source": [
    "df.describe().T"
   ]
  },
  {
   "cell_type": "markdown",
   "metadata": {},
   "source": [
    "1. The scales of attributes vary a lot, we might needs normalization to scale them\n",
    "2. The five number summary show little information of distributions, we need to visualize them"
   ]
  },
  {
   "cell_type": "markdown",
   "metadata": {},
   "source": [
    "## Distribution Plots"
   ]
  },
  {
   "cell_type": "markdown",
   "metadata": {},
   "source": [
    "### Target variable"
   ]
  },
  {
   "cell_type": "code",
   "execution_count": 41,
   "metadata": {},
   "outputs": [
    {
     "name": "stdout",
     "output_type": "stream",
     "text": [
      "\n"
     ]
    },
    {
     "data": {
      "image/png": "[encoded data removed]",
      "text/plain": [
       "<Figure size 432x288 with 1 Axes>"
      ]
     },
     "metadata": {},
     "output_type": "display_data"
    }
   ],
   "source": [
    "import matplotlib.pyplot as plt\n",
    "df['winPlacePerc'].hist(bins=50)\n",
    "plt.title('Prcentile Winning Placement')\n",
    "print('')"
   ]
  },
  {
   "cell_type": "markdown",
   "metadata": {},
   "source": [
    "The above plot depicts target variable's distribution is pretty uniform. "
   ]
  },
  {
   "cell_type": "markdown",
   "metadata": {},
   "source": [
    "### Predictor"
   ]
  },
  {
   "cell_type": "code",
   "execution_count": 13,
   "metadata": {},
   "outputs": [
    {
     "name": "stdout",
     "output_type": "stream",
     "text": [
      "\n"
     ]
    },
    {
     "data": {
      "image/png": "[encoded data removed]",
      "text/plain": [
       "<Figure size 2160x1080 with 25 Axes>"
      ]
     },
     "metadata": {},
     "output_type": "display_data"
    }
   ],
   "source": [
    "df.iloc[:,0:24].hist(figsize=(30,15),layout=(5,5), bins=50)\n",
    "print('')"
   ]
  },
  {
   "cell_type": "markdown",
   "metadata": {},
   "source": [
    "1. Two variables (DBNOs and revives) are completely 0. \n",
    "2. The match duration is bi-normal distritributed\n",
    "3. "
   ]
  },
  {
   "cell_type": "markdown",
   "metadata": {},
   "source": [
    "## Correlation"
   ]
  },
  {
   "cell_type": "code",
   "execution_count": 14,
   "metadata": {},
   "outputs": [
    {
     "data": {
      "image/png": "[encoded data removed]",
      "text/plain": [
       "<Figure size 1080x1080 with 2 Axes>"
      ]
     },
     "metadata": {},
     "output_type": "display_data"
    }
   ],
   "source": [
    "def correlation_matrix(df,title):\n",
    "    from matplotlib import pyplot as plt\n",
    "    from matplotlib import cm as cm\n",
    "\n",
    "    fig = plt.figure(figsize=(15,15))\n",
    "    ax1 = fig.add_subplot(111)\n",
    "    cmap = cm.get_cmap('jet', 30)\n",
    "    cax = ax1.imshow(df.corr(), interpolation=\"nearest\", cmap=cmap)\n",
    "    ax1.grid(True)\n",
    "    plt.title(title+'\\n',fontsize=28)\n",
    "    labels=list(df)\n",
    "    ax1.set_xticks([i for i in range(len(labels))])\n",
    "    ax1.set_xticklabels(labels,fontsize=14,rotation=65, horizontalalignment=\"right\")\n",
    "    ax1.set_yticks([i for i in range(len(labels))])\n",
    "    ax1.set_yticklabels(labels,fontsize=14)\n",
    "    # Add colorbar, make sure to specify tick locations to match desired ticklabels\n",
    "    fig.colorbar(cax, ticks=[-1.0,-0.75,-0.5,-0.25,.0,.25,.50,.75,1])\n",
    "    plt.show()\n",
    "\n",
    "correlation_matrix(df,'PUBG Data Correlation')"
   ]
  },
  {
   "cell_type": "markdown",
   "metadata": {},
   "source": []
  },
  {
   "cell_type": "markdown",
   "metadata": {},
   "source": [
    "***\n",
    "## Preprocessing"
   ]
  },
  {
   "cell_type": "code",
   "execution_count": 2,
   "metadata": {},
   "outputs": [],
   "source": [
    "import pandas as pd \n",
    "import numpy as np\n",
    "import math\n",
    "rand_st = 920"
   ]
  },
  {
   "cell_type": "code",
   "execution_count": 3,
   "metadata": {},
   "outputs": [],
   "source": [
    "df = pd.read_csv('solo.csv')"
   ]
  },
  {
   "cell_type": "code",
   "execution_count": 4,
   "metadata": {},
   "outputs": [
    {
     "data": {
      "text/plain": [
       "(536761, 25)"
      ]
     },
     "execution_count": 4,
     "metadata": {},
     "output_type": "execute_result"
    }
   ],
   "source": [
    "df.shape"
   ]
  },
  {
   "cell_type": "code",
   "execution_count": 3,
   "metadata": {},
   "outputs": [],
   "source": [
    "from sklearn.model_selection import cross_validate, train_test_split\n",
    "rand_st = 920"
   ]
  },
  {
   "cell_type": "code",
   "execution_count": 4,
   "metadata": {},
   "outputs": [],
   "source": [
    "header = list(df)"
   ]
  },
  {
   "cell_type": "markdown",
   "metadata": {},
   "source": [
    "#### Separate target (winPlacePerc) from predictors"
   ]
  },
  {
   "cell_type": "code",
   "execution_count": 5,
   "metadata": {},
   "outputs": [
    {
     "name": "stdout",
     "output_type": "stream",
     "text": [
      "(536761, 24) (536761, 1)\n"
     ]
    }
   ],
   "source": [
    "data, target = df[[col for col in list(df) if col != 'winPlacePerc']], df[['winPlacePerc']]\n",
    "print(data.shape, target.shape)"
   ]
  },
  {
   "cell_type": "markdown",
   "metadata": {},
   "source": [
    "#### Hold out a part of data as test set"
   ]
  },
  {
   "cell_type": "code",
   "execution_count": 6,
   "metadata": {},
   "outputs": [],
   "source": [
    "data_train, data_test, target_train, target_test = train_test_split(data, target, test_size=0.4, random_state=rand_st)"
   ]
  },
  {
   "cell_type": "markdown",
   "metadata": {},
   "source": [
    "#### Setting preprocessing parameters"
   ]
  },
  {
   "cell_type": "code",
   "execution_count": 7,
   "metadata": {},
   "outputs": [],
   "source": [
    "norm_target = 0\n",
    "norm_features = 1"
   ]
  },
  {
   "cell_type": "markdown",
   "metadata": {},
   "source": [
    "#### Find and eliminate bots \n",
    "Based on the experience, a player never walk a meter and being placed in first 50 percentile is a bot. "
   ]
  },
  {
   "cell_type": "code",
   "execution_count": 8,
   "metadata": {},
   "outputs": [
    {
     "data": {
      "text/plain": [
       "(322056, 24)"
      ]
     },
     "execution_count": 8,
     "metadata": {},
     "output_type": "execute_result"
    }
   ],
   "source": [
    "data_train.shape"
   ]
  },
  {
   "cell_type": "code",
   "execution_count": 9,
   "metadata": {},
   "outputs": [
    {
     "data": {
      "text/plain": [
       "(156080, 24)"
      ]
     },
     "execution_count": 9,
     "metadata": {},
     "output_type": "execute_result"
    }
   ],
   "source": [
    "win_greater_50 = data_train[target_train['winPlacePerc']>0.5]\n",
    "win_greater_50.shape"
   ]
  },
  {
   "cell_type": "code",
   "execution_count": 10,
   "metadata": {},
   "outputs": [
    {
     "data": {
      "text/plain": [
       "(132, 24)"
      ]
     },
     "execution_count": 10,
     "metadata": {},
     "output_type": "execute_result"
    }
   ],
   "source": [
    "bot = win_greater_50[win_greater_50['walkDistance']==0.0]\n",
    "bot.shape"
   ]
  },
  {
   "cell_type": "markdown",
   "metadata": {},
   "source": [
    "132 data points are bots."
   ]
  },
  {
   "cell_type": "markdown",
   "metadata": {},
   "source": [
    "#### Remove the bots in training set"
   ]
  },
  {
   "cell_type": "code",
   "execution_count": 11,
   "metadata": {},
   "outputs": [
    {
     "name": "stderr",
     "output_type": "stream",
     "text": [
      "/opt/anaconda3/lib/python3.6/site-packages/pandas/core/frame.py:3694: SettingWithCopyWarning: \n",
      "A value is trying to be set on a copy of a slice from a DataFrame\n",
      "\n",
      "See the caveats in the documentation: http://pandas.pydata.org/pandas-docs/stable/indexing.html#indexing-view-versus-copy\n",
      "  errors=errors)\n"
     ]
    }
   ],
   "source": [
    "data_train.drop(index=bot.index.values, inplace=True)\n",
    "target_train.drop(index=bot.index.values, inplace=True)"
   ]
  },
  {
   "cell_type": "code",
   "execution_count": 12,
   "metadata": {},
   "outputs": [
    {
     "data": {
      "text/plain": [
       "(321924, 24)"
      ]
     },
     "execution_count": 12,
     "metadata": {},
     "output_type": "execute_result"
    }
   ],
   "source": [
    "data_train.shape"
   ]
  },
  {
   "cell_type": "markdown",
   "metadata": {},
   "source": [
    "#### Normalization"
   ]
  },
  {
   "cell_type": "code",
   "execution_count": 13,
   "metadata": {},
   "outputs": [],
   "source": [
    "from sklearn.preprocessing import MinMaxScaler"
   ]
  },
  {
   "cell_type": "code",
   "execution_count": 14,
   "metadata": {},
   "outputs": [
    {
     "name": "stdout",
     "output_type": "stream",
     "text": [
      "X:  (321924, 24) (321924, 1)\n",
      "Y:  (214705, 24) (214705, 1)\n"
     ]
    }
   ],
   "source": [
    "if norm_target==1:\n",
    "    #Target normalization for continuous values\n",
    "    y_scaler = MinMaxScaler().fit(target_train)\n",
    "    target_train = y_scaler.transform(target_train)\n",
    "    target_test = y_scaler.transform(target_test)\n",
    "\n",
    "if norm_features==1:\n",
    "    #Feature normalization for continuous values\n",
    "    x_scaler = MinMaxScaler().fit(np.array(data_train))\n",
    "    data_train = x_scaler.transform(np.array(data_train))\n",
    "    data_test = x_scaler.transform(np.array(data_test))\n",
    "print('X: ', data_train.shape, target_train.shape)\n",
    "print('Y: ', data_test.shape, target_test.shape)"
   ]
  },
  {
   "cell_type": "code",
   "execution_count": 15,
   "metadata": {},
   "outputs": [
    {
     "name": "stdout",
     "output_type": "stream",
     "text": [
      "X:  (321924, 24) (321924,)\n",
      "Y:  (214705, 24) (214705,)\n"
     ]
    }
   ],
   "source": [
    "target_train = np.array(target_train).reshape(target_train.shape[0])\n",
    "target_test = np.array(target_test).reshape(target_test.shape[0])\n",
    "print('X: ', data_train.shape, target_train.shape)\n",
    "print('Y: ', data_test.shape, target_test.shape)"
   ]
  },
  {
   "cell_type": "code",
   "execution_count": 16,
   "metadata": {},
   "outputs": [
    {
     "data": {
      "text/plain": [
       "array([[0.        , 0.        , 0.        , 0.        , 0.        ,\n",
       "        0.        , 0.60606061, 0.        , 0.        , 0.        ,\n",
       "        0.        , 0.26406926, 0.93478261, 0.91304348, 0.5311843 ,\n",
       "        0.        , 0.        , 0.        , 0.        , 0.        ,\n",
       "        0.        , 0.04285817, 0.01960784, 0.        ],\n",
       "       [0.        , 0.        , 0.        , 0.        , 0.        ,\n",
       "        0.        , 0.8989899 , 0.        , 0.        , 0.        ,\n",
       "        0.        , 0.27099567, 0.92391304, 0.91304348, 0.52592852,\n",
       "        0.        , 0.        , 0.        , 0.        , 0.        ,\n",
       "        0.        , 0.00276504, 0.        , 0.        ]])"
      ]
     },
     "execution_count": 16,
     "metadata": {},
     "output_type": "execute_result"
    }
   ],
   "source": [
    "data_train[:2,:]"
   ]
  },
  {
   "cell_type": "markdown",
   "metadata": {},
   "source": [
    "***\n",
    "## Feature Selection"
   ]
  },
  {
   "cell_type": "code",
   "execution_count": 17,
   "metadata": {},
   "outputs": [],
   "source": [
    "from sklearn.feature_selection import RFE, VarianceThreshold, SelectFromModel\n",
    "from sklearn.feature_selection import SelectKBest, mutual_info_regression, mutual_info_classif, chi2\n",
    "\n",
    "from sklearn.linear_model import Ridge, Lasso\n",
    "from sklearn.tree import DecisionTreeRegressor\n",
    "from sklearn.ensemble import RandomForestRegressor, BaggingRegressor\n",
    "from sklearn.ensemble import GradientBoostingRegressor, AdaBoostRegressor \n",
    "from sklearn.neural_network import MLPRegressor\n",
    "from sklearn.svm import SVR"
   ]
  },
  {
   "cell_type": "markdown",
   "metadata": {},
   "source": [
    "#### Setting feature selection parameters"
   ]
  },
  {
   "cell_type": "code",
   "execution_count": 20,
   "metadata": {},
   "outputs": [],
   "source": [
    "lv_filter = 0\n",
    "feat_start= 0\n",
    "feat_select = 0\n",
    "fs_type = 1\n",
    "k_cnt = 5"
   ]
  },
  {
   "cell_type": "markdown",
   "metadata": {},
   "source": [
    "#### Low Variance Filter Selection"
   ]
  },
  {
   "cell_type": "code",
   "execution_count": 19,
   "metadata": {},
   "outputs": [],
   "source": [
    "%matplotlib inline\n",
    "if lv_filter==1:\n",
    "    print('--LOW VARIANCE FILTER ON--', '\\n')\n",
    "    #LV Threshold\n",
    "    sel = VarianceThreshold(threshold=0.01)                                      #Removes any feature with less than 20% variance\n",
    "    fit_mod=sel.fit(data_train)\n",
    "    fitted=sel.transform(data_train)\n",
    "    sel_idx=fit_mod.get_support()\n",
    "\n",
    "    #Get lists of selected and non-selected features (names and indexes)\n",
    "    temp=[]\n",
    "    temp_idx=[]\n",
    "    temp_del=[]\n",
    "    for i in range(len(data_train[0])):\n",
    "        if sel_idx[i]==1:                                                           #Selected Features get added to temp header\n",
    "            temp.append(header[i+feat_start])\n",
    "            temp_idx.append(i)\n",
    "        else:                                                                       #Indexes of non-selected features get added to delete array\n",
    "            temp_del.append(i)\n",
    "\n",
    "    print('Selected', temp)\n",
    "    print('Features (total, selected):', len(data_train[0]), len(temp))\n",
    "    print('\\n')\n",
    "\n",
    "    #Filter selected columns from original dataset\n",
    "    header = header[0:feat_start]\n",
    "    for field in temp:\n",
    "        header.append(field)\n",
    "    data_train = np.delete(data_train, temp_del, axis=1)                                 #Deletes non-selected features by index\n",
    "    \n",
    "    df[header].hist(figsize=(20,10),layout=(math.ceil(len(header)/3),3), bins=100)"
   ]
  },
  {
   "cell_type": "markdown",
   "metadata": {},
   "source": [
    "#### Feature Selection"
   ]
  },
  {
   "cell_type": "code",
   "execution_count": 20,
   "metadata": {},
   "outputs": [],
   "source": [
    "if feat_select==1:\n",
    "    '''Three steps:\n",
    "       1) Run Feature Selection\n",
    "       2) Get lists of selected and non-selected features\n",
    "       3) Filter columns from original dataset\n",
    "       '''\n",
    "    \n",
    "    print('--FEATURE SELECTION ON--', '\\n')\n",
    "    \n",
    "    ##1) Run Feature Selection #######\n",
    "    if fs_type==1:\n",
    "        #Stepwise Recursive Backwards Feature removal\n",
    "        rgr = DecisionTreeRegressor(random_state=rand_st)\n",
    "        sel = RFE(rgr, n_features_to_select=k_cnt, step=.1)\n",
    "        print('Stepwise Recursive Backwards - Random Forest: ')\n",
    "            \n",
    "        fit_mod=sel.fit(data_train, target_train)\n",
    "        print(sel.ranking_)\n",
    "        sel_idx=fit_mod.get_support()      \n",
    "\n",
    "    if fs_type==2:\n",
    "        #Wrapper Select via model\n",
    "        rgr = DecisionTreeRegressor(random_state=rand_st)\n",
    "        sel = SelectFromModel(rgr, prefit=False, threshold='mean')\n",
    "        print ('Wrapper Select: ')\n",
    "            \n",
    "        fit_mod=sel.fit(data_train, target_train)    \n",
    "        sel_idx=fit_mod.get_support()\n",
    "\n",
    "    ##2) Get lists of selected and non-selected features (names and indexes) #######\n",
    "    temp=[]\n",
    "    temp_idx=[]\n",
    "    temp_del=[]\n",
    "    for i in range(len(data_train[0])):\n",
    "        if sel_idx[i]==1:                                                           #Selected Features get added to temp header\n",
    "            temp.append(header[i+feat_start])\n",
    "            temp_idx.append(i)\n",
    "        else:                                                                       #Indexes of non-selected features get added to delete array\n",
    "            temp_del.append(i)\n",
    "    print('Selected', temp)\n",
    "    print('Features (total/selected):', len(data_train[0]), len(temp))\n",
    "    print('\\n')\n",
    "            \n",
    "                \n",
    "    ##3) Filter selected columns from original dataset #########\n",
    "    header = header[0:feat_start]\n",
    "    for field in temp:\n",
    "        header.append(field)\n",
    "    data_train = np.delete(data_train, temp_del, axis=1)                                 #Deletes non-selected features by index)\n",
    "    \n",
    "    df[header].hist(figsize=(20,5),layout=(2,3), bins=100)"
   ]
  },
  {
   "cell_type": "code",
   "execution_count": 21,
   "metadata": {},
   "outputs": [
    {
     "data": {
      "text/plain": [
       "(321924, 24)"
      ]
     },
     "execution_count": 21,
     "metadata": {},
     "output_type": "execute_result"
    }
   ],
   "source": [
    "data_train.shape"
   ]
  },
  {
   "cell_type": "markdown",
   "metadata": {},
   "source": [
    "***\n",
    "## Predictive Modeling"
   ]
  },
  {
   "cell_type": "code",
   "execution_count": 18,
   "metadata": {},
   "outputs": [],
   "source": [
    "import time\n",
    "import math\n",
    "\n",
    "from sklearn.linear_model import Ridge, Lasso\n",
    "from sklearn.tree import DecisionTreeRegressor\n",
    "from sklearn.ensemble import RandomForestRegressor, BaggingRegressor\n",
    "from sklearn.ensemble import GradientBoostingRegressor, AdaBoostRegressor \n",
    "from sklearn.neural_network import MLPRegressor\n",
    "from sklearn.svm import SVR\n",
    "\n",
    "from sklearn.model_selection import cross_validate, train_test_split\n",
    "from sklearn import metrics"
   ]
  },
  {
   "cell_type": "code",
   "execution_count": 19,
   "metadata": {},
   "outputs": [],
   "source": [
    "scorers = {'Neg_MSE': 'neg_mean_squared_error', 'expl_var': 'explained_variance'}\n",
    "perf1 = {'RMSE':[], 'Expl_Var':[]}"
   ]
  },
  {
   "cell_type": "markdown",
   "metadata": {},
   "source": [
    "## Lasso Regression"
   ]
  },
  {
   "cell_type": "code",
   "execution_count": 25,
   "metadata": {},
   "outputs": [
    {
     "name": "stdout",
     "output_type": "stream",
     "text": [
      "Lasso Regression RMSE: 0.30 (+/- 0.00)\n",
      "Lasso Regression Expl Var: -0.00 (+/- 0.00)\n",
      "CV Runtime: 2.0333149433135986\n"
     ]
    }
   ],
   "source": [
    "start_ts=time.time()\n",
    "rgr = Lasso(alpha =0.1, random_state=rand_st)\n",
    "scores = cross_validate(rgr, data_train, target_train, scoring=scorers, cv=10)\n",
    "\n",
    "scores_RMSE = np.asarray([math.sqrt(-x) for x in scores['test_Neg_MSE']])                                                                        #Turns negative MSE scores into RMSE\n",
    "scores_Expl_Var = scores['test_expl_var']\n",
    "\n",
    "perf1['RMSE'].append(scores_RMSE.mean())\n",
    "perf1['Expl_Var'].append(scores_Expl_Var.mean())\n",
    "\n",
    "print(\"Lasso Regression RMSE: %0.2f (+/- %0.2f)\" % ((scores_RMSE.mean()), (scores_RMSE.std() * 2)))\n",
    "print(\"Lasso Regression Expl Var: %0.2f (+/- %0.2f)\" % ((scores_Expl_Var.mean()), (scores_Expl_Var.std() * 2)))\n",
    "print(\"CV Runtime:\", time.time()-start_ts)"
   ]
  },
  {
   "cell_type": "markdown",
   "metadata": {},
   "source": [
    "##################################################################################################################################################\n",
    "## Ridge Regression - All attributes"
   ]
  },
  {
   "cell_type": "code",
   "execution_count": 24,
   "metadata": {},
   "outputs": [
    {
     "name": "stdout",
     "output_type": "stream",
     "text": [
      "Ridge Regression RMSE: 0.09 (+/- 0.00)\n",
      "Ridge Regression Expl Var: 0.90 (+/- 0.00)\n",
      "CV Runtime: 1.6571903228759766\n"
     ]
    }
   ],
   "source": [
    "start_ts=time.time()\n",
    "rgr = Ridge(random_state=rand_st)\n",
    "scores = cross_validate(rgr, data_train, target_train, scoring=scorers, cv=10)\n",
    "\n",
    "scores_RMSE = np.asarray([math.sqrt(-x) for x in scores['test_Neg_MSE']])                                                                        #Turns negative MSE scores into RMSE\n",
    "scores_Expl_Var = scores['test_expl_var']\n",
    "\n",
    "perf1['RMSE'].append(scores_RMSE.mean())\n",
    "perf1['Expl_Var'].append(scores_Expl_Var.mean())\n",
    "\n",
    "print(\"Ridge Regression RMSE: %0.2f (+/- %0.2f)\" % ((scores_RMSE.mean()), (scores_RMSE.std() * 2)))\n",
    "print(\"Ridge Regression Expl Var: %0.2f (+/- %0.2f)\" % ((scores_Expl_Var.mean()), (scores_Expl_Var.std() * 2)))\n",
    "print(\"CV Runtime:\", time.time()-start_ts)"
   ]
  },
  {
   "cell_type": "markdown",
   "metadata": {},
   "source": [
    "## Ridge Regression - Low Variance Filter"
   ]
  },
  {
   "cell_type": "code",
   "execution_count": 63,
   "metadata": {},
   "outputs": [
    {
     "name": "stdout",
     "output_type": "stream",
     "text": [
      "--LOW VARIANCE FILTER ON-- \n",
      "\n",
      "Selected ['killPlace', 'killPoints', 'killStreaks', 'matchDuration', 'rankPoints', 'teamKills', 'winPoints']\n",
      "Features (total, selected): 24 7\n",
      "\n",
      "\n",
      "Ridge Regression RMSE: 0.14 (+/- 0.00)\n",
      "Ridge Regression Expl Var: 0.79 (+/- 0.01)\n",
      "CV Runtime: 0.5467061996459961\n"
     ]
    }
   ],
   "source": [
    "##1) Run Low Variance Filter #######\n",
    "\n",
    "#Stepwise Recursive Backwards Feature removal\n",
    "print('--LOW VARIANCE FILTER ON--', '\\n')\n",
    "#LV Threshold\n",
    "sel = VarianceThreshold(threshold=0.01)                                      #Removes any feature with less than 20% variance\n",
    "fit_mod=sel.fit(data_train)\n",
    "fitted=sel.transform(data_train)\n",
    "sel_idx=fit_mod.get_support()\n",
    "\n",
    "##2) Get lists of selected and non-selected features (names and indexes) #######\n",
    "temp=[]\n",
    "temp_idx=[]\n",
    "temp_del=[]\n",
    "for i in range(len(data_train[0])):\n",
    "    if sel_idx[i]==1:                                                           #Selected Features get added to temp header\n",
    "        temp.append(header[i+feat_start])\n",
    "        temp_idx.append(i)\n",
    "    else:                                                                       #Indexes of non-selected features get added to delete array\n",
    "        temp_del.append(i)\n",
    "\n",
    "print('Selected', temp)\n",
    "print('Features (total, selected):', len(data_train[0]), len(temp))\n",
    "print('\\n')\n",
    "\n",
    "##3) Filter selected columns from original dataset #########\n",
    "temp_header = header[0:feat_start]\n",
    "for field in temp:\n",
    "    temp_header.append(field)\n",
    "temp_data_train = np.delete(data_train, temp_del, axis=1)                                 #Deletes non-selected features by index\n",
    "\n",
    "##4) run model\n",
    "start_ts=time.time()\n",
    "rgr = Ridge(random_state=rand_st)\n",
    "scores = cross_validate(rgr, temp_data_train, target_train, scoring=scorers, cv=10)\n",
    "\n",
    "scores_RMSE = np.asarray([math.sqrt(-x) for x in scores['test_Neg_MSE']])                                                                        #Turns negative MSE scores into RMSE\n",
    "scores_Expl_Var = scores['test_expl_var']\n",
    "\n",
    "perf1['RMSE'].append(scores_RMSE.mean())\n",
    "perf1['Expl_Var'].append(scores_Expl_Var.mean())\n",
    "\n",
    "print(\"Ridge Regression RMSE: %0.2f (+/- %0.2f)\" % ((scores_RMSE.mean()), (scores_RMSE.std() * 2)))\n",
    "print(\"Ridge Regression Expl Var: %0.2f (+/- %0.2f)\" % ((scores_Expl_Var.mean()), (scores_Expl_Var.std() * 2)))\n",
    "print(\"CV Runtime:\", time.time()-start_ts)"
   ]
  },
  {
   "cell_type": "markdown",
   "metadata": {},
   "source": [
    "## Ridge Regression - Stepwise Recursive Backwards Feature removal"
   ]
  },
  {
   "cell_type": "code",
   "execution_count": 23,
   "metadata": {},
   "outputs": [
    {
     "name": "stdout",
     "output_type": "stream",
     "text": [
      "Stepwise Recursive Backwards - Ridge Regression: \n",
      "[4 1 1 7 3 5 1 3 1 1 5 2 1 1 1 7 1 4 1 6 6 1 1 2]\n",
      "Selected ['boosts', 'damageDealt', 'killPlace', 'kills', 'killStreaks', 'maxPlace', 'numGroups', 'rankPoints', 'rideDistance', 'swimDistance', 'walkDistance', 'weaponsAcquired']\n",
      "Features (total/selected): 24 12\n",
      "\n",
      "\n",
      "------------------------------------------------------------\n",
      "Ridge Regression RMSE: 0.10 (+/- 0.00)\n",
      "Ridge Regression Expl Var: 0.89 (+/- 0.00)\n",
      "CV Runtime: 0.7751669883728027\n"
     ]
    }
   ],
   "source": [
    "##1) Run Feature Selection #######\n",
    "\n",
    "#Stepwise Recursive Backwards Feature removal\n",
    "rgr = Ridge(random_state=rand_st)\n",
    "sel = RFE(rgr, n_features_to_select=None, step=.1)\n",
    "print('Stepwise Recursive Backwards - Ridge Regression: ')\n",
    "\n",
    "fit_mod=sel.fit(data_train, target_train)\n",
    "print(sel.ranking_)\n",
    "sel_idx=fit_mod.get_support()      \n",
    "\n",
    "##2) Get lists of selected and non-selected features (names and indexes) #######\n",
    "temp=[]\n",
    "temp_idx=[]\n",
    "temp_del=[]\n",
    "for i in range(len(data_train[0])):\n",
    "    if sel_idx[i]==1:                                                           #Selected Features get added to temp header\n",
    "        temp.append(header[i+feat_start])\n",
    "        temp_idx.append(i)\n",
    "    else:                                                                       #Indexes of non-selected features get added to delete array\n",
    "        temp_del.append(i)\n",
    "print('Selected', temp)\n",
    "print('Features (total/selected):', len(data_train[0]), len(temp))\n",
    "print('\\n')\n",
    "\n",
    "\n",
    "##3) Filter selected columns from original dataset #########\n",
    "temp_header = header[0:feat_start]\n",
    "for field in temp:\n",
    "    temp_header.append(field)\n",
    "temp_data_train = np.delete(data_train, temp_del, axis=1)                                 #Deletes non-selected features by index)\n",
    "print('-'*60)\n",
    "\n",
    "##4) run model\n",
    "start_ts=time.time()\n",
    "rgr = Ridge(random_state=rand_st)\n",
    "scores = cross_validate(rgr, temp_data_train, target_train, scoring=scorers, cv=10)\n",
    "\n",
    "scores_RMSE = np.asarray([math.sqrt(-x) for x in scores['test_Neg_MSE']])                                                                        #Turns negative MSE scores into RMSE\n",
    "scores_Expl_Var = scores['test_expl_var']\n",
    "\n",
    "perf1['RMSE'].append(scores_RMSE.mean())\n",
    "perf1['Expl_Var'].append(scores_Expl_Var.mean())\n",
    "\n",
    "print(\"Ridge Regression RMSE: %0.2f (+/- %0.2f)\" % ((scores_RMSE.mean()), (scores_RMSE.std() * 2)))\n",
    "print(\"Ridge Regression Expl Var: %0.2f (+/- %0.2f)\" % ((scores_Expl_Var.mean()), (scores_Expl_Var.std() * 2)))\n",
    "print(\"CV Runtime:\", time.time()-start_ts)"
   ]
  },
  {
   "cell_type": "markdown",
   "metadata": {},
   "source": [
    "## Ridge Regression - Wrapper Selection"
   ]
  },
  {
   "cell_type": "code",
   "execution_count": 56,
   "metadata": {},
   "outputs": [
    {
     "name": "stdout",
     "output_type": "stream",
     "text": [
      "Wrapper Select: \n",
      "Selected ['killPlace', 'kills', 'killStreaks', 'numGroups', 'rideDistance', 'walkDistance', 'weaponsAcquired']\n",
      "Features (total/selected): 24 7\n",
      "\n",
      "\n",
      "------------------------------------------------------------\n",
      "Ridge Regression RMSE: 0.10 (+/- 0.00)\n",
      "Ridge Regression Expl Var: 0.89 (+/- 0.00)\n",
      "CV Runtime: 0.5486898422241211\n"
     ]
    }
   ],
   "source": [
    "##1) Run Feature Selection #######\n",
    "\n",
    "#Wrapper Select via model\n",
    "rgr = Ridge(random_state=rand_st)\n",
    "sel = SelectFromModel(rgr, prefit=False, threshold='mean')\n",
    "print ('Wrapper Select: ')\n",
    "\n",
    "fit_mod=sel.fit(data_train, target_train)    \n",
    "sel_idx=fit_mod.get_support()\n",
    "\n",
    "##2) Get lists of selected and non-selected features (names and indexes) #######\n",
    "temp=[]\n",
    "temp_idx=[]\n",
    "temp_del=[]\n",
    "for i in range(len(data_train[0])):\n",
    "    if sel_idx[i]==1:                                                           #Selected Features get added to temp header\n",
    "        temp.append(header[i+feat_start])\n",
    "        temp_idx.append(i)\n",
    "    else:                                                                       #Indexes of non-selected features get added to delete array\n",
    "        temp_del.append(i)\n",
    "print('Selected', temp)\n",
    "print('Features (total/selected):', len(data_train[0]), len(temp))\n",
    "print('\\n')\n",
    "\n",
    "\n",
    "##3) Filter selected columns from original dataset #########\n",
    "temp_header = header[0:feat_start]\n",
    "for field in temp:\n",
    "    temp_header.append(field)\n",
    "temp_data_train = np.delete(data_train, temp_del, axis=1)                                 #Deletes non-selected features by index)\n",
    "print('-'*60)\n",
    "\n",
    "\n",
    "##4) run model\n",
    "start_ts=time.time()\n",
    "rgr = Ridge(random_state=rand_st)\n",
    "scores = cross_validate(rgr, temp_data_train, target_train, scoring=scorers, cv=10)\n",
    "\n",
    "scores_RMSE = np.asarray([math.sqrt(-x) for x in scores['test_Neg_MSE']])                                                                        #Turns negative MSE scores into RMSE\n",
    "scores_Expl_Var = scores['test_expl_var']\n",
    "\n",
    "perf1['RMSE'].append(scores_RMSE.mean())\n",
    "perf1['Expl_Var'].append(scores_Expl_Var.mean())\n",
    "\n",
    "print(\"Ridge Regression RMSE: %0.2f (+/- %0.2f)\" % ((scores_RMSE.mean()), (scores_RMSE.std() * 2)))\n",
    "print(\"Ridge Regression Expl Var: %0.2f (+/- %0.2f)\" % ((scores_Expl_Var.mean()), (scores_Expl_Var.std() * 2)))\n",
    "print(\"CV Runtime:\", time.time()-start_ts)"
   ]
  },
  {
   "cell_type": "markdown",
   "metadata": {},
   "source": [
    "##################################################################################################################################################\n",
    "## Regression Tree - All attributes"
   ]
  },
  {
   "cell_type": "code",
   "execution_count": 26,
   "metadata": {},
   "outputs": [
    {
     "name": "stdout",
     "output_type": "stream",
     "text": [
      "Decision Tree RMSE: 0.08 (+/- 0.00)\n",
      "Decision Tree Expl Var: 0.92 (+/- 0.00)\n",
      "CV Runtime: 52.58795619010925\n"
     ]
    }
   ],
   "source": [
    "start_ts=time.time()\n",
    "# rgr = DecisionTreeRegressor(criterion='mse',\n",
    "#                             splitter='best',\n",
    "#                             max_depth=None,\n",
    "#                             min_samples_split=2,\n",
    "#                             min_samples_leaf=1,\n",
    "#                             max_features=None,\n",
    "#                             random_state=rand_st)\n",
    "rgr = DecisionTreeRegressor(random_state=rand_st)\n",
    "scores = cross_validate(rgr, data_train, target_train, scoring=scorers, cv=10)\n",
    "\n",
    "scores_RMSE = np.asarray([math.sqrt(-x) for x in scores['test_Neg_MSE']])                                                                        #Turns negative MSE scores into RMSE\n",
    "scores_Expl_Var = scores['test_expl_var']\n",
    "\n",
    "perf1['RMSE'].append(scores_RMSE.mean())\n",
    "perf1['Expl_Var'].append(scores_Expl_Var.mean())\n",
    "\n",
    "print(\"Decision Tree RMSE: %0.2f (+/- %0.2f)\" % ((scores_RMSE.mean()), (scores_RMSE.std() * 2)))\n",
    "print(\"Decision Tree Expl Var: %0.2f (+/- %0.2f)\" % ((scores_Expl_Var.mean()), (scores_Expl_Var.std() * 2)))\n",
    "print(\"CV Runtime:\", time.time()-start_ts)"
   ]
  },
  {
   "cell_type": "markdown",
   "metadata": {},
   "source": [
    "## Regression Tree - Low Variance Filter"
   ]
  },
  {
   "cell_type": "code",
   "execution_count": 68,
   "metadata": {},
   "outputs": [
    {
     "name": "stdout",
     "output_type": "stream",
     "text": [
      "--LOW VARIANCE FILTER ON-- \n",
      "\n",
      "Selected ['killPlace', 'killPoints', 'killStreaks', 'matchDuration', 'rankPoints', 'teamKills', 'winPoints']\n",
      "Features (total, selected): 24 7\n",
      "\n",
      "\n",
      "Decision Tree RMSE: 0.15 (+/- 0.00)\n",
      "Decision Tree Expl Var: 0.73 (+/- 0.01)\n",
      "CV Runtime: 21.63052535057068\n"
     ]
    }
   ],
   "source": [
    "##1) Run Low Variance Filter #######\n",
    "\n",
    "#Stepwise Recursive Backwards Feature removal\n",
    "print('--LOW VARIANCE FILTER ON--', '\\n')\n",
    "#LV Threshold\n",
    "sel = VarianceThreshold(threshold=0.01)                                      #Removes any feature with less than 20% variance\n",
    "fit_mod=sel.fit(data_train)\n",
    "fitted=sel.transform(data_train)\n",
    "sel_idx=fit_mod.get_support()\n",
    "\n",
    "##2) Get lists of selected and non-selected features (names and indexes) #######\n",
    "temp=[]\n",
    "temp_idx=[]\n",
    "temp_del=[]\n",
    "for i in range(len(data_train[0])):\n",
    "    if sel_idx[i]==1:                                                           #Selected Features get added to temp header\n",
    "        temp.append(header[i+feat_start])\n",
    "        temp_idx.append(i)\n",
    "    else:                                                                       #Indexes of non-selected features get added to delete array\n",
    "        temp_del.append(i)\n",
    "\n",
    "print('Selected', temp)\n",
    "print('Features (total, selected):', len(data_train[0]), len(temp))\n",
    "print('\\n')\n",
    "\n",
    "##3) Filter selected columns from original dataset #########\n",
    "temp_header = header[0:feat_start]\n",
    "for field in temp:\n",
    "    temp_header.append(field)\n",
    "temp_data_train = np.delete(data_train, temp_del, axis=1)                                 #Deletes non-selected features by index\n",
    "\n",
    "##4) run model\n",
    "start_ts=time.time()\n",
    "rgr = DecisionTreeRegressor(random_state=rand_st)\n",
    "scores = cross_validate(rgr, temp_data_train, target_train, scoring=scorers, cv=10)\n",
    "\n",
    "scores_RMSE = np.asarray([math.sqrt(-x) for x in scores['test_Neg_MSE']])                                                                        #Turns negative MSE scores into RMSE\n",
    "scores_Expl_Var = scores['test_expl_var']\n",
    "\n",
    "perf1['RMSE'].append(scores_RMSE.mean())\n",
    "perf1['Expl_Var'].append(scores_Expl_Var.mean())\n",
    "\n",
    "print(\"Decision Tree RMSE: %0.2f (+/- %0.2f)\" % ((scores_RMSE.mean()), (scores_RMSE.std() * 2)))\n",
    "print(\"Decision Tree Expl Var: %0.2f (+/- %0.2f)\" % ((scores_Expl_Var.mean()), (scores_Expl_Var.std() * 2)))\n",
    "print(\"CV Runtime:\", time.time()-start_ts)"
   ]
  },
  {
   "cell_type": "markdown",
   "metadata": {},
   "source": [
    "## Regression Tree - Stepwise Recursive Backwards Feature removal"
   ]
  },
  {
   "cell_type": "code",
   "execution_count": 24,
   "metadata": {},
   "outputs": [
    {
     "name": "stdout",
     "output_type": "stream",
     "text": [
      "Stepwise Recursive Backwards - Regression Tree: \n",
      "[5 1 1 7 4 3 1 3 1 2 1 1 1 1 1 7 1 6 4 5 6 1 1 2]\n",
      "Selected ['boosts', 'damageDealt', 'killPlace', 'kills', 'longestKill', 'matchDuration', 'maxPlace', 'numGroups', 'rankPoints', 'rideDistance', 'walkDistance', 'weaponsAcquired']\n",
      "Features (total/selected): 24 12\n",
      "\n",
      "\n",
      "------------------------------------------------------------\n",
      "Decision Tree RMSE: 0.08 (+/- 0.00)\n",
      "Decision Tree Expl Var: 0.92 (+/- 0.00)\n",
      "CV Runtime: 40.19416546821594\n"
     ]
    }
   ],
   "source": [
    "##1) Run Feature Selection #######\n",
    "\n",
    "#Stepwise Recursive Backwards Feature removal\n",
    "rgr = DecisionTreeRegressor(random_state=rand_st)\n",
    "sel = RFE(rgr, n_features_to_select=None, step=.1)\n",
    "print('Stepwise Recursive Backwards - Regression Tree: ')\n",
    "\n",
    "fit_mod=sel.fit(data_train, target_train)\n",
    "print(sel.ranking_)\n",
    "sel_idx=fit_mod.get_support()      \n",
    "\n",
    "##2) Get lists of selected and non-selected features (names and indexes) #######\n",
    "temp=[]\n",
    "temp_idx=[]\n",
    "temp_del=[]\n",
    "for i in range(len(data_train[0])):\n",
    "    if sel_idx[i]==1:                                                           #Selected Features get added to temp header\n",
    "        temp.append(header[i+feat_start])\n",
    "        temp_idx.append(i)\n",
    "    else:                                                                       #Indexes of non-selected features get added to delete array\n",
    "        temp_del.append(i)\n",
    "print('Selected', temp)\n",
    "print('Features (total/selected):', len(data_train[0]), len(temp))\n",
    "print('\\n')\n",
    "\n",
    "\n",
    "##3) Filter selected columns from original dataset #########\n",
    "temp_header = header[0:feat_start]\n",
    "for field in temp:\n",
    "    temp_header.append(field)\n",
    "temp_data_train = np.delete(data_train, temp_del, axis=1)                                 #Deletes non-selected features by index)\n",
    "print('-'*60)\n",
    "\n",
    "##4) run model\n",
    "start_ts=time.time()\n",
    "rgr = DecisionTreeRegressor(random_state=rand_st)\n",
    "scores = cross_validate(rgr, temp_data_train, target_train, scoring=scorers, cv=10)\n",
    "\n",
    "scores_RMSE = np.asarray([math.sqrt(-x) for x in scores['test_Neg_MSE']])                                                                        #Turns negative MSE scores into RMSE\n",
    "scores_Expl_Var = scores['test_expl_var']\n",
    "\n",
    "perf1['RMSE'].append(scores_RMSE.mean())\n",
    "perf1['Expl_Var'].append(scores_Expl_Var.mean())\n",
    "\n",
    "print(\"Decision Tree RMSE: %0.2f (+/- %0.2f)\" % ((scores_RMSE.mean()), (scores_RMSE.std() * 2)))\n",
    "print(\"Decision Tree Expl Var: %0.2f (+/- %0.2f)\" % ((scores_Expl_Var.mean()), (scores_Expl_Var.std() * 2)))\n",
    "print(\"CV Runtime:\", time.time()-start_ts)"
   ]
  },
  {
   "cell_type": "markdown",
   "metadata": {},
   "source": [
    "## Regression Tree - Wrapper Selection"
   ]
  },
  {
   "cell_type": "code",
   "execution_count": 62,
   "metadata": {},
   "outputs": [
    {
     "name": "stdout",
     "output_type": "stream",
     "text": [
      "Wrapper Select: \n",
      "Selected ['killPlace', 'walkDistance']\n",
      "Features (total/selected): 24 2\n",
      "\n",
      "\n",
      "------------------------------------------------------------\n",
      "Decision Tree RMSE: 0.10 (+/- 0.00)\n",
      "Decision Tree Expl Var: 0.88 (+/- 0.00)\n",
      "CV Runtime: 13.264935731887817\n"
     ]
    }
   ],
   "source": [
    "##1) Run Feature Selection #######\n",
    "\n",
    "#Wrapper Select via model\n",
    "rgr = DecisionTreeRegressor(random_state=rand_st)\n",
    "sel = SelectFromModel(rgr, prefit=False, threshold='mean')\n",
    "print ('Wrapper Select: ')\n",
    "\n",
    "fit_mod=sel.fit(data_train, target_train)    \n",
    "sel_idx=fit_mod.get_support()\n",
    "\n",
    "##2) Get lists of selected and non-selected features (names and indexes) #######\n",
    "temp=[]\n",
    "temp_idx=[]\n",
    "temp_del=[]\n",
    "for i in range(len(data_train[0])):\n",
    "    if sel_idx[i]==1:                                                           #Selected Features get added to temp header\n",
    "        temp.append(header[i+feat_start])\n",
    "        temp_idx.append(i)\n",
    "    else:                                                                       #Indexes of non-selected features get added to delete array\n",
    "        temp_del.append(i)\n",
    "print('Selected', temp)\n",
    "print('Features (total/selected):', len(data_train[0]), len(temp))\n",
    "print('\\n')\n",
    "\n",
    "\n",
    "##3) Filter selected columns from original dataset #########\n",
    "temp_header = header[0:feat_start]\n",
    "for field in temp:\n",
    "    temp_header.append(field)\n",
    "temp_data_train = np.delete(data_train, temp_del, axis=1)                                 #Deletes non-selected features by index)\n",
    "print('-'*60)\n",
    "\n",
    "\n",
    "##4) run model\n",
    "start_ts=time.time()\n",
    "rgr = DecisionTreeRegressor(random_state=rand_st)\n",
    "scores = cross_validate(rgr, temp_data_train, target_train, scoring=scorers, cv=10)\n",
    "\n",
    "scores_RMSE = np.asarray([math.sqrt(-x) for x in scores['test_Neg_MSE']])                                                                        #Turns negative MSE scores into RMSE\n",
    "scores_Expl_Var = scores['test_expl_var']\n",
    "\n",
    "perf1['RMSE'].append(scores_RMSE.mean())\n",
    "perf1['Expl_Var'].append(scores_Expl_Var.mean())\n",
    "\n",
    "print(\"Decision Tree RMSE: %0.2f (+/- %0.2f)\" % ((scores_RMSE.mean()), (scores_RMSE.std() * 2)))\n",
    "print(\"Decision Tree Expl Var: %0.2f (+/- %0.2f)\" % ((scores_Expl_Var.mean()), (scores_Expl_Var.std() * 2)))\n",
    "print(\"CV Runtime:\", time.time()-start_ts)"
   ]
  },
  {
   "cell_type": "code",
   "execution_count": null,
   "metadata": {},
   "outputs": [],
   "source": []
  },
  {
   "cell_type": "markdown",
   "metadata": {},
   "source": [
    "##################################################################################################################################################\n",
    "## Random Forest Regressor - All Attributes"
   ]
  },
  {
   "cell_type": "code",
   "execution_count": 27,
   "metadata": {},
   "outputs": [
    {
     "name": "stdout",
     "output_type": "stream",
     "text": [
      "Random Forest RMSE: 0.06 (+/- 0.00)\n",
      "Random Forest Expl Var: 0.96 (+/- 0.00)\n",
      "CV Runtime: 333.44928884506226\n"
     ]
    }
   ],
   "source": [
    "start_ts=time.time()\n",
    "# rgr = RandomForestRegressor(n_estimators=10,\n",
    "#                             max_features=.33,\n",
    "#                             max_depth=None,\n",
    "#                             min_samples_split=3,\n",
    "#                             random_state=rand_st)\n",
    "rgr = RandomForestRegressor(random_state=rand_st)\n",
    "scores = cross_validate(rgr, data_train, target_train, scoring=scorers, cv=10)  \n",
    "\n",
    "scores_RMSE = np.asarray([math.sqrt(-x) for x in scores['test_Neg_MSE']])                                       #Turns negative MSE scores into RMSE\n",
    "scores_Expl_Var = scores['test_expl_var']\n",
    "\n",
    "perf1['RMSE'].append(scores_RMSE.mean())\n",
    "perf1['Expl_Var'].append(scores_Expl_Var.mean())\n",
    "\n",
    "print(\"Random Forest RMSE: %0.2f (+/- %0.2f)\" % ((scores_RMSE.mean()), (scores_RMSE.std() * 2)))\n",
    "print(\"Random Forest Expl Var: %0.2f (+/- %0.2f)\" % ((scores_Expl_Var.mean()), (scores_Expl_Var.std() * 2)))\n",
    "print(\"CV Runtime:\", time.time()-start_ts)"
   ]
  },
  {
   "cell_type": "markdown",
   "metadata": {},
   "source": [
    "## Random Forest Regressor - Low Variance Filter"
   ]
  },
  {
   "cell_type": "code",
   "execution_count": 69,
   "metadata": {},
   "outputs": [
    {
     "name": "stdout",
     "output_type": "stream",
     "text": [
      "--LOW VARIANCE FILTER ON-- \n",
      "\n",
      "Selected ['killPlace', 'killPoints', 'killStreaks', 'matchDuration', 'rankPoints', 'teamKills', 'winPoints']\n",
      "Features (total, selected): 24 7\n",
      "\n",
      "\n",
      "Random Forest RMSE: 0.12 (+/- 0.00)\n",
      "Random Forest Expl Var: 0.84 (+/- 0.01)\n",
      "CV Runtime: 144.83263492584229\n"
     ]
    }
   ],
   "source": [
    "##1) Run Low Variance Filter #######\n",
    "\n",
    "#Stepwise Recursive Backwards Feature removal\n",
    "print('--LOW VARIANCE FILTER ON--', '\\n')\n",
    "#LV Threshold\n",
    "sel = VarianceThreshold(threshold=0.01)                                      #Removes any feature with less than 20% variance\n",
    "fit_mod=sel.fit(data_train)\n",
    "fitted=sel.transform(data_train)\n",
    "sel_idx=fit_mod.get_support()\n",
    "\n",
    "##2) Get lists of selected and non-selected features (names and indexes) #######\n",
    "temp=[]\n",
    "temp_idx=[]\n",
    "temp_del=[]\n",
    "for i in range(len(data_train[0])):\n",
    "    if sel_idx[i]==1:                                                           #Selected Features get added to temp header\n",
    "        temp.append(header[i+feat_start])\n",
    "        temp_idx.append(i)\n",
    "    else:                                                                       #Indexes of non-selected features get added to delete array\n",
    "        temp_del.append(i)\n",
    "\n",
    "print('Selected', temp)\n",
    "print('Features (total, selected):', len(data_train[0]), len(temp))\n",
    "print('\\n')\n",
    "\n",
    "##3) Filter selected columns from original dataset #########\n",
    "temp_header = header[0:feat_start]\n",
    "for field in temp:\n",
    "    temp_header.append(field)\n",
    "temp_data_train = np.delete(data_train, temp_del, axis=1)                                 #Deletes non-selected features by index\n",
    "\n",
    "##4) run model\n",
    "start_ts=time.time()\n",
    "rgr = RandomForestRegressor(random_state=rand_st)\n",
    "scores = cross_validate(rgr, temp_data_train, target_train, scoring=scorers, cv=10)\n",
    "\n",
    "scores_RMSE = np.asarray([math.sqrt(-x) for x in scores['test_Neg_MSE']])                                                                        #Turns negative MSE scores into RMSE\n",
    "scores_Expl_Var = scores['test_expl_var']\n",
    "\n",
    "perf1['RMSE'].append(scores_RMSE.mean())\n",
    "perf1['Expl_Var'].append(scores_Expl_Var.mean())\n",
    "\n",
    "print(\"Random Forest RMSE: %0.2f (+/- %0.2f)\" % ((scores_RMSE.mean()), (scores_RMSE.std() * 2)))\n",
    "print(\"Random Forest Expl Var: %0.2f (+/- %0.2f)\" % ((scores_Expl_Var.mean()), (scores_Expl_Var.std() * 2)))\n",
    "print(\"CV Runtime:\", time.time()-start_ts)"
   ]
  },
  {
   "cell_type": "markdown",
   "metadata": {},
   "source": [
    "## Random Forest Regressor - Stepwise Recursive Backwards Feature removal"
   ]
  },
  {
   "cell_type": "code",
   "execution_count": 70,
   "metadata": {},
   "outputs": [
    {
     "name": "stdout",
     "output_type": "stream",
     "text": [
      "Stepwise Recursive Backwards - Random Forest: \n",
      "[5 1 1 7 4 3 1 3 1 2 1 1 1 1 1 7 1 6 4 5 6 1 1 2]\n",
      "Selected ['boosts', 'damageDealt', 'killPlace', 'kills', 'longestKill', 'matchDuration', 'maxPlace', 'numGroups', 'rankPoints', 'rideDistance', 'walkDistance', 'weaponsAcquired']\n",
      "Features (total/selected): 24 12\n",
      "\n",
      "\n",
      "------------------------------------------------------------\n",
      "Random Forest RMSE: 0.06 (+/- 0.00)\n",
      "Random Forest Expl Var: 0.96 (+/- 0.00)\n",
      "CV Runtime: 259.31674551963806\n"
     ]
    }
   ],
   "source": [
    "##1) Run Feature Selection #######\n",
    "\n",
    "#Stepwise Recursive Backwards Feature removal\n",
    "rgr = RandomForestRegressor(random_state=rand_st)\n",
    "sel = RFE(rgr, n_features_to_select=None, step=.1)\n",
    "print('Stepwise Recursive Backwards - Random Forest: ')\n",
    "\n",
    "fit_mod=sel.fit(data_train, target_train)\n",
    "print(sel.ranking_)\n",
    "sel_idx=fit_mod.get_support()      \n",
    "\n",
    "##2) Get lists of selected and non-selected features (names and indexes) #######\n",
    "temp=[]\n",
    "temp_idx=[]\n",
    "temp_del=[]\n",
    "for i in range(len(data_train[0])):\n",
    "    if sel_idx[i]==1:                                                           #Selected Features get added to temp header\n",
    "        temp.append(header[i+feat_start])\n",
    "        temp_idx.append(i)\n",
    "    else:                                                                       #Indexes of non-selected features get added to delete array\n",
    "        temp_del.append(i)\n",
    "print('Selected', temp)\n",
    "print('Features (total/selected):', len(data_train[0]), len(temp))\n",
    "print('\\n')\n",
    "\n",
    "\n",
    "##3) Filter selected columns from original dataset #########\n",
    "temp_header = header[0:feat_start]\n",
    "for field in temp:\n",
    "    temp_header.append(field)\n",
    "temp_data_train = np.delete(data_train, temp_del, axis=1)                                 #Deletes non-selected features by index)\n",
    "print('-'*60)\n",
    "\n",
    "##4) run model\n",
    "start_ts=time.time()\n",
    "rgr = RandomForestRegressor(random_state=rand_st)\n",
    "scores = cross_validate(rgr, temp_data_train, target_train, scoring=scorers, cv=10)\n",
    "\n",
    "scores_RMSE = np.asarray([math.sqrt(-x) for x in scores['test_Neg_MSE']])                                                                        #Turns negative MSE scores into RMSE\n",
    "scores_Expl_Var = scores['test_expl_var']\n",
    "\n",
    "perf1['RMSE'].append(scores_RMSE.mean())\n",
    "perf1['Expl_Var'].append(scores_Expl_Var.mean())\n",
    "\n",
    "print(\"Random Forest RMSE: %0.2f (+/- %0.2f)\" % ((scores_RMSE.mean()), (scores_RMSE.std() * 2)))\n",
    "print(\"Random Forest Expl Var: %0.2f (+/- %0.2f)\" % ((scores_Expl_Var.mean()), (scores_Expl_Var.std() * 2)))\n",
    "print(\"CV Runtime:\", time.time()-start_ts)"
   ]
  },
  {
   "cell_type": "markdown",
   "metadata": {},
   "source": [
    "## Random Forest Regressor - Wrapper Selection"
   ]
  },
  {
   "cell_type": "code",
   "execution_count": 67,
   "metadata": {},
   "outputs": [
    {
     "name": "stdout",
     "output_type": "stream",
     "text": [
      "Wrapper Select: \n",
      "Selected ['killPlace', 'walkDistance']\n",
      "Features (total/selected): 24 2\n",
      "\n",
      "\n",
      "------------------------------------------------------------\n",
      "Random Forest RMSE: 0.09 (+/- 0.00)\n",
      "Random Forest Expl Var: 0.91 (+/- 0.00)\n",
      "CV Runtime: 92.47164344787598\n"
     ]
    }
   ],
   "source": [
    "##1) Run Feature Selection #######\n",
    "\n",
    "#Wrapper Select via model\n",
    "rgr = RandomForestRegressor(random_state=rand_st)\n",
    "sel = SelectFromModel(rgr, prefit=False, threshold='mean')\n",
    "print ('Wrapper Select: ')\n",
    "\n",
    "fit_mod=sel.fit(data_train, target_train)    \n",
    "sel_idx=fit_mod.get_support()\n",
    "\n",
    "##2) Get lists of selected and non-selected features (names and indexes) #######\n",
    "temp=[]\n",
    "temp_idx=[]\n",
    "temp_del=[]\n",
    "for i in range(len(data_train[0])):\n",
    "    if sel_idx[i]==1:                                                           #Selected Features get added to temp header\n",
    "        temp.append(header[i+feat_start])\n",
    "        temp_idx.append(i)\n",
    "    else:                                                                       #Indexes of non-selected features get added to delete array\n",
    "        temp_del.append(i)\n",
    "print('Selected', temp)\n",
    "print('Features (total/selected):', len(data_train[0]), len(temp))\n",
    "print('\\n')\n",
    "\n",
    "\n",
    "##3) Filter selected columns from original dataset #########\n",
    "temp_header = header[0:feat_start]\n",
    "for field in temp:\n",
    "    temp_header.append(field)\n",
    "temp_data_train = np.delete(data_train, temp_del, axis=1)                                 #Deletes non-selected features by index)\n",
    "print('-'*60)\n",
    "\n",
    "\n",
    "##4) run model\n",
    "start_ts=time.time()\n",
    "rgr = RandomForestRegressor(random_state=rand_st)\n",
    "scores = cross_validate(rgr, temp_data_train, target_train, scoring=scorers, cv=10)\n",
    "\n",
    "scores_RMSE = np.asarray([math.sqrt(-x) for x in scores['test_Neg_MSE']])                                                                        #Turns negative MSE scores into RMSE\n",
    "scores_Expl_Var = scores['test_expl_var']\n",
    "\n",
    "perf1['RMSE'].append(scores_RMSE.mean())\n",
    "perf1['Expl_Var'].append(scores_Expl_Var.mean())\n",
    "\n",
    "print(\"Random Forest RMSE: %0.2f (+/- %0.2f)\" % ((scores_RMSE.mean()), (scores_RMSE.std() * 2)))\n",
    "print(\"Random Forest Expl Var: %0.2f (+/- %0.2f)\" % ((scores_Expl_Var.mean()), (scores_Expl_Var.std() * 2)))\n",
    "print(\"CV Runtime:\", time.time()-start_ts)"
   ]
  },
  {
   "cell_type": "markdown",
   "metadata": {},
   "source": [
    "##################################################################################################################################################\n",
    "## Bagging (RT) - All Attributes"
   ]
  },
  {
   "cell_type": "code",
   "execution_count": 28,
   "metadata": {},
   "outputs": [
    {
     "name": "stdout",
     "output_type": "stream",
     "text": [
      "Bagging Regressor RMSE: 0.06 (+/- 0.00)\n",
      "Bagging Regressor Expl Var: 0.96 (+/- 0.00)\n",
      "CV Runtime: 128.8214054107666\n"
     ]
    }
   ],
   "source": [
    "RMSE, Expl_Var = [],[]\n",
    "start_ts=time.time()\n",
    "for i in range(5):\n",
    "    ####Regressors####\n",
    "    #SciKit Bagging Regressor - Cross Val\n",
    "#     rgr = DecisionTreeRegressor(criterion='mse',\n",
    "#                                 splitter='best',\n",
    "#                                 max_depth=None,\n",
    "#                                 min_samples_split=2,\n",
    "#                                 min_samples_leaf=1,\n",
    "#                                 max_features=None,\n",
    "#                                 random_state=rand_st)  \n",
    "    rgr = DecisionTreeRegressor(random_state=rand_st) \n",
    "    bag = BaggingRegressor(base_estimator=rgr, max_samples=0.6, random_state=rand_st) \n",
    "    bag.fit(data_train, target_train) \n",
    "\n",
    "    scores_RMSE = math.sqrt(metrics.mean_squared_error(target_test, bag.predict(data_test)))\n",
    "\n",
    "    RMSE.append(scores_RMSE)\n",
    "    scores_Expl_Var = metrics.explained_variance_score(target_test, bag.predict(data_test))\n",
    "\n",
    "    Expl_Var.append(scores_Expl_Var)\n",
    "\n",
    "\n",
    "perf1['RMSE'].append(np.array(scores_RMSE).mean())\n",
    "perf1['Expl_Var'].append(np.array(scores_Expl_Var).mean())\n",
    "\n",
    "print(\"Bagging Regressor RMSE: %0.2f (+/- %0.2f)\" % ((np.array(RMSE).mean()), (np.array(RMSE).std() * 2)))\n",
    "print(\"Bagging Regressor Expl Var: %0.2f (+/- %0.2f)\" % ((np.array(Expl_Var).mean()), (np.array(Expl_Var).std() * 2)))\n",
    "print(\"CV Runtime:\", time.time()-start_ts)"
   ]
  },
  {
   "cell_type": "markdown",
   "metadata": {},
   "source": [
    "## Bagging (RT) - Low Variance Filter"
   ]
  },
  {
   "cell_type": "code",
   "execution_count": 29,
   "metadata": {},
   "outputs": [
    {
     "name": "stdout",
     "output_type": "stream",
     "text": [
      "--LOW VARIANCE FILTER ON-- \n",
      "\n",
      "Selected ['killPlace', 'killPoints', 'killStreaks', 'matchDuration', 'rankPoints', 'teamKills', 'winPoints']\n",
      "Features (total, selected): 24 7\n",
      "\n",
      "\n",
      "Bagging Regressor RMSE: 0.54 (+/- 0.00)\n",
      "Bagging Regressor Expl Var: -0.46 (+/- 0.00)\n",
      "CV Runtime: 46.93961477279663\n"
     ]
    }
   ],
   "source": [
    "##1) Run Low Variance Filter #######\n",
    "\n",
    "#Stepwise Recursive Backwards Feature removal\n",
    "print('--LOW VARIANCE FILTER ON--', '\\n')\n",
    "#LV Threshold\n",
    "sel = VarianceThreshold(threshold=0.01)                                      #Removes any feature with less than 20% variance\n",
    "fit_mod=sel.fit(data_train)\n",
    "fitted=sel.transform(data_train)\n",
    "sel_idx=fit_mod.get_support()\n",
    "\n",
    "##2) Get lists of selected and non-selected features (names and indexes) #######\n",
    "temp=[]\n",
    "temp_idx=[]\n",
    "temp_del=[]\n",
    "for i in range(len(data_train[0])):\n",
    "    if sel_idx[i]==1:                                                           #Selected Features get added to temp header\n",
    "        temp.append(header[i+feat_start])\n",
    "        temp_idx.append(i)\n",
    "    else:                                                                       #Indexes of non-selected features get added to delete array\n",
    "        temp_del.append(i)\n",
    "\n",
    "print('Selected', temp)\n",
    "print('Features (total, selected):', len(data_train[0]), len(temp))\n",
    "print('\\n')\n",
    "\n",
    "##3) Filter selected columns from original dataset #########\n",
    "temp_header = header[0:feat_start]\n",
    "for field in temp:\n",
    "    temp_header.append(field)\n",
    "temp_data_train = np.delete(data_train, temp_del, axis=1)                                 #Deletes non-selected features by index\n",
    "\n",
    "##4) run model\n",
    "RMSE, Expl_Var = [],[]\n",
    "start_ts=time.time()\n",
    "for i in range(5):\n",
    "    ####Regressors####\n",
    "    #SciKit Bagging Regressor - Cross Val\n",
    "    rgr = DecisionTreeRegressor(random_state=rand_st) \n",
    "    bag = BaggingRegressor(base_estimator=rgr, max_samples=0.6, random_state=rand_st) \n",
    "    bag.fit(temp_data_train, target_train) \n",
    "\n",
    "    scores_RMSE = math.sqrt(metrics.mean_squared_error(target_test, bag.predict(data_test)))\n",
    "\n",
    "    RMSE.append(scores_RMSE)\n",
    "    scores_Expl_Var = metrics.explained_variance_score(target_test, bag.predict(data_test))\n",
    "\n",
    "    Expl_Var.append(scores_Expl_Var)\n",
    "\n",
    "\n",
    "perf1['RMSE'].append(np.array(scores_RMSE).mean())\n",
    "perf1['Expl_Var'].append(np.array(scores_Expl_Var).mean())\n",
    "\n",
    "print(\"Bagging Regressor RMSE: %0.2f (+/- %0.2f)\" % ((np.array(RMSE).mean()), (np.array(RMSE).std() * 2)))\n",
    "print(\"Bagging Regressor Expl Var: %0.2f (+/- %0.2f)\" % ((np.array(Expl_Var).mean()), (np.array(Expl_Var).std() * 2)))\n",
    "print(\"CV Runtime:\", time.time()-start_ts)"
   ]
  },
  {
   "cell_type": "markdown",
   "metadata": {},
   "source": [
    "## Bagging (RT) - Stepwise Recursive Backwards Feature removal"
   ]
  },
  {
   "cell_type": "code",
   "execution_count": 26,
   "metadata": {},
   "outputs": [
    {
     "name": "stdout",
     "output_type": "stream",
     "text": [
      "Stepwise Recursive Backwards - Regression Tree: \n",
      "[5 1 1 7 4 3 1 3 1 2 1 1 1 1 1 7 1 6 4 5 6 1 1 2]\n",
      "Selected ['boosts', 'damageDealt', 'killPlace', 'kills', 'longestKill', 'matchDuration', 'maxPlace', 'numGroups', 'rankPoints', 'rideDistance', 'walkDistance', 'weaponsAcquired']\n",
      "Features (total/selected): 24 12\n",
      "\n",
      "\n",
      "------------------------------------------------------------\n",
      "Bagging Regressor RMSE: 0.30 (+/- 0.00)\n",
      "Bagging Regressor Expl Var: 0.09 (+/- 0.00)\n",
      "CV Runtime: 93.5814700126648\n"
     ]
    }
   ],
   "source": [
    "##1) Run Feature Selection #######\n",
    "\n",
    "#Stepwise Recursive Backwards Feature removal\n",
    "rgr = DecisionTreeRegressor(random_state=rand_st)\n",
    "sel = RFE(rgr, n_features_to_select=None, step=.1)\n",
    "print('Stepwise Recursive Backwards - Regression Tree: ')\n",
    "\n",
    "fit_mod=sel.fit(data_train, target_train)\n",
    "print(sel.ranking_)\n",
    "sel_idx=fit_mod.get_support()      \n",
    "\n",
    "##2) Get lists of selected and non-selected features (names and indexes) #######\n",
    "temp=[]\n",
    "temp_idx=[]\n",
    "temp_del=[]\n",
    "for i in range(len(data_train[0])):\n",
    "    if sel_idx[i]==1:                                                           #Selected Features get added to temp header\n",
    "        temp.append(header[i+feat_start])\n",
    "        temp_idx.append(i)\n",
    "    else:                                                                       #Indexes of non-selected features get added to delete array\n",
    "        temp_del.append(i)\n",
    "print('Selected', temp)\n",
    "print('Features (total/selected):', len(data_train[0]), len(temp))\n",
    "print('\\n')\n",
    "\n",
    "\n",
    "##3) Filter selected columns from original dataset #########\n",
    "temp_header = header[0:feat_start]\n",
    "for field in temp:\n",
    "    temp_header.append(field)\n",
    "temp_data_train = np.delete(data_train, temp_del, axis=1)                                 #Deletes non-selected features by index)\n",
    "print('-'*60)\n",
    "\n",
    "##4) run model\n",
    "RMSE, Expl_Var = [],[]\n",
    "start_ts=time.time()\n",
    "for i in range(5):\n",
    "    ####Regressors####\n",
    "    #SciKit Bagging Regressor - Cross Val\n",
    "    rgr = DecisionTreeRegressor(random_state=rand_st) \n",
    "    bag = BaggingRegressor(base_estimator=rgr, max_samples=0.6, random_state=rand_st) \n",
    "    bag.fit(temp_data_train, target_train) \n",
    "\n",
    "    scores_RMSE = math.sqrt(metrics.mean_squared_error(target_test, bag.predict(data_test)))\n",
    "\n",
    "    RMSE.append(scores_RMSE)\n",
    "    scores_Expl_Var = metrics.explained_variance_score(target_test, bag.predict(data_test))\n",
    "\n",
    "    Expl_Var.append(scores_Expl_Var)\n",
    "\n",
    "\n",
    "perf1['RMSE'].append(np.array(scores_RMSE).mean())\n",
    "perf1['Expl_Var'].append(np.array(scores_Expl_Var).mean())\n",
    "\n",
    "print(\"Bagging Regressor RMSE: %0.2f (+/- %0.2f)\" % ((np.array(RMSE).mean()), (np.array(RMSE).std() * 2)))\n",
    "print(\"Bagging Regressor Expl Var: %0.2f (+/- %0.2f)\" % ((np.array(Expl_Var).mean()), (np.array(Expl_Var).std() * 2)))\n",
    "print(\"CV Runtime:\", time.time()-start_ts)"
   ]
  },
  {
   "cell_type": "markdown",
   "metadata": {},
   "source": [
    "## Bagging (RT) - Wrapper Selection"
   ]
  },
  {
   "cell_type": "code",
   "execution_count": 30,
   "metadata": {},
   "outputs": [
    {
     "name": "stdout",
     "output_type": "stream",
     "text": [
      "Wrapper Select: \n",
      "Selected ['killPlace', 'walkDistance']\n",
      "Features (total/selected): 24 2\n",
      "\n",
      "\n",
      "------------------------------------------------------------\n",
      "Bagging Regressor RMSE: 0.30 (+/- 0.00)\n",
      "Bagging Regressor Expl Var: 0.16 (+/- 0.00)\n",
      "CV Runtime: 27.532679557800293\n"
     ]
    }
   ],
   "source": [
    "##1) Run Feature Selection #######\n",
    "\n",
    "#Wrapper Select via model\n",
    "rgr = DecisionTreeRegressor(random_state=rand_st)\n",
    "sel = SelectFromModel(rgr, prefit=False, threshold='mean')\n",
    "print ('Wrapper Select: ')\n",
    "\n",
    "fit_mod=sel.fit(data_train, target_train)    \n",
    "sel_idx=fit_mod.get_support()\n",
    "\n",
    "##2) Get lists of selected and non-selected features (names and indexes) #######\n",
    "temp=[]\n",
    "temp_idx=[]\n",
    "temp_del=[]\n",
    "for i in range(len(data_train[0])):\n",
    "    if sel_idx[i]==1:                                                           #Selected Features get added to temp header\n",
    "        temp.append(header[i+feat_start])\n",
    "        temp_idx.append(i)\n",
    "    else:                                                                       #Indexes of non-selected features get added to delete array\n",
    "        temp_del.append(i)\n",
    "print('Selected', temp)\n",
    "print('Features (total/selected):', len(data_train[0]), len(temp))\n",
    "print('\\n')\n",
    "\n",
    "\n",
    "##3) Filter selected columns from original dataset #########\n",
    "temp_header = header[0:feat_start]\n",
    "for field in temp:\n",
    "    temp_header.append(field)\n",
    "temp_data_train = np.delete(data_train, temp_del, axis=1)                                 #Deletes non-selected features by index)\n",
    "print('-'*60)\n",
    "\n",
    "\n",
    "##4) run model\n",
    "RMSE, Expl_Var = [],[]\n",
    "start_ts=time.time()\n",
    "for i in range(5):\n",
    "    ####Regressors####\n",
    "    #SciKit Bagging Regressor - Cross Val\n",
    "    rgr = DecisionTreeRegressor(random_state=rand_st) \n",
    "    bag = BaggingRegressor(base_estimator=rgr, max_samples=0.6, random_state=rand_st) \n",
    "    bag.fit(temp_data_train, target_train) \n",
    "\n",
    "    scores_RMSE = math.sqrt(metrics.mean_squared_error(target_test, bag.predict(data_test)))\n",
    "\n",
    "    RMSE.append(scores_RMSE)\n",
    "    scores_Expl_Var = metrics.explained_variance_score(target_test, bag.predict(data_test))\n",
    "\n",
    "    Expl_Var.append(scores_Expl_Var)\n",
    "\n",
    "\n",
    "perf1['RMSE'].append(np.array(scores_RMSE).mean())\n",
    "perf1['Expl_Var'].append(np.array(scores_Expl_Var).mean())\n",
    "\n",
    "print(\"Bagging Regressor RMSE: %0.2f (+/- %0.2f)\" % ((np.array(RMSE).mean()), (np.array(RMSE).std() * 2)))\n",
    "print(\"Bagging Regressor Expl Var: %0.2f (+/- %0.2f)\" % ((np.array(Expl_Var).mean()), (np.array(Expl_Var).std() * 2)))\n",
    "print(\"CV Runtime:\", time.time()-start_ts)"
   ]
  },
  {
   "cell_type": "markdown",
   "metadata": {},
   "source": [
    "##################################################################################################################################################\n",
    "## Gradient Boosting - All attributes"
   ]
  },
  {
   "cell_type": "code",
   "execution_count": 29,
   "metadata": {},
   "outputs": [
    {
     "name": "stdout",
     "output_type": "stream",
     "text": [
      "Gradient Boosting RMSE: 0.07 (+/- 0.00)\n",
      "Gradient Boosting Expl Var: 0.95 (+/- 0.00)\n",
      "CV Runtime: 526.9824743270874\n"
     ]
    }
   ],
   "source": [
    "start_ts=time.time()\n",
    "# rgr= GradientBoostingRegressor(n_estimators=10,\n",
    "#                                loss='ls',\n",
    "#                                learning_rate=.1,\n",
    "#                                max_depth=3,\n",
    "#                                min_samples_split=3,\n",
    "#                                random_state=rand_st)\n",
    "rgr= GradientBoostingRegressor(random_state=rand_st)\n",
    "scores = cross_validate(rgr, data_train, target_train, scoring=scorers, cv=10)                                                                                                  \n",
    "\n",
    "scores_RMSE = np.asarray([math.sqrt(-x) for x in scores['test_Neg_MSE']])                                       #Turns negative MSE scores into RMSE\n",
    "scores_Expl_Var = scores['test_expl_var']\n",
    "\n",
    "perf1['RMSE'].append(np.array(scores_RMSE).mean())\n",
    "perf1['Expl_Var'].append(np.array(scores_Expl_Var).mean())\n",
    "\n",
    "print(\"Gradient Boosting RMSE: %0.2f (+/- %0.2f)\" % ((scores_RMSE.mean()), (scores_RMSE.std() * 2)))\n",
    "print(\"Gradient Boosting Expl Var: %0.2f (+/- %0.2f)\" % ((scores_Expl_Var.mean()), (scores_Expl_Var.std() * 2)))\n",
    "print(\"CV Runtime:\", time.time()-start_ts)"
   ]
  },
  {
   "cell_type": "markdown",
   "metadata": {},
   "source": [
    "## Gradient Boosting - Low Variance Filter"
   ]
  },
  {
   "cell_type": "code",
   "execution_count": 74,
   "metadata": {},
   "outputs": [
    {
     "name": "stdout",
     "output_type": "stream",
     "text": [
      "--LOW VARIANCE FILTER ON-- \n",
      "\n",
      "Selected ['killPlace', 'killPoints', 'killStreaks', 'matchDuration', 'rankPoints', 'teamKills', 'winPoints']\n",
      "Features (total, selected): 24 7\n",
      "\n",
      "\n",
      "Gradient Boosting RMSE: 0.11 (+/- 0.00)\n",
      "Gradient Boosting Expl Var: 0.86 (+/- 0.00)\n",
      "CV Runtime: 181.9319462776184\n"
     ]
    }
   ],
   "source": [
    "##1) Run Low Variance Filter #######\n",
    "\n",
    "#Stepwise Recursive Backwards Feature removal\n",
    "print('--LOW VARIANCE FILTER ON--', '\\n')\n",
    "#LV Threshold\n",
    "sel = VarianceThreshold(threshold=0.01)                                      #Removes any feature with less than 20% variance\n",
    "fit_mod=sel.fit(data_train)\n",
    "fitted=sel.transform(data_train)\n",
    "sel_idx=fit_mod.get_support()\n",
    "\n",
    "##2) Get lists of selected and non-selected features (names and indexes) #######\n",
    "temp=[]\n",
    "temp_idx=[]\n",
    "temp_del=[]\n",
    "for i in range(len(data_train[0])):\n",
    "    if sel_idx[i]==1:                                                           #Selected Features get added to temp header\n",
    "        temp.append(header[i+feat_start])\n",
    "        temp_idx.append(i)\n",
    "    else:                                                                       #Indexes of non-selected features get added to delete array\n",
    "        temp_del.append(i)\n",
    "\n",
    "print('Selected', temp)\n",
    "print('Features (total, selected):', len(data_train[0]), len(temp))\n",
    "print('\\n')\n",
    "\n",
    "##3) Filter selected columns from original dataset #########\n",
    "temp_header = header[0:feat_start]\n",
    "for field in temp:\n",
    "    temp_header.append(field)\n",
    "temp_data_train = np.delete(data_train, temp_del, axis=1)                                 #Deletes non-selected features by index\n",
    "\n",
    "##4) run model\n",
    "start_ts=time.time()\n",
    "rgr = GradientBoostingRegressor(random_state=rand_st)\n",
    "scores = cross_validate(rgr, temp_data_train, target_train, scoring=scorers, cv=10)\n",
    "\n",
    "scores_RMSE = np.asarray([math.sqrt(-x) for x in scores['test_Neg_MSE']])                                                                        #Turns negative MSE scores into RMSE\n",
    "scores_Expl_Var = scores['test_expl_var']\n",
    "\n",
    "perf1['RMSE'].append(scores_RMSE.mean())\n",
    "perf1['Expl_Var'].append(scores_Expl_Var.mean())\n",
    "\n",
    "print(\"Gradient Boosting RMSE: %0.2f (+/- %0.2f)\" % ((scores_RMSE.mean()), (scores_RMSE.std() * 2)))\n",
    "print(\"Gradient Boosting Expl Var: %0.2f (+/- %0.2f)\" % ((scores_Expl_Var.mean()), (scores_Expl_Var.std() * 2)))\n",
    "print(\"CV Runtime:\", time.time()-start_ts)"
   ]
  },
  {
   "cell_type": "markdown",
   "metadata": {},
   "source": [
    "## Gradient Boosting - Stepwise Recursive Backwards Feature removal"
   ]
  },
  {
   "cell_type": "code",
   "execution_count": 27,
   "metadata": {},
   "outputs": [
    {
     "name": "stdout",
     "output_type": "stream",
     "text": [
      "Stepwise Recursive Backwards - Gradient Boosting: \n",
      "[2 1 5 7 6 3 1 3 1 1 4 1 1 1 1 5 1 6 1 4 7 1 1 2]\n",
      "Selected ['boosts', 'killPlace', 'kills', 'killStreaks', 'matchDuration', 'maxPlace', 'numGroups', 'rankPoints', 'rideDistance', 'swimDistance', 'walkDistance', 'weaponsAcquired']\n",
      "Features (total/selected): 24 12\n",
      "\n",
      "\n",
      "------------------------------------------------------------\n",
      "Gradient Boosting RMSE: 0.07 (+/- 0.00)\n",
      "Gradient Boosting Expl Var: 0.95 (+/- 0.00)\n",
      "CV Runtime: 307.12091302871704\n"
     ]
    }
   ],
   "source": [
    "##1) Run Feature Selection #######\n",
    "\n",
    "#Stepwise Recursive Backwards Feature removal\n",
    "rgr = GradientBoostingRegressor(random_state=rand_st)\n",
    "sel = RFE(rgr, n_features_to_select=None, step=.1)\n",
    "print('Stepwise Recursive Backwards - Gradient Boosting: ')\n",
    "\n",
    "fit_mod=sel.fit(data_train, target_train)\n",
    "print(sel.ranking_)\n",
    "sel_idx=fit_mod.get_support()      \n",
    "\n",
    "##2) Get lists of selected and non-selected features (names and indexes) #######\n",
    "temp=[]\n",
    "temp_idx=[]\n",
    "temp_del=[]\n",
    "for i in range(len(data_train[0])):\n",
    "    if sel_idx[i]==1:                                                           #Selected Features get added to temp header\n",
    "        temp.append(header[i+feat_start])\n",
    "        temp_idx.append(i)\n",
    "    else:                                                                       #Indexes of non-selected features get added to delete array\n",
    "        temp_del.append(i)\n",
    "print('Selected', temp)\n",
    "print('Features (total/selected):', len(data_train[0]), len(temp))\n",
    "print('\\n')\n",
    "\n",
    "\n",
    "##3) Filter selected columns from original dataset #########\n",
    "temp_header = header[0:feat_start]\n",
    "for field in temp:\n",
    "    temp_header.append(field)\n",
    "temp_data_train = np.delete(data_train, temp_del, axis=1)                                 #Deletes non-selected features by index)\n",
    "print('-'*60)\n",
    "\n",
    "##4) run model\n",
    "start_ts=time.time()\n",
    "rgr = GradientBoostingRegressor(random_state=rand_st)\n",
    "scores = cross_validate(rgr, temp_data_train, target_train, scoring=scorers, cv=10)\n",
    "\n",
    "scores_RMSE = np.asarray([math.sqrt(-x) for x in scores['test_Neg_MSE']])                                                                        #Turns negative MSE scores into RMSE\n",
    "scores_Expl_Var = scores['test_expl_var']\n",
    "\n",
    "perf1['RMSE'].append(scores_RMSE.mean())\n",
    "perf1['Expl_Var'].append(scores_Expl_Var.mean())\n",
    "\n",
    "print(\"Gradient Boosting RMSE: %0.2f (+/- %0.2f)\" % ((scores_RMSE.mean()), (scores_RMSE.std() * 2)))\n",
    "print(\"Gradient Boosting Expl Var: %0.2f (+/- %0.2f)\" % ((scores_Expl_Var.mean()), (scores_Expl_Var.std() * 2)))\n",
    "print(\"CV Runtime:\", time.time()-start_ts)"
   ]
  },
  {
   "cell_type": "markdown",
   "metadata": {},
   "source": [
    "## Gradient Boosting - Wrapper Selection"
   ]
  },
  {
   "cell_type": "code",
   "execution_count": 76,
   "metadata": {},
   "outputs": [
    {
     "name": "stdout",
     "output_type": "stream",
     "text": [
      "Wrapper Select: \n",
      "Selected ['boosts', 'killPlace', 'kills', 'killStreaks', 'matchDuration', 'numGroups', 'rideDistance', 'walkDistance']\n",
      "Features (total/selected): 24 8\n",
      "\n",
      "\n",
      "------------------------------------------------------------\n",
      "Gradient Boosting RMSE: 0.07 (+/- 0.00)\n",
      "Gradient Boosting Expl Var: 0.95 (+/- 0.00)\n",
      "CV Runtime: 217.71349596977234\n"
     ]
    }
   ],
   "source": [
    "##1) Run Feature Selection #######\n",
    "\n",
    "#Wrapper Select via model\n",
    "rgr = GradientBoostingRegressor(random_state=rand_st)\n",
    "sel = SelectFromModel(rgr, prefit=False, threshold='mean')\n",
    "print ('Wrapper Select: ')\n",
    "\n",
    "fit_mod=sel.fit(data_train, target_train)    \n",
    "sel_idx=fit_mod.get_support()\n",
    "\n",
    "##2) Get lists of selected and non-selected features (names and indexes) #######\n",
    "temp=[]\n",
    "temp_idx=[]\n",
    "temp_del=[]\n",
    "for i in range(len(data_train[0])):\n",
    "    if sel_idx[i]==1:                                                           #Selected Features get added to temp header\n",
    "        temp.append(header[i+feat_start])\n",
    "        temp_idx.append(i)\n",
    "    else:                                                                       #Indexes of non-selected features get added to delete array\n",
    "        temp_del.append(i)\n",
    "print('Selected', temp)\n",
    "print('Features (total/selected):', len(data_train[0]), len(temp))\n",
    "print('\\n')\n",
    "\n",
    "\n",
    "##3) Filter selected columns from original dataset #########\n",
    "temp_header = header[0:feat_start]\n",
    "for field in temp:\n",
    "    temp_header.append(field)\n",
    "temp_data_train = np.delete(data_train, temp_del, axis=1)                                 #Deletes non-selected features by index)\n",
    "print('-'*60)\n",
    "\n",
    "\n",
    "##4) run model\n",
    "start_ts=time.time()\n",
    "rgr = GradientBoostingRegressor(random_state=rand_st)\n",
    "scores = cross_validate(rgr, temp_data_train, target_train, scoring=scorers, cv=10)\n",
    "\n",
    "scores_RMSE = np.asarray([math.sqrt(-x) for x in scores['test_Neg_MSE']])                                                                        #Turns negative MSE scores into RMSE\n",
    "scores_Expl_Var = scores['test_expl_var']\n",
    "\n",
    "perf1['RMSE'].append(scores_RMSE.mean())\n",
    "perf1['Expl_Var'].append(scores_Expl_Var.mean())\n",
    "\n",
    "print(\"Gradient Boosting RMSE: %0.2f (+/- %0.2f)\" % ((scores_RMSE.mean()), (scores_RMSE.std() * 2)))\n",
    "print(\"Gradient Boosting Expl Var: %0.2f (+/- %0.2f)\" % ((scores_Expl_Var.mean()), (scores_Expl_Var.std() * 2)))\n",
    "print(\"CV Runtime:\", time.time()-start_ts)"
   ]
  },
  {
   "cell_type": "markdown",
   "metadata": {},
   "source": [
    "##################################################################################################################################################\n",
    "## Ada Boosting - All Attributes"
   ]
  },
  {
   "cell_type": "code",
   "execution_count": 59,
   "metadata": {},
   "outputs": [
    {
     "name": "stdout",
     "output_type": "stream",
     "text": [
      "Ada Boosting RMSE:: 0.10 (+/- 0.00)\n",
      "Ada Boosting Expl Var: 0.89 (+/- 0.01)\n",
      "CV Runtime: 456.62863302230835\n"
     ]
    }
   ],
   "source": [
    "start_ts=time.time()\n",
    "# rgr= AdaBoostRegressor(n_estimators=10,\n",
    "#                        base_estimator=None,\n",
    "#                        loss = 'linear',\n",
    "#                        learning_rate=.5,\n",
    "#                        random_state=rand_st)\n",
    "rgr= AdaBoostRegressor(random_state=rand_st)\n",
    "scores = cross_validate(rgr, data_train, target_train, scoring=scorers, cv=10)                                                                                                  \n",
    "\n",
    "scores_RMSE = np.asarray([math.sqrt(-x) for x in scores['test_Neg_MSE']])                                       #Turns negative MSE scores into RMSE\n",
    "scores_Expl_Var = scores['test_expl_var']\n",
    "\n",
    "perf1['RMSE'].append(np.array(scores_RMSE).mean())\n",
    "perf1['Expl_Var'].append(np.array(scores_Expl_Var).mean())\n",
    "\n",
    "print(\"Ada Boosting RMSE: %0.2f (+/- %0.2f)\" % ((scores_RMSE.mean()), (scores_RMSE.std() * 2)))\n",
    "print(\"Ada Boosting Expl Var: %0.2f (+/- %0.2f)\" % ((scores_Expl_Var.mean()), (scores_Expl_Var.std() * 2)))\n",
    "print(\"CV Runtime:\", time.time()-start_ts)"
   ]
  },
  {
   "cell_type": "markdown",
   "metadata": {},
   "source": [
    "## Ada Boosting - Low Variance Filter"
   ]
  },
  {
   "cell_type": "code",
   "execution_count": 77,
   "metadata": {},
   "outputs": [
    {
     "name": "stdout",
     "output_type": "stream",
     "text": [
      "--LOW VARIANCE FILTER ON-- \n",
      "\n",
      "Selected ['killPlace', 'killPoints', 'killStreaks', 'matchDuration', 'rankPoints', 'teamKills', 'winPoints']\n",
      "Features (total, selected): 24 7\n",
      "\n",
      "\n",
      "Ada Boosting RMSE: 0.15 (+/- 0.00)\n",
      "Ada Boosting Expl Var: 0.76 (+/- 0.01)\n",
      "CV Runtime: 130.969868183136\n"
     ]
    }
   ],
   "source": [
    "##1) Run Low Variance Filter #######\n",
    "\n",
    "#Stepwise Recursive Backwards Feature removal\n",
    "print('--LOW VARIANCE FILTER ON--', '\\n')\n",
    "#LV Threshold\n",
    "sel = VarianceThreshold(threshold=0.01)                                      #Removes any feature with less than 20% variance\n",
    "fit_mod=sel.fit(data_train)\n",
    "fitted=sel.transform(data_train)\n",
    "sel_idx=fit_mod.get_support()\n",
    "\n",
    "##2) Get lists of selected and non-selected features (names and indexes) #######\n",
    "temp=[]\n",
    "temp_idx=[]\n",
    "temp_del=[]\n",
    "for i in range(len(data_train[0])):\n",
    "    if sel_idx[i]==1:                                                           #Selected Features get added to temp header\n",
    "        temp.append(header[i+feat_start])\n",
    "        temp_idx.append(i)\n",
    "    else:                                                                       #Indexes of non-selected features get added to delete array\n",
    "        temp_del.append(i)\n",
    "\n",
    "print('Selected', temp)\n",
    "print('Features (total, selected):', len(data_train[0]), len(temp))\n",
    "print('\\n')\n",
    "\n",
    "##3) Filter selected columns from original dataset #########\n",
    "temp_header = header[0:feat_start]\n",
    "for field in temp:\n",
    "    temp_header.append(field)\n",
    "temp_data_train = np.delete(data_train, temp_del, axis=1)                                 #Deletes non-selected features by index\n",
    "\n",
    "##4) run model\n",
    "start_ts=time.time()\n",
    "rgr = AdaBoostRegressor(random_state=rand_st)\n",
    "scores = cross_validate(rgr, temp_data_train, target_train, scoring=scorers, cv=10)\n",
    "\n",
    "scores_RMSE = np.asarray([math.sqrt(-x) for x in scores['test_Neg_MSE']])                                                                        #Turns negative MSE scores into RMSE\n",
    "scores_Expl_Var = scores['test_expl_var']\n",
    "\n",
    "perf1['RMSE'].append(scores_RMSE.mean())\n",
    "perf1['Expl_Var'].append(scores_Expl_Var.mean())\n",
    "\n",
    "print(\"Ada Boosting RMSE: %0.2f (+/- %0.2f)\" % ((scores_RMSE.mean()), (scores_RMSE.std() * 2)))\n",
    "print(\"Ada Boosting Expl Var: %0.2f (+/- %0.2f)\" % ((scores_Expl_Var.mean()), (scores_Expl_Var.std() * 2)))\n",
    "print(\"CV Runtime:\", time.time()-start_ts)"
   ]
  },
  {
   "cell_type": "markdown",
   "metadata": {},
   "source": [
    "## Ada Boosting - Stepwise Recursive Backwards Feature removal"
   ]
  },
  {
   "cell_type": "code",
   "execution_count": 78,
   "metadata": {},
   "outputs": [
    {
     "name": "stdout",
     "output_type": "stream",
     "text": [
      "Stepwise Recursive Backwards - Ada Boosting: \n",
      "[7 1 1 6 6 3 1 4 1 1 3 1 1 1 2 5 1 5 2 4 7 1 1 1]\n",
      "Selected ['boosts', 'damageDealt', 'killPlace', 'kills', 'killStreaks', 'matchDuration', 'maxPlace', 'numGroups', 'rideDistance', 'walkDistance', 'weaponsAcquired', 'winPoints']\n",
      "Features (total/selected): 24 12\n",
      "\n",
      "\n",
      "------------------------------------------------------------\n",
      "Ada Boosting RMSE: 0.10 (+/- 0.00)\n",
      "Ada Boosting Expl Var: 0.90 (+/- 0.01)\n",
      "CV Runtime: 321.2603693008423\n"
     ]
    }
   ],
   "source": [
    "##1) Run Feature Selection #######\n",
    "\n",
    "#Stepwise Recursive Backwards Feature removal\n",
    "rgr = AdaBoostRegressor(random_state=rand_st)\n",
    "sel = RFE(rgr, n_features_to_select=None, step=.1)\n",
    "print('Stepwise Recursive Backwards - Ada Boosting: ')\n",
    "\n",
    "fit_mod=sel.fit(data_train, target_train)\n",
    "print(sel.ranking_)\n",
    "sel_idx=fit_mod.get_support()      \n",
    "\n",
    "##2) Get lists of selected and non-selected features (names and indexes) #######\n",
    "temp=[]\n",
    "temp_idx=[]\n",
    "temp_del=[]\n",
    "for i in range(len(data_train[0])):\n",
    "    if sel_idx[i]==1:                                                           #Selected Features get added to temp header\n",
    "        temp.append(header[i+feat_start])\n",
    "        temp_idx.append(i)\n",
    "    else:                                                                       #Indexes of non-selected features get added to delete array\n",
    "        temp_del.append(i)\n",
    "print('Selected', temp)\n",
    "print('Features (total/selected):', len(data_train[0]), len(temp))\n",
    "print('\\n')\n",
    "\n",
    "\n",
    "##3) Filter selected columns from original dataset #########\n",
    "temp_header = header[0:feat_start]\n",
    "for field in temp:\n",
    "    temp_header.append(field)\n",
    "temp_data_train = np.delete(data_train, temp_del, axis=1)                                 #Deletes non-selected features by index)\n",
    "print('-'*60)\n",
    "\n",
    "##4) run model\n",
    "start_ts=time.time()\n",
    "rgr = AdaBoostRegressor(random_state=rand_st)\n",
    "scores = cross_validate(rgr, temp_data_train, target_train, scoring=scorers, cv=10)\n",
    "\n",
    "scores_RMSE = np.asarray([math.sqrt(-x) for x in scores['test_Neg_MSE']])                                                                        #Turns negative MSE scores into RMSE\n",
    "scores_Expl_Var = scores['test_expl_var']\n",
    "\n",
    "perf1['RMSE'].append(scores_RMSE.mean())\n",
    "perf1['Expl_Var'].append(scores_Expl_Var.mean())\n",
    "\n",
    "print(\"Ada Boosting RMSE: %0.2f (+/- %0.2f)\" % ((scores_RMSE.mean()), (scores_RMSE.std() * 2)))\n",
    "print(\"Ada Boosting Expl Var: %0.2f (+/- %0.2f)\" % ((scores_Expl_Var.mean()), (scores_Expl_Var.std() * 2)))\n",
    "print(\"CV Runtime:\", time.time()-start_ts)"
   ]
  },
  {
   "cell_type": "markdown",
   "metadata": {},
   "source": [
    "## Ada Boosting - Wrapper Selection"
   ]
  },
  {
   "cell_type": "code",
   "execution_count": 79,
   "metadata": {},
   "outputs": [
    {
     "name": "stdout",
     "output_type": "stream",
     "text": [
      "Wrapper Select: \n",
      "Selected ['boosts', 'killPlace', 'kills', 'killStreaks', 'maxPlace', 'numGroups', 'walkDistance']\n",
      "Features (total/selected): 24 7\n",
      "\n",
      "\n",
      "------------------------------------------------------------\n",
      "Ada Boosting RMSE: 0.10 (+/- 0.00)\n",
      "Ada Boosting Expl Var: 0.89 (+/- 0.01)\n",
      "CV Runtime: 203.94094109535217\n"
     ]
    }
   ],
   "source": [
    "##1) Run Feature Selection #######\n",
    "\n",
    "#Wrapper Select via model\n",
    "rgr = AdaBoostRegressor(random_state=rand_st)\n",
    "sel = SelectFromModel(rgr, prefit=False, threshold='mean')\n",
    "print ('Wrapper Select: ')\n",
    "\n",
    "fit_mod=sel.fit(data_train, target_train)    \n",
    "sel_idx=fit_mod.get_support()\n",
    "\n",
    "##2) Get lists of selected and non-selected features (names and indexes) #######\n",
    "temp=[]\n",
    "temp_idx=[]\n",
    "temp_del=[]\n",
    "for i in range(len(data_train[0])):\n",
    "    if sel_idx[i]==1:                                                           #Selected Features get added to temp header\n",
    "        temp.append(header[i+feat_start])\n",
    "        temp_idx.append(i)\n",
    "    else:                                                                       #Indexes of non-selected features get added to delete array\n",
    "        temp_del.append(i)\n",
    "print('Selected', temp)\n",
    "print('Features (total/selected):', len(data_train[0]), len(temp))\n",
    "print('\\n')\n",
    "\n",
    "\n",
    "##3) Filter selected columns from original dataset #########\n",
    "temp_header = header[0:feat_start]\n",
    "for field in temp:\n",
    "    temp_header.append(field)\n",
    "temp_data_train = np.delete(data_train, temp_del, axis=1)                                 #Deletes non-selected features by index)\n",
    "print('-'*60)\n",
    "\n",
    "\n",
    "##4) run model\n",
    "start_ts=time.time()\n",
    "rgr = AdaBoostRegressor(random_state=rand_st)\n",
    "scores = cross_validate(rgr, temp_data_train, target_train, scoring=scorers, cv=10)\n",
    "\n",
    "scores_RMSE = np.asarray([math.sqrt(-x) for x in scores['test_Neg_MSE']])                                                                        #Turns negative MSE scores into RMSE\n",
    "scores_Expl_Var = scores['test_expl_var']\n",
    "\n",
    "perf1['RMSE'].append(scores_RMSE.mean())\n",
    "perf1['Expl_Var'].append(scores_Expl_Var.mean())\n",
    "\n",
    "print(\"Ada Boosting RMSE: %0.2f (+/- %0.2f)\" % ((scores_RMSE.mean()), (scores_RMSE.std() * 2)))\n",
    "print(\"Ada Boosting Expl Var: %0.2f (+/- %0.2f)\" % ((scores_Expl_Var.mean()), (scores_Expl_Var.std() * 2)))\n",
    "print(\"CV Runtime:\", time.time()-start_ts)"
   ]
  },
  {
   "cell_type": "markdown",
   "metadata": {},
   "source": [
    "##################################################################################################################################################\n",
    "## NN Regressor - All Attributes"
   ]
  },
  {
   "cell_type": "code",
   "execution_count": 60,
   "metadata": {},
   "outputs": [
    {
     "name": "stdout",
     "output_type": "stream",
     "text": [
      "Neural Network RMSE: 0.06 (+/- 0.00)\n",
      "Neural Network Expl Var: 0.96 (+/- 0.00)\n",
      "CV Runtime: 76.03789019584656\n"
     ]
    }
   ],
   "source": [
    "start_ts=time.time()\n",
    "# rgr= MLPRegressor(activation='logistic',\n",
    "#                   solver = 'lbfgs',\n",
    "#                   alpha = 0.0001,\n",
    "#                   max_iter=50,\n",
    "#                   hidden_layer_sizes=(10,),\n",
    "#                   random_state=rand_st)\n",
    "rgr= MLPRegressor(random_state=rand_st)\n",
    "scores = cross_validate(rgr, data_train, target_train, scoring=scorers, cv=10)                                                                                                  \n",
    "\n",
    "scores_RMSE = np.asarray([math.sqrt(-x) for x in scores['test_Neg_MSE']])                                       #Turns negative MSE scores into RMSE\n",
    "scores_Expl_Var = scores['test_expl_var']\n",
    "\n",
    "perf1['RMSE'].append(np.array(scores_RMSE).mean())\n",
    "perf1['Expl_Var'].append(np.array(scores_Expl_Var).mean())\n",
    "\n",
    "print(\"Neural Network RMSE: %0.2f (+/- %0.2f)\" % ((scores_RMSE.mean()), (scores_RMSE.std() * 2)))\n",
    "print(\"Neural Network Expl Var: %0.2f (+/- %0.2f)\" % ((scores_Expl_Var.mean()), (scores_Expl_Var.std() * 2)))\n",
    "print(\"CV Runtime:\", time.time()-start_ts)"
   ]
  },
  {
   "cell_type": "markdown",
   "metadata": {},
   "source": [
    "## NN Regressor - Low Variance Filter"
   ]
  },
  {
   "cell_type": "code",
   "execution_count": 81,
   "metadata": {},
   "outputs": [
    {
     "name": "stdout",
     "output_type": "stream",
     "text": [
      "--LOW VARIANCE FILTER ON-- \n",
      "\n",
      "Selected ['killPlace', 'killPoints', 'killStreaks', 'matchDuration', 'rankPoints', 'teamKills', 'winPoints']\n",
      "Features (total, selected): 24 7\n",
      "\n",
      "\n",
      "Neural Network RMSE: 0.11 (+/- 0.00)\n",
      "Neural Network Expl Var: 0.86 (+/- 0.01)\n",
      "CV Runtime: 87.59606337547302\n"
     ]
    }
   ],
   "source": [
    "##1) Run Low Variance Filter #######\n",
    "\n",
    "#Stepwise Recursive Backwards Feature removal\n",
    "print('--LOW VARIANCE FILTER ON--', '\\n')\n",
    "#LV Threshold\n",
    "sel = VarianceThreshold(threshold=0.01)                                      #Removes any feature with less than 20% variance\n",
    "fit_mod=sel.fit(data_train)\n",
    "fitted=sel.transform(data_train)\n",
    "sel_idx=fit_mod.get_support()\n",
    "\n",
    "##2) Get lists of selected and non-selected features (names and indexes) #######\n",
    "temp=[]\n",
    "temp_idx=[]\n",
    "temp_del=[]\n",
    "for i in range(len(data_train[0])):\n",
    "    if sel_idx[i]==1:                                                           #Selected Features get added to temp header\n",
    "        temp.append(header[i+feat_start])\n",
    "        temp_idx.append(i)\n",
    "    else:                                                                       #Indexes of non-selected features get added to delete array\n",
    "        temp_del.append(i)\n",
    "\n",
    "print('Selected', temp)\n",
    "print('Features (total, selected):', len(data_train[0]), len(temp))\n",
    "print('\\n')\n",
    "\n",
    "##3) Filter selected columns from original dataset #########\n",
    "temp_header = header[0:feat_start]\n",
    "for field in temp:\n",
    "    temp_header.append(field)\n",
    "temp_data_train = np.delete(data_train, temp_del, axis=1)                                 #Deletes non-selected features by index\n",
    "\n",
    "##4) run model\n",
    "start_ts=time.time()\n",
    "rgr = MLPRegressor(random_state=rand_st)\n",
    "scores = cross_validate(rgr, temp_data_train, target_train, scoring=scorers, cv=10)\n",
    "\n",
    "scores_RMSE = np.asarray([math.sqrt(-x) for x in scores['test_Neg_MSE']])                                                                        #Turns negative MSE scores into RMSE\n",
    "scores_Expl_Var = scores['test_expl_var']\n",
    "\n",
    "perf1['RMSE'].append(scores_RMSE.mean())\n",
    "perf1['Expl_Var'].append(scores_Expl_Var.mean())\n",
    "\n",
    "print(\"Neural Network RMSE: %0.2f (+/- %0.2f)\" % ((scores_RMSE.mean()), (scores_RMSE.std() * 2)))\n",
    "print(\"Neural Network Expl Var: %0.2f (+/- %0.2f)\" % ((scores_Expl_Var.mean()), (scores_Expl_Var.std() * 2)))\n",
    "print(\"CV Runtime:\", time.time()-start_ts)"
   ]
  },
  {
   "cell_type": "markdown",
   "metadata": {},
   "source": [
    "## SVR"
   ]
  },
  {
   "cell_type": "code",
   "execution_count": 46,
   "metadata": {},
   "outputs": [],
   "source": [
    "# kernels = ['sigmoid', 'linear']\n",
    "# for k in kernels:\n",
    "#     #SciKit SVM - Cross Val\n",
    "#     start_ts=time.time()\n",
    "# #     rgr=SVR(cache_size=7000,\n",
    "# #             kernel=k,\n",
    "# #             gamma = 0.1,\n",
    "# #             C = 1.0)\n",
    "#     rgr=SVR(cache_size=7000)\n",
    "#     scores=cross_validate(rgr, data_train, target_train, scoring=scorers, cv=10)                                                                                                \n",
    "\n",
    "#     scores_RMSE = np.asarray([math.sqrt(-x) for x in scores['test_Neg_MSE']])                                       #Turns negative MSE scores into RMSE\n",
    "#     scores_Expl_Var = scores['test_expl_var']\n",
    "#     print('Kernel:', k)\n",
    "#     print(\"SVM RMSE:: %0.2f (+/- %0.2f)\" % ((scores_RMSE.mean()), (scores_RMSE.std() * 2)))\n",
    "#     print(\"SVM Expl Var: %0.2f (+/- %0.2f)\" % ((scores_Expl_Var.mean()), (scores_Expl_Var.std() * 2)))\n",
    "#     print(\"CV Runtime:\", time.time()-start_ts)\n",
    "#     print('-'*40)"
   ]
  },
  {
   "cell_type": "markdown",
   "metadata": {},
   "source": [
    "## Evaluate the deault models"
   ]
  },
  {
   "cell_type": "code",
   "execution_count": 47,
   "metadata": {},
   "outputs": [
    {
     "data": {
      "text/html": [
       "<div>\n",
       "<style scoped>\n",
       "    .dataframe tbody tr th:only-of-type {\n",
       "        vertical-align: middle;\n",
       "    }\n",
       "\n",
       "    .dataframe tbody tr th {\n",
       "        vertical-align: top;\n",
       "    }\n",
       "\n",
       "    .dataframe thead th {\n",
       "        text-align: right;\n",
       "    }\n",
       "</style>\n",
       "<table border=\"1\" class=\"dataframe\">\n",
       "  <thead>\n",
       "    <tr style=\"text-align: right;\">\n",
       "      <th></th>\n",
       "      <th>RMSE</th>\n",
       "      <th>Expl_Var</th>\n",
       "    </tr>\n",
       "  </thead>\n",
       "  <tbody>\n",
       "    <tr>\n",
       "      <th>Lasso Regression</th>\n",
       "      <td>0.295314</td>\n",
       "      <td>-2.220446e-17</td>\n",
       "    </tr>\n",
       "    <tr>\n",
       "      <th>Ridge Regression</th>\n",
       "      <td>0.136042</td>\n",
       "      <td>7.877693e-01</td>\n",
       "    </tr>\n",
       "    <tr>\n",
       "      <th>Decision Tree</th>\n",
       "      <td>0.152246</td>\n",
       "      <td>7.342134e-01</td>\n",
       "    </tr>\n",
       "    <tr>\n",
       "      <th>Random Forest</th>\n",
       "      <td>0.119099</td>\n",
       "      <td>8.373576e-01</td>\n",
       "    </tr>\n",
       "    <tr>\n",
       "      <th>Bagging Regressor</th>\n",
       "      <td>0.541256</td>\n",
       "      <td>-4.624118e-01</td>\n",
       "    </tr>\n",
       "    <tr>\n",
       "      <th>Gradient Boosting</th>\n",
       "      <td>0.109580</td>\n",
       "      <td>8.622996e-01</td>\n",
       "    </tr>\n",
       "    <tr>\n",
       "      <th>Ada Boosting</th>\n",
       "      <td>0.148409</td>\n",
       "      <td>7.620996e-01</td>\n",
       "    </tr>\n",
       "    <tr>\n",
       "      <th>Neural Network</th>\n",
       "      <td>0.111620</td>\n",
       "      <td>8.574685e-01</td>\n",
       "    </tr>\n",
       "  </tbody>\n",
       "</table>\n",
       "</div>"
      ],
      "text/plain": [
       "                       RMSE      Expl_Var\n",
       "Lasso Regression   0.295314 -2.220446e-17\n",
       "Ridge Regression   0.136042  7.877693e-01\n",
       "Decision Tree      0.152246  7.342134e-01\n",
       "Random Forest      0.119099  8.373576e-01\n",
       "Bagging Regressor  0.541256 -4.624118e-01\n",
       "Gradient Boosting  0.109580  8.622996e-01\n",
       "Ada Boosting       0.148409  7.620996e-01\n",
       "Neural Network     0.111620  8.574685e-01"
      ]
     },
     "execution_count": 47,
     "metadata": {},
     "output_type": "execute_result"
    }
   ],
   "source": [
    "import matplotlib.pyplot as plt\n",
    "import numpy as np\n",
    "import pandas as pd\n",
    "idx = ['Lasso Regression','Ridge Regression','Decision Tree','Random Forest','Bagging Regressor','Gradient Boosting','Ada Boosting','Neural Network']\n",
    "perf_df = pd.DataFrame(perf1, index=idx)\n",
    "\n",
    "perf_df"
   ]
  },
  {
   "cell_type": "code",
   "execution_count": 48,
   "metadata": {},
   "outputs": [
    {
     "data": {
      "text/plain": [
       "<matplotlib.legend.Legend at 0x3fff81881828>"
      ]
     },
     "execution_count": 48,
     "metadata": {},
     "output_type": "execute_result"
    },
    {
     "data": {
      "image/png": "[encoded data removed]",
      "text/plain": [
       "<Figure size 432x288 with 2 Axes>"
      ]
     },
     "metadata": {},
     "output_type": "display_data"
    }
   ],
   "source": [
    "def align_yaxis(ax1, v1, ax2, v2):\n",
    "    \"\"\"adjust ax2 ylimit so that v2 in ax2 is aligned to v1 in ax1\"\"\"\n",
    "    _, y1 = ax1.transData.transform((0, v1))\n",
    "    _, y2 = ax2.transData.transform((0, v2))\n",
    "    inv = ax2.transData.inverted()\n",
    "    _, dy = inv.transform((0, 0)) - inv.transform((0, y1-y2))\n",
    "    miny, maxy = ax2.get_ylim()\n",
    "    ax2.set_ylim(miny+dy, maxy+dy)\n",
    "\n",
    "fig = plt.figure() # Create matplotlib figure\n",
    "ax = fig.add_subplot(111) # Create matplotlib axes\n",
    "ax1 = ax.twinx() # Create another axes that shares the same x-axis as ax.\n",
    "\n",
    "width = 0.4\n",
    "\n",
    "perf_df.RMSE.plot(kind='bar', color='orange', ax=ax, width=width, position=1, label='RMSE')\n",
    "perf_df.Expl_Var.plot(kind='bar', color='green', ax=ax, width=width, position=0, label='Expl_Var')\n",
    "\n",
    "ax.set_xticklabels(idx,fontsize=14,rotation=55, horizontalalignment=\"right\")\n",
    "\n",
    "ax.axhline(y=0,linewidth=1, color='black')\n",
    "ax.set_ylabel('RMSE')\n",
    "ax1.set_ylabel('Expl_Var')\n",
    "align_yaxis(ax, 0, ax1, 0)\n",
    "ax.legend()"
   ]
  },
  {
   "cell_type": "code",
   "execution_count": 49,
   "metadata": {},
   "outputs": [
    {
     "data": {
      "text/plain": [
       "['Random Forest', 'Gradient Boosting', 'Neural Network']"
      ]
     },
     "execution_count": 49,
     "metadata": {},
     "output_type": "execute_result"
    }
   ],
   "source": [
    "['Random Forest','Gradient Boosting','Neural Network']"
   ]
  },
  {
   "cell_type": "markdown",
   "metadata": {},
   "source": [
    "***\n",
    "# Three best performing models 'Random Forest', 'Gradient Boosting', 'Neural Network'"
   ]
  },
  {
   "cell_type": "markdown",
   "metadata": {},
   "source": [
    "## Random Forest\n",
    "#### get rf data"
   ]
  },
  {
   "cell_type": "code",
   "execution_count": 86,
   "metadata": {},
   "outputs": [
    {
     "name": "stdout",
     "output_type": "stream",
     "text": [
      "[1, 6, 8, 9, 11, 12, 13, 14, 16, 18, 21, 22]\n"
     ]
    }
   ],
   "source": [
    "header = list(df)\n",
    "rf_selected = ['boosts', 'damageDealt', 'killPlace', 'kills', 'longestKill', 'matchDuration', 'maxPlace', 'numGroups', 'rankPoints', 'rideDistance', 'walkDistance', 'weaponsAcquired']\n",
    "find_col_index = lambda tot, select: [i for i in range(len(tot)) if tot[i] in select]\n",
    "idxs = find_col_index(header, Selected)\n",
    "print(idxs)\n",
    "rf_data_train = data_train[:,idxs].copy()\n",
    "rf_data_test = data_test[:,idxs].copy()"
   ]
  },
  {
   "cell_type": "markdown",
   "metadata": {},
   "source": [
    "## Grid Search"
   ]
  },
  {
   "cell_type": "code",
   "execution_count": 87,
   "metadata": {},
   "outputs": [
    {
     "name": "stdout",
     "output_type": "stream",
     "text": [
      "Parameter:  {'n_estimators': 5, 'max_depth': 5, 'min_samples_split': 100}\n",
      "Random Forest RMSE: 0.08543517377748303 (+/- 0.0006377865976418008)\n",
      "Random Forest Expl Var: 0.9163043249547066 (+/- 0.0010515098660914266)\n",
      "CV Runtime: 18.756714582443237\n",
      "----------------------------------------\n",
      "Parameter:  {'n_estimators': 5, 'max_depth': 5, 'min_samples_split': 300}\n",
      "Random Forest RMSE: 0.08543517377748303 (+/- 0.0006377865976418008)\n",
      "Random Forest Expl Var: 0.9163043249547066 (+/- 0.0010515098660914266)\n",
      "CV Runtime: 18.701860666275024\n",
      "----------------------------------------\n",
      "Parameter:  {'n_estimators': 5, 'max_depth': 5, 'min_samples_split': 500}\n",
      "Random Forest RMSE: 0.08543517377748303 (+/- 0.0006377865976418008)\n",
      "Random Forest Expl Var: 0.9163043249547066 (+/- 0.0010515098660914266)\n",
      "CV Runtime: 18.699308156967163\n",
      "----------------------------------------\n",
      "Parameter:  {'n_estimators': 5, 'max_depth': 20, 'min_samples_split': 100}\n",
      "Random Forest RMSE: 0.06221812758821229 (+/- 0.0004940832563494244)\n",
      "Random Forest Expl Var: 0.9556109938109796 (+/- 0.0007585325486547044)\n",
      "CV Runtime: 47.27346420288086\n",
      "----------------------------------------\n",
      "Parameter:  {'n_estimators': 5, 'max_depth': 20, 'min_samples_split': 300}\n",
      "Random Forest RMSE: 0.0627542365340092 (+/- 0.0003975782463175272)\n",
      "Random Forest Expl Var: 0.9548433518836159 (+/- 0.0004989544079546726)\n",
      "CV Runtime: 39.64938759803772\n",
      "----------------------------------------\n",
      "Parameter:  {'n_estimators': 5, 'max_depth': 20, 'min_samples_split': 500}\n",
      "Random Forest RMSE: 0.06429925827623408 (+/- 0.0005706330350264463)\n",
      "Random Forest Expl Var: 0.9525923251297292 (+/- 0.0007015118275739602)\n",
      "CV Runtime: 36.7762405872345\n",
      "----------------------------------------\n",
      "Parameter:  {'n_estimators': 5, 'max_depth': 30, 'min_samples_split': 100}\n",
      "Random Forest RMSE: 0.06225810449380013 (+/- 0.0005151520071860183)\n",
      "Random Forest Expl Var: 0.9555538567227051 (+/- 0.0007880752636182192)\n",
      "CV Runtime: 47.2764368057251\n",
      "----------------------------------------\n",
      "Parameter:  {'n_estimators': 5, 'max_depth': 30, 'min_samples_split': 300}\n",
      "Random Forest RMSE: 0.06275334248184801 (+/- 0.0003974960300506565)\n",
      "Random Forest Expl Var: 0.9548446380799106 (+/- 0.0004980201728638886)\n",
      "CV Runtime: 39.68470859527588\n",
      "----------------------------------------\n",
      "Parameter:  {'n_estimators': 5, 'max_depth': 30, 'min_samples_split': 500}\n",
      "Random Forest RMSE: 0.06429925827623408 (+/- 0.0005706330350264463)\n",
      "Random Forest Expl Var: 0.9525923251297292 (+/- 0.0007015118275739602)\n",
      "CV Runtime: 36.669464111328125\n",
      "----------------------------------------\n",
      "Parameter:  {'n_estimators': 15, 'max_depth': 5, 'min_samples_split': 100}\n",
      "Random Forest RMSE: 0.08543517377748303 (+/- 0.0006377865976417902)\n",
      "Random Forest Expl Var: 0.9163043249547066 (+/- 0.0010515098660914266)\n",
      "CV Runtime: 55.798622608184814\n",
      "----------------------------------------\n",
      "Parameter:  {'n_estimators': 15, 'max_depth': 5, 'min_samples_split': 300}\n",
      "Random Forest RMSE: 0.08543517377748303 (+/- 0.0006377865976417902)\n",
      "Random Forest Expl Var: 0.9163043249547066 (+/- 0.0010515098660914266)\n",
      "CV Runtime: 56.09013772010803\n",
      "----------------------------------------\n",
      "Parameter:  {'n_estimators': 15, 'max_depth': 5, 'min_samples_split': 500}\n",
      "Random Forest RMSE: 0.08543517377748303 (+/- 0.0006377865976417902)\n",
      "Random Forest Expl Var: 0.9163043249547066 (+/- 0.0010515098660914266)\n",
      "CV Runtime: 55.79234075546265\n",
      "----------------------------------------\n",
      "Parameter:  {'n_estimators': 15, 'max_depth': 20, 'min_samples_split': 100}\n",
      "Random Forest RMSE: 0.06222235012741356 (+/- 0.0004971265765373943)\n",
      "Random Forest Expl Var: 0.9556049872723434 (+/- 0.0007564514089875014)\n",
      "CV Runtime: 141.66330337524414\n",
      "----------------------------------------\n",
      "Parameter:  {'n_estimators': 15, 'max_depth': 20, 'min_samples_split': 300}\n",
      "Random Forest RMSE: 0.06275306461909048 (+/- 0.0003958247684699911)\n",
      "Random Forest Expl Var: 0.9548450461862565 (+/- 0.0004946284817920189)\n",
      "CV Runtime: 119.8739984035492\n",
      "----------------------------------------\n",
      "Parameter:  {'n_estimators': 15, 'max_depth': 20, 'min_samples_split': 500}\n",
      "Random Forest RMSE: 0.06429910123249512 (+/- 0.0005698701309632323)\n",
      "Random Forest Expl Var: 0.9525925557698562 (+/- 0.0007009154748538897)\n",
      "CV Runtime: 110.31484150886536\n",
      "----------------------------------------\n",
      "Parameter:  {'n_estimators': 15, 'max_depth': 30, 'min_samples_split': 100}\n",
      "Random Forest RMSE: 0.06225915288610062 (+/- 0.0005215039949456716)\n",
      "Random Forest Expl Var: 0.9555523592857625 (+/- 0.0007934466785526155)\n",
      "CV Runtime: 141.1449863910675\n",
      "----------------------------------------\n",
      "Parameter:  {'n_estimators': 15, 'max_depth': 30, 'min_samples_split': 300}\n",
      "Random Forest RMSE: 0.06275350466451018 (+/- 0.00039592907593283494)\n",
      "Random Forest Expl Var: 0.954844409403206 (+/- 0.0004953891216519083)\n",
      "CV Runtime: 118.52386498451233\n",
      "----------------------------------------\n",
      "Parameter:  {'n_estimators': 15, 'max_depth': 30, 'min_samples_split': 500}\n",
      "Random Forest RMSE: 0.06429910123249512 (+/- 0.0005698701309632323)\n",
      "Random Forest Expl Var: 0.9525925557698562 (+/- 0.0007009154748538897)\n",
      "CV Runtime: 109.44509887695312\n",
      "----------------------------------------\n",
      "Parameter:  {'n_estimators': 25, 'max_depth': 5, 'min_samples_split': 100}\n",
      "Random Forest RMSE: 0.08543517377748303 (+/- 0.0006377865976417939)\n",
      "Random Forest Expl Var: 0.9163043249547066 (+/- 0.0010515098660914266)\n",
      "CV Runtime: 92.43746638298035\n",
      "----------------------------------------\n",
      "Parameter:  {'n_estimators': 25, 'max_depth': 5, 'min_samples_split': 300}\n",
      "Random Forest RMSE: 0.08543517377748303 (+/- 0.0006377865976417939)\n",
      "Random Forest Expl Var: 0.9163043249547066 (+/- 0.0010515098660914266)\n",
      "CV Runtime: 92.4598479270935\n",
      "----------------------------------------\n",
      "Parameter:  {'n_estimators': 25, 'max_depth': 5, 'min_samples_split': 500}\n",
      "Random Forest RMSE: 0.08543517377748303 (+/- 0.0006377865976417939)\n",
      "Random Forest Expl Var: 0.9163043249547066 (+/- 0.0010515098660914266)\n",
      "CV Runtime: 92.45878028869629\n",
      "----------------------------------------\n",
      "Parameter:  {'n_estimators': 25, 'max_depth': 20, 'min_samples_split': 100}\n",
      "Random Forest RMSE: 0.062221756615282994 (+/- 0.0004965186427763653)\n",
      "Random Forest Expl Var: 0.9556058339617003 (+/- 0.0007560309254925128)\n",
      "CV Runtime: 234.87006282806396\n",
      "----------------------------------------\n",
      "Parameter:  {'n_estimators': 25, 'max_depth': 20, 'min_samples_split': 300}\n",
      "Random Forest RMSE: 0.0627529017356873 (+/- 0.000395623832136535)\n",
      "Random Forest Expl Var: 0.954845283612227 (+/- 0.0004933255321074855)\n",
      "CV Runtime: 198.16073060035706\n",
      "----------------------------------------\n",
      "Parameter:  {'n_estimators': 25, 'max_depth': 20, 'min_samples_split': 500}\n",
      "Random Forest RMSE: 0.06429839804684208 (+/- 0.0005703215570510726)\n",
      "Random Forest Expl Var: 0.9525935900622878 (+/- 0.0007020397188441636)\n",
      "CV Runtime: 184.97188591957092\n",
      "----------------------------------------\n",
      "Parameter:  {'n_estimators': 25, 'max_depth': 30, 'min_samples_split': 100}\n",
      "Random Forest RMSE: 0.06225817376586307 (+/- 0.0005184940775355879)\n",
      "Random Forest Expl Var: 0.9555537634878697 (+/- 0.0007901765159247749)\n",
      "CV Runtime: 250.72215676307678\n",
      "----------------------------------------\n",
      "Parameter:  {'n_estimators': 25, 'max_depth': 30, 'min_samples_split': 300}\n",
      "Random Forest RMSE: 0.0627536983649107 (+/- 0.00039576586332225853)\n",
      "Random Forest Expl Var: 0.9548441326771192 (+/- 0.0004944805920094733)\n",
      "CV Runtime: 211.4539303779602\n",
      "----------------------------------------\n",
      "Parameter:  {'n_estimators': 25, 'max_depth': 30, 'min_samples_split': 500}\n",
      "Random Forest RMSE: 0.06429839804684208 (+/- 0.0005703215570510726)\n",
      "Random Forest Expl Var: 0.9525935900622878 (+/- 0.0007020397188441636)\n",
      "CV Runtime: 196.08597683906555\n",
      "----------------------------------------\n"
     ]
    }
   ],
   "source": [
    "# param_name = 'n_estimators'\n",
    "# # param_list = [10, 30, 50, 70, 90, 110] ## no change\n",
    "# param_list = [5,10,15,20,25,30]\n",
    "\n",
    "# param_name = 'max_depth'\n",
    "# param_list = [5,10,15,20,25,30]\n",
    "\n",
    "# param_name = 'min_samples_split'\n",
    "# # param_list = [2,4,6,8,10,12] ## no change  (RMSE: 0.11, Expl Var: 0.87)\n",
    "# # param_list = [10, 30, 50, 70, 90, 110] ## no change\n",
    "# param_list = [100, 200, 300, 400, 500] ## \n",
    "\n",
    "# param_name = 'bootstrap'\n",
    "# param_list = [True, False] ## false is slighty better\n",
    "\n",
    "'''Already try above independently'''\n",
    "\n",
    "param1_name = 'n_estimators'\n",
    "n_estimators = [5,15,25]\n",
    "\n",
    "param2_name = 'max_depth'\n",
    "max_depth = [5,20,30]\n",
    "\n",
    "param3_name = 'min_samples_split'\n",
    "min_samples_split = [100, 300, 500]\n",
    "\n",
    "for p1 in n_estimators:\n",
    "    for p2 in max_depth:\n",
    "        for p3 in min_samples_split:\n",
    "            start_ts=time.time()\n",
    "            rgr = RandomForestRegressor(bootstrap=False, random_state=rand_st)\n",
    "            d = {param1_name:p1, param2_name:p2,param3_name:p3}\n",
    "            rgr.set_params(**d)\n",
    "            scores = cross_validate(rgr, rf_data_train, target_train, scoring=scorers, cv=5)                                                                                                  \n",
    "\n",
    "            scores_RMSE = np.asarray([math.sqrt(-x) for x in scores['test_Neg_MSE']])                                       #Turns negative MSE scores into RMSE\n",
    "            scores_Expl_Var = scores['test_expl_var']\n",
    "            print('Parameter: ', d)\n",
    "            print(\"Random Forest RMSE: {} (+/- {})\".format(scores_RMSE.mean(), scores_RMSE.std()*2))\n",
    "            print(\"Random Forest Expl Var: {} (+/- {})\".format(scores_Expl_Var.mean(), scores_Expl_Var.std()*2))\n",
    "            print(\"CV Runtime:\", time.time()-start_ts)\n",
    "            print('-'*40)"
   ]
  },
  {
   "cell_type": "markdown",
   "metadata": {},
   "source": [
    "###############################################################################################################\n",
    "## Gradient Boosting\n",
    "#### get gb data"
   ]
  },
  {
   "cell_type": "code",
   "execution_count": 88,
   "metadata": {},
   "outputs": [
    {
     "name": "stdout",
     "output_type": "stream",
     "text": [
      "[1, 6, 8, 9, 11, 12, 13, 14, 16, 18, 21, 22]\n"
     ]
    }
   ],
   "source": [
    "header = list(df)\n",
    "gb_selected = ['boosts', 'killPlace', 'kills', 'killStreaks', 'matchDuration', 'maxPlace', 'numGroups', 'rankPoints', 'rideDistance', 'swimDistance', 'walkDistance', 'weaponsAcquired']\n",
    "find_col_index = lambda tot, select: [i for i in range(len(tot)) if tot[i] in select]\n",
    "idxs = find_col_index(header, gb_selected)\n",
    "print(idxs)\n",
    "gb_data_train = data_train[:,idxs].copy()\n",
    "gb_data_test = data_test[:,idxs].copy()"
   ]
  },
  {
   "cell_type": "markdown",
   "metadata": {},
   "source": [
    "## Grid Search"
   ]
  },
  {
   "cell_type": "code",
   "execution_count": 91,
   "metadata": {},
   "outputs": [
    {
     "name": "stdout",
     "output_type": "stream",
     "text": [
      "Parameter:  {'n_estimators': 50, 'subsample': 0.2, 'max_features': 0.4}\n",
      "Gradient Boosting RMSE: 0.0745424162469996 (+/- 0.0013194739040930177)\n",
      "Gradient Boosting Expl Var: 0.9363006836737059 (+/- 0.0018909690509728565)\n",
      "CV Runtime: 41.62801671028137\n",
      "----------------------------------------\n",
      "Parameter:  {'n_estimators': 50, 'subsample': 0.2, 'max_features': 0.6}\n",
      "Gradient Boosting RMSE: 0.07268438457124708 (+/- 0.0007772985049290327)\n",
      "Gradient Boosting Expl Var: 0.939441458645909 (+/- 0.0009931478662758388)\n",
      "CV Runtime: 49.23215341567993\n",
      "----------------------------------------\n",
      "Parameter:  {'n_estimators': 50, 'subsample': 0.2, 'max_features': 1}\n",
      "Gradient Boosting RMSE: 0.10159894362459773 (+/- 0.00401713095866006)\n",
      "Gradient Boosting Expl Var: 0.881612755104998 (+/- 0.00969083491129041)\n",
      "CV Runtime: 33.251896381378174\n",
      "----------------------------------------\n",
      "Parameter:  {'n_estimators': 50, 'subsample': 0.6, 'max_features': 0.4}\n",
      "Gradient Boosting RMSE: 0.07455778692046347 (+/- 0.001417352145164759)\n",
      "Gradient Boosting Expl Var: 0.9362747486139146 (+/- 0.002040163136676841)\n",
      "CV Runtime: 56.25451874732971\n",
      "----------------------------------------\n",
      "Parameter:  {'n_estimators': 50, 'subsample': 0.6, 'max_features': 0.6}\n",
      "Gradient Boosting RMSE: 0.07262220644807094 (+/- 0.0006638968752649334)\n",
      "Gradient Boosting Expl Var: 0.939545634389578 (+/- 0.00072984454144615)\n",
      "CV Runtime: 69.74713611602783\n",
      "----------------------------------------\n",
      "Parameter:  {'n_estimators': 50, 'subsample': 0.6, 'max_features': 1}\n",
      "Gradient Boosting RMSE: 0.10214346470770563 (+/- 0.003469178435396262)\n",
      "Gradient Boosting Expl Var: 0.8803450215632329 (+/- 0.008780286814054692)\n",
      "CV Runtime: 41.56350874900818\n",
      "----------------------------------------\n",
      "Parameter:  {'n_estimators': 50, 'subsample': 1, 'max_features': 0.4}\n",
      "Gradient Boosting RMSE: 0.07582553416250558 (+/- 0.0011479935064962607)\n",
      "Gradient Boosting Expl Var: 0.9340930452982258 (+/- 0.0018318364658806963)\n",
      "CV Runtime: 59.35928177833557\n",
      "----------------------------------------\n",
      "Parameter:  {'n_estimators': 50, 'subsample': 1, 'max_features': 0.6}\n",
      "Gradient Boosting RMSE: 0.07264755397542598 (+/- 0.001330685187208274)\n",
      "Gradient Boosting Expl Var: 0.9395058710338257 (+/- 0.0019053519911106944)\n",
      "CV Runtime: 77.24114274978638\n",
      "----------------------------------------\n",
      "Parameter:  {'n_estimators': 50, 'subsample': 1, 'max_features': 1}\n",
      "Gradient Boosting RMSE: 0.10237120978343814 (+/- 0.0009655910873450686)\n",
      "Gradient Boosting Expl Var: 0.8798446353245651 (+/- 0.0026156767209672502)\n",
      "CV Runtime: 40.14220309257507\n",
      "----------------------------------------\n",
      "Parameter:  {'n_estimators': 100, 'subsample': 0.2, 'max_features': 0.4}\n",
      "Gradient Boosting RMSE: 0.06908040300964127 (+/- 0.0012699840729061274)\n",
      "Gradient Boosting Expl Var: 0.9453120289325432 (+/- 0.0016921745033066967)\n",
      "CV Runtime: 78.47076416015625\n",
      "----------------------------------------\n",
      "Parameter:  {'n_estimators': 100, 'subsample': 0.2, 'max_features': 0.6}\n",
      "Gradient Boosting RMSE: 0.06734051612144362 (+/- 0.0008477964427622101)\n",
      "Gradient Boosting Expl Var: 0.9480307208958092 (+/- 0.0009648400478244654)\n",
      "CV Runtime: 91.92552947998047\n",
      "----------------------------------------\n",
      "Parameter:  {'n_estimators': 100, 'subsample': 0.2, 'max_features': 1}\n",
      "Gradient Boosting RMSE: 0.08769790592459506 (+/- 0.0026316092695159187)\n",
      "Gradient Boosting Expl Var: 0.9118394135219947 (+/- 0.0051473025338568896)\n",
      "CV Runtime: 63.48232436180115\n",
      "----------------------------------------\n",
      "Parameter:  {'n_estimators': 100, 'subsample': 0.6, 'max_features': 0.4}\n",
      "Gradient Boosting RMSE: 0.0692641955669838 (+/- 0.0012226294298040435)\n",
      "Gradient Boosting Expl Var: 0.9450209364775416 (+/- 0.001631467442436372)\n",
      "CV Runtime: 104.05151534080505\n",
      "----------------------------------------\n",
      "Parameter:  {'n_estimators': 100, 'subsample': 0.6, 'max_features': 0.6}\n",
      "Gradient Boosting RMSE: 0.06704472599535796 (+/- 0.0008173038079215639)\n",
      "Gradient Boosting Expl Var: 0.9484868598433003 (+/- 0.000945808478333864)\n",
      "CV Runtime: 128.36428046226501\n",
      "----------------------------------------\n",
      "Parameter:  {'n_estimators': 100, 'subsample': 0.6, 'max_features': 1}\n",
      "Gradient Boosting RMSE: 0.08820026039911617 (+/- 0.0009405171750413612)\n",
      "Gradient Boosting Expl Var: 0.910836724965951 (+/- 0.00225773430464782)\n",
      "CV Runtime: 79.35554957389832\n",
      "----------------------------------------\n",
      "Parameter:  {'n_estimators': 100, 'subsample': 1, 'max_features': 0.4}\n",
      "Gradient Boosting RMSE: 0.06987024721544002 (+/- 0.0007362016295655962)\n",
      "Gradient Boosting Expl Var: 0.9440555139980578 (+/- 0.0009164389917617357)\n",
      "CV Runtime: 109.59985947608948\n",
      "----------------------------------------\n",
      "Parameter:  {'n_estimators': 100, 'subsample': 1, 'max_features': 0.6}\n",
      "Gradient Boosting RMSE: 0.06691430930396551 (+/- 0.0008799305856480835)\n",
      "Gradient Boosting Expl Var: 0.9486880284978122 (+/- 0.0010639689330941813)\n",
      "CV Runtime: 141.12547159194946\n",
      "----------------------------------------\n",
      "Parameter:  {'n_estimators': 100, 'subsample': 1, 'max_features': 1}\n",
      "Gradient Boosting RMSE: 0.0847377804086312 (+/- 0.0006369093620391321)\n",
      "Gradient Boosting Expl Var: 0.9176773868233399 (+/- 0.001222106932287658)\n",
      "CV Runtime: 77.27957510948181\n",
      "----------------------------------------\n",
      "Parameter:  {'n_estimators': 150, 'subsample': 0.2, 'max_features': 0.4}\n",
      "Gradient Boosting RMSE: 0.0658163605698185 (+/- 0.0012959660805492036)\n",
      "Gradient Boosting Expl Var: 0.9503553118254529 (+/- 0.0016779805551466085)\n",
      "CV Runtime: 115.09305739402771\n",
      "----------------------------------------\n",
      "Parameter:  {'n_estimators': 150, 'subsample': 0.2, 'max_features': 0.6}\n",
      "Gradient Boosting RMSE: 0.06407569468241855 (+/- 0.0005859088793206506)\n",
      "Gradient Boosting Expl Var: 0.9529458600964034 (+/- 0.0005784610887660418)\n",
      "CV Runtime: 134.29212737083435\n",
      "----------------------------------------\n",
      "Parameter:  {'n_estimators': 150, 'subsample': 0.2, 'max_features': 1}\n",
      "Gradient Boosting RMSE: 0.08058959788631559 (+/- 0.002464133774578654)\n",
      "Gradient Boosting Expl Var: 0.9255651011654811 (+/- 0.004252782637885045)\n",
      "CV Runtime: 93.9967200756073\n",
      "----------------------------------------\n",
      "Parameter:  {'n_estimators': 150, 'subsample': 0.6, 'max_features': 0.4}\n",
      "Gradient Boosting RMSE: 0.06609019388680479 (+/- 0.0007915508635954089)\n",
      "Gradient Boosting Expl Var: 0.9499443582567493 (+/- 0.0010043768811112343)\n",
      "CV Runtime: 149.77608728408813\n",
      "----------------------------------------\n",
      "Parameter:  {'n_estimators': 150, 'subsample': 0.6, 'max_features': 0.6}\n",
      "Gradient Boosting RMSE: 0.06406311653725669 (+/- 0.0011636130120688069)\n",
      "Gradient Boosting Expl Var: 0.9529649631864995 (+/- 0.0014144186437965041)\n",
      "CV Runtime: 182.24706411361694\n",
      "----------------------------------------\n",
      "Parameter:  {'n_estimators': 150, 'subsample': 0.6, 'max_features': 1}\n",
      "Gradient Boosting RMSE: 0.08065979798809013 (+/- 0.001248957671395476)\n",
      "Gradient Boosting Expl Var: 0.9254479480248665 (+/- 0.0022176783751558585)\n",
      "CV Runtime: 116.0369017124176\n",
      "----------------------------------------\n",
      "Parameter:  {'n_estimators': 150, 'subsample': 1, 'max_features': 0.4}\n",
      "Gradient Boosting RMSE: 0.06645422295373901 (+/- 0.0007391137878748156)\n",
      "Gradient Boosting Expl Var: 0.9493929587911623 (+/- 0.0009211820516137845)\n",
      "CV Runtime: 161.10364890098572\n",
      "----------------------------------------\n",
      "Parameter:  {'n_estimators': 150, 'subsample': 1, 'max_features': 0.6}\n",
      "Gradient Boosting RMSE: 0.06372601695674573 (+/- 0.0006856006458687503)\n",
      "Gradient Boosting Expl Var: 0.9534587714381273 (+/- 0.0007578076882940859)\n",
      "CV Runtime: 198.31300115585327\n",
      "----------------------------------------\n",
      "Parameter:  {'n_estimators': 150, 'subsample': 1, 'max_features': 1}\n",
      "Gradient Boosting RMSE: 0.07824610760789556 (+/- 0.0004975282312478819)\n",
      "Gradient Boosting Expl Var: 0.9298232837948304 (+/- 0.0006248130791634111)\n",
      "CV Runtime: 111.04867434501648\n",
      "----------------------------------------\n"
     ]
    }
   ],
   "source": [
    "# param_name = 'n_estimators'\n",
    "# param_list = [50,100,150,200]  ## no too much change\n",
    "\n",
    "# param_name = 'loss'\n",
    "# param_list = ['ls', 'lad', 'huber', 'quantile'] ## huber is slightly better\n",
    "\n",
    "# param_name = 'subsample'\n",
    "# param_list = [0.2, 0.4, 0.6, 0.8, 1]  ## no too much change\n",
    "\n",
    "# param_name = 'max_features' \n",
    "# param_list = [0.2, 0.4, 0.6, 0.8, 1] ## 0.2 is singnificantly worse\n",
    "\n",
    "'''Already try above independently'''\n",
    "\n",
    "param1_name = 'n_estimators'\n",
    "n_estimators = [50,100,150]\n",
    "\n",
    "param2_name = 'subsample'\n",
    "subsample = [0.2, 0.6, 1]\n",
    "\n",
    "param3_name = 'max_features'\n",
    "max_features = [0.4, 0.6, 1]\n",
    "\n",
    "for p1 in n_estimators:\n",
    "    for p2 in subsample:\n",
    "        for p3 in max_features:\n",
    "            start_ts=time.time()\n",
    "            rgr = GradientBoostingRegressor(loss='huber', random_state=rand_st)\n",
    "            d = {param1_name:p1, param2_name:p2, param3_name:p3}\n",
    "            rgr.set_params(**d)\n",
    "            scores = cross_validate(rgr, gb_data_train, target_train, scoring=scorers, cv=5)                                                                                                  \n",
    "\n",
    "            scores_RMSE = np.asarray([math.sqrt(-x) for x in scores['test_Neg_MSE']])                                       #Turns negative MSE scores into RMSE\n",
    "            scores_Expl_Var = scores['test_expl_var']\n",
    "            print('Parameter: ', d)\n",
    "            print(\"Gradient Boosting RMSE: {} (+/- {})\".format(scores_RMSE.mean(), scores_RMSE.std()*2))\n",
    "            print(\"Gradient Boosting Expl Var: {} (+/- {})\".format(scores_Expl_Var.mean(), scores_Expl_Var.std()*2))\n",
    "            print(\"CV Runtime:\", time.time()-start_ts)\n",
    "            print('-'*40)"
   ]
  },
  {
   "cell_type": "markdown",
   "metadata": {},
   "source": [
    "###################################################################################################################################################################\n",
    "## NN Regressor - Grid Search"
   ]
  },
  {
   "cell_type": "code",
   "execution_count": 100,
   "metadata": {},
   "outputs": [
    {
     "name": "stdout",
     "output_type": "stream",
     "text": [
      "Parameter:  {'alpha': 0.001, 'learning_rate_init': 0.01, 'hidden_layer_sizes': (30,)}\n",
      "Neural Network RMSE: 0.0609606782737814 (+/- 0.005168757047597565)\n",
      "Neural Network Expl Var: 0.9601510455346997 (+/- 0.0006937432584643589)\n",
      "CV Runtime: 17.680362939834595\n",
      "----------------------------------------\n",
      "Parameter:  {'alpha': 0.001, 'learning_rate_init': 0.01, 'hidden_layer_sizes': (100,)}\n",
      "Neural Network RMSE: 0.05987325982450979 (+/- 0.0016585066091586345)\n",
      "Neural Network Expl Var: 0.9604468599943286 (+/- 0.0008635101462022288)\n",
      "CV Runtime: 27.37159299850464\n",
      "----------------------------------------\n",
      "Parameter:  {'alpha': 0.001, 'learning_rate_init': 0.01, 'hidden_layer_sizes': (170,)}\n",
      "Neural Network RMSE: 0.06095877443261884 (+/- 0.003839552157319702)\n",
      "Neural Network Expl Var: 0.960101749581417 (+/- 0.0026507380009245613)\n",
      "CV Runtime: 38.53404927253723\n",
      "----------------------------------------\n",
      "Parameter:  {'alpha': 0.001, 'learning_rate_init': 0.01, 'hidden_layer_sizes': (15, 15)}\n",
      "Neural Network RMSE: 0.060381780437212464 (+/- 0.003018776457359919)\n",
      "Neural Network Expl Var: 0.9604730816259719 (+/- 0.0008992978794598552)\n",
      "CV Runtime: 20.83643889427185\n",
      "----------------------------------------\n",
      "Parameter:  {'alpha': 0.001, 'learning_rate_init': 0.01, 'hidden_layer_sizes': (15, 15, 15)}\n",
      "Neural Network RMSE: 0.05915822586057205 (+/- 0.0025862634832253774)\n",
      "Neural Network Expl Var: 0.9610642290047797 (+/- 0.0008558191625401576)\n",
      "CV Runtime: 30.07183313369751\n",
      "----------------------------------------\n",
      "Parameter:  {'alpha': 0.001, 'learning_rate_init': 0.01, 'hidden_layer_sizes': (20, 20, 20)}\n",
      "Neural Network RMSE: 0.05950655615494625 (+/- 0.001838290085351478)\n",
      "Neural Network Expl Var: 0.9613826299133738 (+/- 0.0007218686530656137)\n",
      "CV Runtime: 34.09311008453369\n",
      "----------------------------------------\n",
      "Parameter:  {'alpha': 0.001, 'learning_rate_init': 0.005, 'hidden_layer_sizes': (30,)}\n",
      "Neural Network RMSE: 0.059958933544209295 (+/- 0.0014133927220629351)\n",
      "Neural Network Expl Var: 0.9608490906281965 (+/- 0.0002096722802047638)\n",
      "CV Runtime: 17.205981254577637\n",
      "----------------------------------------\n",
      "Parameter:  {'alpha': 0.001, 'learning_rate_init': 0.005, 'hidden_layer_sizes': (100,)}\n",
      "Neural Network RMSE: 0.05959776990329885 (+/- 0.003894163142429669)\n",
      "Neural Network Expl Var: 0.9622010623358088 (+/- 0.000826800248744646)\n",
      "CV Runtime: 32.22095465660095\n",
      "----------------------------------------\n",
      "Parameter:  {'alpha': 0.001, 'learning_rate_init': 0.005, 'hidden_layer_sizes': (170,)}\n",
      "Neural Network RMSE: 0.05890858285102872 (+/- 0.0023351750672600197)\n",
      "Neural Network Expl Var: 0.9611620653500152 (+/- 0.0013930022223458292)\n",
      "CV Runtime: 41.29548120498657\n",
      "----------------------------------------\n",
      "Parameter:  {'alpha': 0.001, 'learning_rate_init': 0.005, 'hidden_layer_sizes': (15, 15)}\n",
      "Neural Network RMSE: 0.060194646133865715 (+/- 0.004423570553799038)\n",
      "Neural Network Expl Var: 0.960635609513408 (+/- 0.001340093765663259)\n",
      "CV Runtime: 20.82335376739502\n",
      "----------------------------------------\n",
      "Parameter:  {'alpha': 0.001, 'learning_rate_init': 0.005, 'hidden_layer_sizes': (15, 15, 15)}\n",
      "Neural Network RMSE: 0.05807788254947196 (+/- 0.002041700847507091)\n",
      "Neural Network Expl Var: 0.9620016294089015 (+/- 0.0013978925993312797)\n",
      "CV Runtime: 32.15475606918335\n",
      "----------------------------------------\n",
      "Parameter:  {'alpha': 0.001, 'learning_rate_init': 0.005, 'hidden_layer_sizes': (20, 20, 20)}\n",
      "Neural Network RMSE: 0.05855455966381153 (+/- 0.0016563288608092055)\n",
      "Neural Network Expl Var: 0.9621031961909937 (+/- 0.0016269686412238391)\n",
      "CV Runtime: 33.9400155544281\n",
      "----------------------------------------\n",
      "Parameter:  {'alpha': 0.001, 'learning_rate_init': 0.001, 'hidden_layer_sizes': (30,)}\n",
      "Neural Network RMSE: 0.0586953313097191 (+/- 0.0006996254281986763)\n",
      "Neural Network Expl Var: 0.9606455027386174 (+/- 0.0004726699433017834)\n",
      "CV Runtime: 23.138592004776\n",
      "----------------------------------------\n",
      "Parameter:  {'alpha': 0.001, 'learning_rate_init': 0.001, 'hidden_layer_sizes': (100,)}\n",
      "Neural Network RMSE: 0.057477012215191546 (+/- 0.001013600632284522)\n",
      "Neural Network Expl Var: 0.962685662419877 (+/- 0.00042332304066823074)\n",
      "CV Runtime: 34.05698823928833\n",
      "----------------------------------------\n",
      "Parameter:  {'alpha': 0.001, 'learning_rate_init': 0.001, 'hidden_layer_sizes': (170,)}\n",
      "Neural Network RMSE: 0.05702821573961192 (+/- 0.00047381311677389916)\n",
      "Neural Network Expl Var: 0.9630899339520953 (+/- 0.00024954023916679534)\n",
      "CV Runtime: 49.71673798561096\n",
      "----------------------------------------\n",
      "Parameter:  {'alpha': 0.001, 'learning_rate_init': 0.001, 'hidden_layer_sizes': (15, 15)}\n",
      "Neural Network RMSE: 0.05929463344353263 (+/- 0.0003541085771878664)\n",
      "Neural Network Expl Var: 0.9599957085491623 (+/- 0.0006216506893013826)\n",
      "CV Runtime: 26.250102519989014\n",
      "----------------------------------------\n",
      "Parameter:  {'alpha': 0.001, 'learning_rate_init': 0.001, 'hidden_layer_sizes': (15, 15, 15)}\n",
      "Neural Network RMSE: 0.059338897046643066 (+/- 0.0012655006403571997)\n",
      "Neural Network Expl Var: 0.9604507879531272 (+/- 0.0011389933838264234)\n",
      "CV Runtime: 37.394092082977295\n",
      "----------------------------------------\n",
      "Parameter:  {'alpha': 0.001, 'learning_rate_init': 0.001, 'hidden_layer_sizes': (20, 20, 20)}\n",
      "Neural Network RMSE: 0.058030263584493626 (+/- 0.0011053401717471055)\n",
      "Neural Network Expl Var: 0.961724242318812 (+/- 0.0016564487884639428)\n",
      "CV Runtime: 42.8119752407074\n",
      "----------------------------------------\n",
      "Parameter:  {'alpha': 0.0005, 'learning_rate_init': 0.01, 'hidden_layer_sizes': (30,)}\n",
      "Neural Network RMSE: 0.06122431575577283 (+/- 0.004599966104231778)\n",
      "Neural Network Expl Var: 0.960248137626835 (+/- 0.000679367563018623)\n",
      "CV Runtime: 18.68485736846924\n",
      "----------------------------------------\n",
      "Parameter:  {'alpha': 0.0005, 'learning_rate_init': 0.01, 'hidden_layer_sizes': (100,)}\n",
      "Neural Network RMSE: 0.05906547346256099 (+/- 0.001770733317947064)\n",
      "Neural Network Expl Var: 0.9609589682968451 (+/- 0.0013568855121744916)\n",
      "CV Runtime: 27.34829044342041\n",
      "----------------------------------------\n",
      "Parameter:  {'alpha': 0.0005, 'learning_rate_init': 0.01, 'hidden_layer_sizes': (170,)}\n",
      "Neural Network RMSE: 0.05998673842382042 (+/- 0.003403090202881203)\n",
      "Neural Network Expl Var: 0.9603367227578705 (+/- 0.0031096015238637493)\n",
      "CV Runtime: 38.563204765319824\n",
      "----------------------------------------\n",
      "Parameter:  {'alpha': 0.0005, 'learning_rate_init': 0.01, 'hidden_layer_sizes': (15, 15)}\n",
      "Neural Network RMSE: 0.060228173023768136 (+/- 0.0029313921425834022)\n",
      "Neural Network Expl Var: 0.9608950894680455 (+/- 0.0007814068157882112)\n",
      "CV Runtime: 20.83645248413086\n",
      "----------------------------------------\n",
      "Parameter:  {'alpha': 0.0005, 'learning_rate_init': 0.01, 'hidden_layer_sizes': (15, 15, 15)}\n",
      "Neural Network RMSE: 0.0588024133530811 (+/- 0.0015484869110334435)\n",
      "Neural Network Expl Var: 0.9616474414703562 (+/- 0.0005166019205266733)\n",
      "CV Runtime: 29.880089044570923\n",
      "----------------------------------------\n",
      "Parameter:  {'alpha': 0.0005, 'learning_rate_init': 0.01, 'hidden_layer_sizes': (20, 20, 20)}\n",
      "Neural Network RMSE: 0.058842942954614764 (+/- 0.001499377314248946)\n",
      "Neural Network Expl Var: 0.9617430585952311 (+/- 0.0007736676142279264)\n",
      "CV Runtime: 33.8580219745636\n",
      "----------------------------------------\n",
      "Parameter:  {'alpha': 0.0005, 'learning_rate_init': 0.005, 'hidden_layer_sizes': (30,)}\n",
      "Neural Network RMSE: 0.05896494166539788 (+/- 0.0014246693228535073)\n",
      "Neural Network Expl Var: 0.9612767761244102 (+/- 0.000612355359161013)\n",
      "CV Runtime: 17.68188762664795\n",
      "----------------------------------------\n",
      "Parameter:  {'alpha': 0.0005, 'learning_rate_init': 0.005, 'hidden_layer_sizes': (100,)}\n",
      "Neural Network RMSE: 0.05871149598412434 (+/- 0.004736015257200523)\n",
      "Neural Network Expl Var: 0.962544480657332 (+/- 0.0009267364742834659)\n",
      "CV Runtime: 31.210190057754517\n",
      "----------------------------------------\n",
      "Parameter:  {'alpha': 0.0005, 'learning_rate_init': 0.005, 'hidden_layer_sizes': (170,)}\n",
      "Neural Network RMSE: 0.058558895665149824 (+/- 0.0022348250246064195)\n",
      "Neural Network Expl Var: 0.9614915355210039 (+/- 0.0017348942727513216)\n",
      "CV Runtime: 41.15306568145752\n",
      "----------------------------------------\n",
      "Parameter:  {'alpha': 0.0005, 'learning_rate_init': 0.005, 'hidden_layer_sizes': (15, 15)}\n",
      "Neural Network RMSE: 0.060044255878015415 (+/- 0.0043117362590636915)\n",
      "Neural Network Expl Var: 0.9609606422668179 (+/- 0.0010279659750466754)\n",
      "CV Runtime: 20.773974657058716\n",
      "----------------------------------------\n",
      "Parameter:  {'alpha': 0.0005, 'learning_rate_init': 0.005, 'hidden_layer_sizes': (15, 15, 15)}\n",
      "Neural Network RMSE: 0.05798225007157613 (+/- 0.0015765458883242485)\n",
      "Neural Network Expl Var: 0.9619432381530725 (+/- 0.0013414001905480148)\n",
      "CV Runtime: 31.039950847625732\n",
      "----------------------------------------\n",
      "Parameter:  {'alpha': 0.0005, 'learning_rate_init': 0.005, 'hidden_layer_sizes': (20, 20, 20)}\n",
      "Neural Network RMSE: 0.05831006797552084 (+/- 0.0016595873563116379)\n",
      "Neural Network Expl Var: 0.9623099415050751 (+/- 0.0009815721853225154)\n",
      "CV Runtime: 33.90781760215759\n",
      "----------------------------------------\n",
      "Parameter:  {'alpha': 0.0005, 'learning_rate_init': 0.001, 'hidden_layer_sizes': (30,)}\n",
      "Neural Network RMSE: 0.05857111869628055 (+/- 0.0006094989453932736)\n",
      "Neural Network Expl Var: 0.960802668228394 (+/- 0.00046706315305353814)\n",
      "CV Runtime: 23.265511751174927\n",
      "----------------------------------------\n",
      "Parameter:  {'alpha': 0.0005, 'learning_rate_init': 0.001, 'hidden_layer_sizes': (100,)}\n",
      "Neural Network RMSE: 0.05751551455973667 (+/- 0.0015608626862515518)\n",
      "Neural Network Expl Var: 0.962860346361355 (+/- 0.00042178617564643626)\n",
      "CV Runtime: 34.08084058761597\n",
      "----------------------------------------\n",
      "Parameter:  {'alpha': 0.0005, 'learning_rate_init': 0.001, 'hidden_layer_sizes': (170,)}\n",
      "Neural Network RMSE: 0.05698105656841629 (+/- 0.0006130898661569419)\n",
      "Neural Network Expl Var: 0.9632601740136246 (+/- 0.00046379865971246713)\n",
      "CV Runtime: 49.75502848625183\n",
      "----------------------------------------\n",
      "Parameter:  {'alpha': 0.0005, 'learning_rate_init': 0.001, 'hidden_layer_sizes': (15, 15)}\n",
      "Neural Network RMSE: 0.0588860813723987 (+/- 0.00044268592763442924)\n",
      "Neural Network Expl Var: 0.9604574622538415 (+/- 0.000693248274687969)\n",
      "CV Runtime: 27.04626202583313\n",
      "----------------------------------------\n",
      "Parameter:  {'alpha': 0.0005, 'learning_rate_init': 0.001, 'hidden_layer_sizes': (15, 15, 15)}\n",
      "Neural Network RMSE: 0.059023156717136184 (+/- 0.0011982375373404102)\n",
      "Neural Network Expl Var: 0.9604173847763473 (+/- 0.0012372509182655947)\n",
      "CV Runtime: 38.50447630882263\n",
      "----------------------------------------\n",
      "Parameter:  {'alpha': 0.0005, 'learning_rate_init': 0.001, 'hidden_layer_sizes': (20, 20, 20)}\n",
      "Neural Network RMSE: 0.058547601665041485 (+/- 0.0012919535851431106)\n",
      "Neural Network Expl Var: 0.9614676523174515 (+/- 0.0012903588039042773)\n",
      "CV Runtime: 45.126773834228516\n",
      "----------------------------------------\n",
      "Parameter:  {'alpha': 0.0001, 'learning_rate_init': 0.01, 'hidden_layer_sizes': (30,)}\n",
      "Neural Network RMSE: 0.059851203284199905 (+/- 0.0031783730314963745)\n",
      "Neural Network Expl Var: 0.9612909515438208 (+/- 0.0014377504681336052)\n",
      "CV Runtime: 18.791205406188965\n",
      "----------------------------------------\n",
      "Parameter:  {'alpha': 0.0001, 'learning_rate_init': 0.01, 'hidden_layer_sizes': (100,)}\n",
      "Neural Network RMSE: 0.058836897016999255 (+/- 0.0023821835144573716)\n",
      "Neural Network Expl Var: 0.9618220988689259 (+/- 0.0016950453864738666)\n",
      "CV Runtime: 27.393388271331787\n",
      "----------------------------------------\n",
      "Parameter:  {'alpha': 0.0001, 'learning_rate_init': 0.01, 'hidden_layer_sizes': (170,)}\n",
      "Neural Network RMSE: 0.059337107486600225 (+/- 0.0033572527391362464)\n",
      "Neural Network Expl Var: 0.9613620655451681 (+/- 0.0020202661409861973)\n",
      "CV Runtime: 38.775856018066406\n",
      "----------------------------------------\n",
      "Parameter:  {'alpha': 0.0001, 'learning_rate_init': 0.01, 'hidden_layer_sizes': (15, 15)}\n",
      "Neural Network RMSE: 0.058666599403673525 (+/- 0.0020162350313202597)\n",
      "Neural Network Expl Var: 0.9614002180687977 (+/- 0.0010350158980364202)\n",
      "CV Runtime: 23.215044021606445\n",
      "----------------------------------------\n",
      "Parameter:  {'alpha': 0.0001, 'learning_rate_init': 0.01, 'hidden_layer_sizes': (15, 15, 15)}\n",
      "Neural Network RMSE: 0.05779116223249815 (+/- 0.0008432042482194406)\n",
      "Neural Network Expl Var: 0.9622500665332272 (+/- 0.0004072807322634916)\n",
      "CV Runtime: 30.88711190223694\n",
      "----------------------------------------\n",
      "Parameter:  {'alpha': 0.0001, 'learning_rate_init': 0.01, 'hidden_layer_sizes': (20, 20, 20)}\n",
      "Neural Network RMSE: 0.058682687677257275 (+/- 0.0019549646497002264)\n",
      "Neural Network Expl Var: 0.9618983634653381 (+/- 0.0003007213399278002)\n",
      "CV Runtime: 33.80318832397461\n",
      "----------------------------------------\n",
      "Parameter:  {'alpha': 0.0001, 'learning_rate_init': 0.005, 'hidden_layer_sizes': (30,)}\n",
      "Neural Network RMSE: 0.05926460313845592 (+/- 0.001903704083583295)\n",
      "Neural Network Expl Var: 0.9614047573850251 (+/- 0.0008122007575151488)\n",
      "CV Runtime: 17.130091428756714\n",
      "----------------------------------------\n",
      "Parameter:  {'alpha': 0.0001, 'learning_rate_init': 0.005, 'hidden_layer_sizes': (100,)}\n",
      "Neural Network RMSE: 0.05831396980941025 (+/- 0.004575169279579109)\n",
      "Neural Network Expl Var: 0.9629575748831254 (+/- 0.0009665454527409185)\n",
      "CV Runtime: 32.223689794540405\n",
      "----------------------------------------\n",
      "Parameter:  {'alpha': 0.0001, 'learning_rate_init': 0.005, 'hidden_layer_sizes': (170,)}\n",
      "Neural Network RMSE: 0.057343672135803644 (+/- 0.0008831679724284164)\n",
      "Neural Network Expl Var: 0.9623945993316383 (+/- 0.0012717385654707767)\n",
      "CV Runtime: 41.22459578514099\n",
      "----------------------------------------\n",
      "Parameter:  {'alpha': 0.0001, 'learning_rate_init': 0.005, 'hidden_layer_sizes': (15, 15)}\n",
      "Neural Network RMSE: 0.05965050630430756 (+/- 0.004006944722227985)\n",
      "Neural Network Expl Var: 0.961682194384489 (+/- 0.0008390232345762078)\n",
      "CV Runtime: 20.799063682556152\n",
      "----------------------------------------\n",
      "Parameter:  {'alpha': 0.0001, 'learning_rate_init': 0.005, 'hidden_layer_sizes': (15, 15, 15)}\n",
      "Neural Network RMSE: 0.0575060915531365 (+/- 0.001642575780404108)\n",
      "Neural Network Expl Var: 0.96268879704801 (+/- 0.001143561655402428)\n",
      "CV Runtime: 33.160245418548584\n",
      "----------------------------------------\n",
      "Parameter:  {'alpha': 0.0001, 'learning_rate_init': 0.005, 'hidden_layer_sizes': (20, 20, 20)}\n",
      "Neural Network RMSE: 0.057890955406799116 (+/- 0.0021015460022849285)\n",
      "Neural Network Expl Var: 0.9629835356098913 (+/- 0.0012425704065314705)\n",
      "CV Runtime: 35.05810499191284\n",
      "----------------------------------------\n",
      "Parameter:  {'alpha': 0.0001, 'learning_rate_init': 0.001, 'hidden_layer_sizes': (30,)}\n",
      "Neural Network RMSE: 0.05864831999475103 (+/- 0.0007461113471990452)\n",
      "Neural Network Expl Var: 0.9607352853295383 (+/- 0.0009417595306144799)\n",
      "CV Runtime: 22.5194149017334\n",
      "----------------------------------------\n",
      "Parameter:  {'alpha': 0.0001, 'learning_rate_init': 0.001, 'hidden_layer_sizes': (100,)}\n",
      "Neural Network RMSE: 0.05716668882073813 (+/- 0.0008122715297193574)\n",
      "Neural Network Expl Var: 0.9629643016171441 (+/- 0.0004932146811988464)\n",
      "CV Runtime: 34.02174139022827\n",
      "----------------------------------------\n",
      "Parameter:  {'alpha': 0.0001, 'learning_rate_init': 0.001, 'hidden_layer_sizes': (170,)}\n",
      "Neural Network RMSE: 0.05702713727970159 (+/- 0.0007018908384167496)\n",
      "Neural Network Expl Var: 0.9633089555905461 (+/- 0.0006188850099480166)\n",
      "CV Runtime: 49.725058794021606\n",
      "----------------------------------------\n",
      "Parameter:  {'alpha': 0.0001, 'learning_rate_init': 0.001, 'hidden_layer_sizes': (15, 15)}\n",
      "Neural Network RMSE: 0.05897397550419846 (+/- 0.000808425363258892)\n",
      "Neural Network Expl Var: 0.9605208979933353 (+/- 0.0010492328802550156)\n",
      "CV Runtime: 27.84541893005371\n",
      "----------------------------------------\n",
      "Parameter:  {'alpha': 0.0001, 'learning_rate_init': 0.001, 'hidden_layer_sizes': (15, 15, 15)}\n",
      "Neural Network RMSE: 0.05865133833932651 (+/- 0.0010294816329955543)\n",
      "Neural Network Expl Var: 0.9609838979583347 (+/- 0.0007303751963981448)\n",
      "CV Runtime: 42.72784733772278\n",
      "----------------------------------------\n",
      "Parameter:  {'alpha': 0.0001, 'learning_rate_init': 0.001, 'hidden_layer_sizes': (20, 20, 20)}\n",
      "Neural Network RMSE: 0.058840696642987037 (+/- 0.0011327543742480608)\n",
      "Neural Network Expl Var: 0.9610210073758747 (+/- 0.001265986132302372)\n",
      "CV Runtime: 42.924025774002075\n",
      "----------------------------------------\n"
     ]
    }
   ],
   "source": [
    "# param_name = 'activation'\n",
    "# param_list = ['identity','logistic','tanh','relu']  ## relu is the best\n",
    "\n",
    "# param_name = 'solver'\n",
    "# param_list = ['sgd','adam']  ## adam is better\n",
    "\n",
    "# param_name = 'alpha'\n",
    "# param_list = [1, 0.1, 0.01, 0.001, 0.0001, 0.00001]  ## 0.001~0.0001 has the optimum\n",
    "\n",
    "# param_name = 'learning_rate_init'\n",
    "# param_list = [1, 0.1, 0.01, 0.001, 0.0001, 0.00001] ## 0.01~0.001 has the optimum\n",
    "\n",
    "# param_name = 'hidden_layer_sizes'\n",
    "# param_list = [(30,), (70,),(100,),(130,),(170,),(200,), (230,), (260,), (300,)] ## no too much change\n",
    "\n",
    "# param_name = 'hidden_layer_sizes'\n",
    "# param_list = [(15,15,), (30,30,),(60,60,),(90,90,)] ## no change\n",
    "\n",
    "# param_name = 'hidden_layer_sizes'\n",
    "# param_list = [(5,5,5,), (10,10,10,),(15,15,15,),(20,20,20,)]  ## (15,15,15,),(20,20,20,)\n",
    "\n",
    "'''Already try above independently'''\n",
    "\n",
    "param1_name = 'alpha'\n",
    "alpha = [0.001, 0.0005, 0.0001]\n",
    "\n",
    "param2_name = 'learning_rate_init'\n",
    "learning_rate_init = [0.01, 0.005, 0.001]\n",
    "\n",
    "param3_name = 'hidden_layer_sizes'\n",
    "hidden_layer_sizes = [(30,), (100,), (170,),\n",
    "                      (15,15,),\n",
    "                      (15,15,15,), (20,20,20,)]\n",
    "\n",
    "for p1 in alpha:\n",
    "    for p2 in learning_rate_init:\n",
    "        for p3 in hidden_layer_sizes:\n",
    "            start_ts=time.time()\n",
    "            rgr = MLPRegressor(activation='relu',\n",
    "                               solver='adam',\n",
    "                               random_state=rand_st)\n",
    "            d = {param1_name:p1, param2_name:p2, param3_name:p3}\n",
    "            rgr.set_params(**d)\n",
    "            scores = cross_validate(rgr, data_train, target_train, scoring=scorers, cv=5)                                                                                                  \n",
    "\n",
    "            scores_RMSE = np.asarray([math.sqrt(-x) for x in scores['test_Neg_MSE']])                                       #Turns negative MSE scores into RMSE\n",
    "            scores_Expl_Var = scores['test_expl_var']\n",
    "            print('Parameter: ', d)\n",
    "            print(\"Neural Network RMSE: {} (+/- {})\".format(scores_RMSE.mean(), scores_RMSE.std()*2))\n",
    "            print(\"Neural Network Expl Var: {} (+/- {})\".format(scores_Expl_Var.mean(), scores_Expl_Var.std()*2))\n",
    "            print(\"CV Runtime:\", time.time()-start_ts)\n",
    "            print('-'*40)"
   ]
  },
  {
   "cell_type": "markdown",
   "metadata": {},
   "source": [
    "###############################################################################################################################################################\n",
    "## Test the models"
   ]
  },
  {
   "cell_type": "code",
   "execution_count": 92,
   "metadata": {},
   "outputs": [],
   "source": [
    "from sklearn.metrics import mean_squared_error, explained_variance_score\n",
    "from math import sqrt\n",
    "import re, json"
   ]
  },
  {
   "cell_type": "markdown",
   "metadata": {},
   "source": [
    "## Random Forest"
   ]
  },
  {
   "cell_type": "code",
   "execution_count": 93,
   "metadata": {},
   "outputs": [
    {
     "name": "stdout",
     "output_type": "stream",
     "text": [
      "[1, 2, 6, 8, 10, 11, 12, 13, 14, 16, 21, 22]\n"
     ]
    }
   ],
   "source": [
    "header = list(df)\n",
    "rf_selected = ['boosts', 'damageDealt', 'killPlace', 'kills', 'longestKill', 'matchDuration', 'maxPlace', 'numGroups', 'rankPoints', 'rideDistance', 'walkDistance', 'weaponsAcquired']\n",
    "find_col_index = lambda tot, select: [i for i in range(len(tot)) if tot[i] in select]\n",
    "idxs = find_col_index(header, rf_selected)\n",
    "print(idxs)\n",
    "rf_data_train = data_train[:,idxs].copy()\n",
    "rf_data_test = data_test[:,idxs].copy()"
   ]
  },
  {
   "cell_type": "code",
   "execution_count": 94,
   "metadata": {},
   "outputs": [
    {
     "data": {
      "text/plain": [
       "\"\\nmin_rmse:  0.06221812758821229\\nmax_expl_var:  0.9556109938109796\\n\\nParameter:  {'n_estimators': 5, 'max_depth': 20, 'min_samples_split': 100}\\nRMSE: 0.06221812758821229\\nExpl_var: 0.9556109938109796\\n----------------------------------------\\n\""
      ]
     },
     "execution_count": 94,
     "metadata": {},
     "output_type": "execute_result"
    }
   ],
   "source": [
    "'''\n",
    "min_rmse:  0.06221812758821229\n",
    "max_expl_var:  0.9556109938109796\n",
    "\n",
    "Parameter:  {'n_estimators': 5, 'max_depth': 20, 'min_samples_split': 100}\n",
    "RMSE: 0.06221812758821229\n",
    "Expl_var: 0.9556109938109796\n",
    "----------------------------------------\n",
    "'''"
   ]
  },
  {
   "cell_type": "code",
   "execution_count": 97,
   "metadata": {},
   "outputs": [
    {
     "name": "stdout",
     "output_type": "stream",
     "text": [
      "Testing:\n",
      "Parameters:  <bound method BaseEstimator.get_params of RandomForestRegressor(bootstrap=False, criterion='mse', max_depth=20,\n",
      "           max_features='auto', max_leaf_nodes=None,\n",
      "           min_impurity_decrease=0.0, min_impurity_split=None,\n",
      "           min_samples_leaf=1, min_samples_split=100,\n",
      "           min_weight_fraction_leaf=0.0, n_estimators=5, n_jobs=1,\n",
      "           oob_score=False, random_state=920, verbose=0, warm_start=False)>\n",
      "Random Forest RMSE:  0.06219631009785581\n",
      "Random Forest Expl Var:  0.9554408621038495\n",
      "CV Runtime: 15.422634601593018\n",
      "----------------------------------------\n"
     ]
    }
   ],
   "source": [
    "best_parmas = {'n_estimators': 5, 'max_depth': 20, 'min_samples_split': 100}\n",
    "start_ts=time.time()\n",
    "rgr = RandomForestRegressor(bootstrap=False, random_state=rand_st)\n",
    "rgr.set_params(**best_parmas)\n",
    "rgr.fit(rf_data_train, target_train)\n",
    "pred = rgr.predict(rf_data_test)\n",
    "\n",
    "rmse = sqrt(mean_squared_error(target_test, pred))\n",
    "expl_var = explained_variance_score(target_test, pred)\n",
    "\n",
    "print('Testing:')\n",
    "print('Parameters: ', rgr.get_params)\n",
    "print(\"Random Forest RMSE: \", rmse)\n",
    "print(\"Random Forest Expl Var: \", expl_var)\n",
    "print(\"CV Runtime:\", time.time()-start_ts)\n",
    "print('-'*40)"
   ]
  },
  {
   "cell_type": "markdown",
   "metadata": {},
   "source": [
    "## Gradient Boosting"
   ]
  },
  {
   "cell_type": "code",
   "execution_count": 96,
   "metadata": {},
   "outputs": [
    {
     "name": "stdout",
     "output_type": "stream",
     "text": [
      "[1, 6, 8, 9, 11, 12, 13, 14, 16, 18, 21, 22]\n"
     ]
    }
   ],
   "source": [
    "header = list(df)\n",
    "gb_selected = ['boosts', 'killPlace', 'kills', 'killStreaks', 'matchDuration', 'maxPlace', 'numGroups', 'rankPoints', 'rideDistance', 'swimDistance', 'walkDistance', 'weaponsAcquired']\n",
    "find_col_index = lambda tot, select: [i for i in range(len(tot)) if tot[i] in select]\n",
    "idxs = find_col_index(header, gb_selected)\n",
    "print(idxs)\n",
    "gb_data_train = data_train[:,idxs].copy()\n",
    "gb_data_test = data_test[:,idxs].copy()"
   ]
  },
  {
   "cell_type": "code",
   "execution_count": 78,
   "metadata": {},
   "outputs": [],
   "source": [
    "'''\n",
    "min_rmse:  0.06372601695674573\n",
    "max_expl_var:  0.9534587714381273\n",
    "\n",
    "Parameter:  {'n_estimators': 150, 'subsample': 1, 'max_features': 0.6}\n",
    "RMSE: 0.06372601695674573\n",
    "Expl_var: 0.9534587714381273\t\n",
    "----------------------------------------\n",
    "'''"
   ]
  },
  {
   "cell_type": "code",
   "execution_count": 98,
   "metadata": {},
   "outputs": [
    {
     "name": "stdout",
     "output_type": "stream",
     "text": [
      "Testing:\n",
      "Parameters:  <bound method BaseEstimator.get_params of GradientBoostingRegressor(alpha=0.9, criterion='friedman_mse', init=None,\n",
      "             learning_rate=0.1, loss='huber', max_depth=3,\n",
      "             max_features=0.6, max_leaf_nodes=None,\n",
      "             min_impurity_decrease=0.0, min_impurity_split=None,\n",
      "             min_samples_leaf=1, min_samples_split=2,\n",
      "             min_weight_fraction_leaf=0.0, n_estimators=150,\n",
      "             presort='auto', random_state=920, subsample=1, verbose=0,\n",
      "             warm_start=False)>\n",
      "Gradient Boosting RMSE:  0.06421418800958437\n",
      "Gradient Boosting Expl Var:  0.9525425229470118\n",
      "CV Runtime: 60.28284978866577\n",
      "----------------------------------------\n"
     ]
    }
   ],
   "source": [
    "best_parmas = {'n_estimators': 150, 'subsample': 1, 'max_features': 0.6}\n",
    "\n",
    "start_ts=time.time()\n",
    "rgr = GradientBoostingRegressor(loss='huber', random_state=rand_st)\n",
    "rgr.set_params(**best_parmas)\n",
    "rgr.fit(gb_data_train, target_train)\n",
    "pred = rgr.predict(gb_data_test)\n",
    "\n",
    "rmse = sqrt(mean_squared_error(target_test, pred))\n",
    "expl_var = explained_variance_score(target_test, pred)\n",
    "\n",
    "print('Testing:')\n",
    "print('Parameters: ', rgr.get_params)\n",
    "print(\"Gradient Boosting RMSE: \", rmse)\n",
    "print(\"Gradient Boosting Expl Var: \", expl_var)\n",
    "print(\"CV Runtime:\", time.time()-start_ts)\n",
    "print('-'*40)"
   ]
  },
  {
   "cell_type": "markdown",
   "metadata": {},
   "source": [
    "## Neural Network"
   ]
  },
  {
   "cell_type": "code",
   "execution_count": null,
   "metadata": {},
   "outputs": [],
   "source": [
    "'''\n",
    "min_rmse:  0.05698105656841629\n",
    "max_expl_var:  0.9633089555905461\n",
    "\n",
    "Parameter:  {'alpha': 0.0005, 'learning_rate_init': 0.001, 'hidden_layer_sizes': (170,)}\n",
    "RMSE: 0.05698105656841629\n",
    "Expl_var: 0.9632601740136246\t\n",
    "----------------------------------------\n",
    "'''"
   ]
  },
  {
   "cell_type": "code",
   "execution_count": 104,
   "metadata": {},
   "outputs": [
    {
     "name": "stdout",
     "output_type": "stream",
     "text": [
      "Testing:\n",
      "Parameters:  <bound method BaseEstimator.get_params of MLPRegressor(activation='relu', alpha=0.0005, batch_size='auto', beta_1=0.9,\n",
      "       beta_2=0.999, early_stopping=False, epsilon=1e-08,\n",
      "       hidden_layer_sizes=(170,), learning_rate='constant',\n",
      "       learning_rate_init=0.001, max_iter=200, momentum=0.9,\n",
      "       nesterovs_momentum=True, power_t=0.5, random_state=920,\n",
      "       shuffle=True, solver='adam', tol=0.0001, validation_fraction=0.1,\n",
      "       verbose=False, warm_start=False)>\n",
      "Neural Network RMSE:  0.05777639868387338\n",
      "Neural Network Expl Var:  0.9619937657547195\n",
      "CV Runtime: 11.65286374092102\n",
      "----------------------------------------\n",
      "Testing:\n",
      "Parameters:  <bound method BaseEstimator.get_params of MLPRegressor(activation='relu', alpha=0.0001, batch_size='auto', beta_1=0.9,\n",
      "       beta_2=0.999, early_stopping=False, epsilon=1e-08,\n",
      "       hidden_layer_sizes=(170,), learning_rate='constant',\n",
      "       learning_rate_init=0.001, max_iter=200, momentum=0.9,\n",
      "       nesterovs_momentum=True, power_t=0.5, random_state=920,\n",
      "       shuffle=True, solver='adam', tol=0.0001, validation_fraction=0.1,\n",
      "       verbose=False, warm_start=False)>\n",
      "Neural Network RMSE:  0.0582820143360914\n",
      "Neural Network Expl Var:  0.9622875482338461\n",
      "CV Runtime: 11.568873643875122\n",
      "----------------------------------------\n"
     ]
    }
   ],
   "source": [
    "configs = {'Parameter1':  {'alpha': 0.0005, 'learning_rate_init': 0.001, 'hidden_layer_sizes': (170,)},\n",
    "            'Parameter2':  {'alpha': 0.0001, 'learning_rate_init': 0.001, 'hidden_layer_sizes': (170,)}}\n",
    "\n",
    "for _, best_parmas in configs.items():\n",
    "    start_ts=time.time()\n",
    "    rgr = MLPRegressor(activation='relu',\n",
    "                            solver='adam',\n",
    "                            random_state=rand_st)\n",
    "    rgr.set_params(**best_parmas)\n",
    "    rgr.fit(data_train, target_train)\n",
    "    pred = rgr.predict(data_test)\n",
    "\n",
    "    rmse = sqrt(mean_squared_error(target_test, pred))\n",
    "    expl_var = explained_variance_score(target_test, pred)\n",
    "\n",
    "    print('Testing:')\n",
    "    print('Parameters: ', rgr.get_params)\n",
    "    print(\"Neural Network RMSE: \", rmse)\n",
    "    print(\"Neural Network Expl Var: \", expl_var)\n",
    "    print(\"CV Runtime:\", time.time()-start_ts)\n",
    "    print('-'*40)"
   ]
  },
  {
   "cell_type": "code",
   "execution_count": null,
   "metadata": {},
   "outputs": [],
   "source": []
  }
 ],
 "metadata": {
  "kernelspec": {
   "display_name": "Python 3",
   "language": "python",
   "name": "python3"
  },
  "language_info": {
   "codemirror_mode": {
    "name": "ipython",
    "version": 3
   },
   "file_extension": ".py",
   "mimetype": "text/x-python",
   "name": "python",
   "nbconvert_exporter": "python",
   "pygments_lexer": "ipython3",
   "version": "3.6.5"
  }
 },
 "nbformat": 4,
 "nbformat_minor": 2
}
